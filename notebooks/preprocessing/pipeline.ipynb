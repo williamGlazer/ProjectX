{
 "metadata": {
  "language_info": {
   "codemirror_mode": {
    "name": "ipython",
    "version": 3
   },
   "file_extension": ".py",
   "mimetype": "text/x-python",
   "name": "python",
   "nbconvert_exporter": "python",
   "pygments_lexer": "ipython3",
   "version": "3.7.6-final"
  },
  "orig_nbformat": 2,
  "kernelspec": {
   "name": "python3",
   "display_name": "Python 3"
  }
 },
 "nbformat": 4,
 "nbformat_minor": 2,
 "cells": [
  {
   "cell_type": "code",
   "execution_count": 1,
   "metadata": {},
   "outputs": [],
   "source": [
    "import sklearn\n",
    "import pandas as pd \n",
    "import seaborn as sns\n",
    "import numpy as np \n",
    "import matplotlib.pyplot as plt\n",
    "from pandas_profiling import ProfileReport\n",
    "from functools import partial\n",
    "from pathlib import Path\n",
    "import os\n",
    "from pandas import Timedelta"
   ]
  },
  {
   "cell_type": "code",
   "execution_count": 2,
   "metadata": {},
   "outputs": [],
   "source": [
    "df_covid = pd.read_csv(\"../../data/covid/usa_urban_no_density_smoothed.csv\")\n",
    "df_covid['date'] = pd.to_datetime(df_covid['date'], infer_datetime_format=True)"
   ]
  },
  {
   "cell_type": "code",
   "execution_count": 3,
   "metadata": {},
   "outputs": [],
   "source": [
    "# Période de 7 jours entre 3 et 10 jours avant la période étudiée de cas de COVID => 10 jours entre le début de la période CAMS et le début de la période COVID\n",
    "delta = Timedelta(10,\"day\")\n",
    "\n",
    "df_cams = pd.read_csv(\"../../data/cams_data.csv\")\n",
    "df_cams['time'] = pd.to_datetime(df_cams['time'], infer_datetime_format=True)\n",
    "df_cams['time'] = df_cams['time'].apply(lambda x : x.date() + delta)"
   ]
  },
  {
   "cell_type": "code",
   "execution_count": 4,
   "metadata": {},
   "outputs": [
    {
     "output_type": "stream",
     "name": "stdout",
     "text": [
      "<class 'pandas.core.frame.DataFrame'>\nRangeIndex: 34521 entries, 0 to 34520\nData columns (total 11 columns):\n #   Column                          Non-Null Count  Dtype         \n---  ------                          --------------  -----         \n 0   date                            34521 non-null  datetime64[ns]\n 1   mobility_transit_stations       34521 non-null  float64       \n 2   mobility_retail_and_recreation  34521 non-null  float64       \n 3   mobility_grocery_and_pharmacy   34521 non-null  float64       \n 4   mobility_parks                  34521 non-null  float64       \n 5   mobility_residential            34521 non-null  float64       \n 6   mobility_workplaces             34521 non-null  float64       \n 7   county_id                       34521 non-null  int64         \n 8   smoothed_cumul                  34521 non-null  float64       \n 9   smoothed_d1                     34521 non-null  float64       \n 10  smoothed_d2                     34521 non-null  float64       \ndtypes: datetime64[ns](1), float64(9), int64(1)\nmemory usage: 2.9 MB\n"
     ]
    }
   ],
   "source": [
    "df_covid.info()"
   ]
  },
  {
   "cell_type": "code",
   "execution_count": 5,
   "metadata": {},
   "outputs": [
    {
     "output_type": "execute_result",
     "data": {
      "text/plain": [
       "            date  mobility_transit_stations  mobility_retail_and_recreation  \\\n",
       "0     2020-03-29                 -60.000000                      -48.000000   \n",
       "1     2020-03-30                 -49.000000                      -39.000000   \n",
       "2     2020-03-31                 -51.000000                      -40.000000   \n",
       "3     2020-04-01                 -45.000000                      -37.000000   \n",
       "4     2020-04-02                 -49.000000                      -37.000000   \n",
       "...          ...                        ...                             ...   \n",
       "34516 2020-11-16                 -24.000000                      -20.000000   \n",
       "34517 2020-11-17                 -28.000000                      -23.000000   \n",
       "34518 2020-11-18                 -28.041379                      -22.313725   \n",
       "34519 2020-11-19                 -28.082759                      -21.627451   \n",
       "34520 2020-11-20                 -28.124138                      -20.941176   \n",
       "\n",
       "       mobility_grocery_and_pharmacy  mobility_parks  mobility_residential  \\\n",
       "0                         -31.000000        5.000000             13.000000   \n",
       "1                         -25.000000        9.000000             20.000000   \n",
       "2                         -25.000000      -19.000000             22.000000   \n",
       "3                         -19.000000       23.000000             22.000000   \n",
       "4                         -20.000000       13.000000             23.000000   \n",
       "...                              ...             ...                   ...   \n",
       "34516                      -3.000000       14.000000             13.000000   \n",
       "34517                      -4.000000       25.000000             15.000000   \n",
       "34518                      -3.843137       24.462366             14.792453   \n",
       "34519                      -3.686275       23.924731             14.584906   \n",
       "34520                      -3.529412       23.387097             14.377358   \n",
       "\n",
       "       mobility_workplaces  county_id  smoothed_cumul  smoothed_d1  \\\n",
       "0               -37.000000      10003      141.809524    21.892857   \n",
       "1               -50.000000      10003      166.000000    23.750000   \n",
       "2               -52.000000      10003      191.000000    25.892857   \n",
       "3               -52.000000      10003      212.238095    38.250000   \n",
       "4               -53.000000      10003      254.857143    46.392857   \n",
       "...                    ...        ...             ...          ...   \n",
       "34516           -31.000000      55133    20912.666667   777.357143   \n",
       "34517           -36.000000      55133    21829.952381   893.464286   \n",
       "34518           -35.274510      55133    23075.476190   906.571429   \n",
       "34519           -34.549020      55133    24195.761905   770.071429   \n",
       "34520           -33.823529      55133    24852.428571   507.428571   \n",
       "\n",
       "       smoothed_d2  \n",
       "0         3.880952  \n",
       "1         2.785714  \n",
       "2         2.642857  \n",
       "3        11.309524  \n",
       "4        11.071429  \n",
       "...            ...  \n",
       "34516   245.380952  \n",
       "34517   179.880952  \n",
       "34518   -96.523810  \n",
       "34519  -322.095238  \n",
       "34520  -336.428571  \n",
       "\n",
       "[34521 rows x 11 columns]"
      ],
      "text/html": "<div>\n<style scoped>\n    .dataframe tbody tr th:only-of-type {\n        vertical-align: middle;\n    }\n\n    .dataframe tbody tr th {\n        vertical-align: top;\n    }\n\n    .dataframe thead th {\n        text-align: right;\n    }\n</style>\n<table border=\"1\" class=\"dataframe\">\n  <thead>\n    <tr style=\"text-align: right;\">\n      <th></th>\n      <th>date</th>\n      <th>mobility_transit_stations</th>\n      <th>mobility_retail_and_recreation</th>\n      <th>mobility_grocery_and_pharmacy</th>\n      <th>mobility_parks</th>\n      <th>mobility_residential</th>\n      <th>mobility_workplaces</th>\n      <th>county_id</th>\n      <th>smoothed_cumul</th>\n      <th>smoothed_d1</th>\n      <th>smoothed_d2</th>\n    </tr>\n  </thead>\n  <tbody>\n    <tr>\n      <th>0</th>\n      <td>2020-03-29</td>\n      <td>-60.000000</td>\n      <td>-48.000000</td>\n      <td>-31.000000</td>\n      <td>5.000000</td>\n      <td>13.000000</td>\n      <td>-37.000000</td>\n      <td>10003</td>\n      <td>141.809524</td>\n      <td>21.892857</td>\n      <td>3.880952</td>\n    </tr>\n    <tr>\n      <th>1</th>\n      <td>2020-03-30</td>\n      <td>-49.000000</td>\n      <td>-39.000000</td>\n      <td>-25.000000</td>\n      <td>9.000000</td>\n      <td>20.000000</td>\n      <td>-50.000000</td>\n      <td>10003</td>\n      <td>166.000000</td>\n      <td>23.750000</td>\n      <td>2.785714</td>\n    </tr>\n    <tr>\n      <th>2</th>\n      <td>2020-03-31</td>\n      <td>-51.000000</td>\n      <td>-40.000000</td>\n      <td>-25.000000</td>\n      <td>-19.000000</td>\n      <td>22.000000</td>\n      <td>-52.000000</td>\n      <td>10003</td>\n      <td>191.000000</td>\n      <td>25.892857</td>\n      <td>2.642857</td>\n    </tr>\n    <tr>\n      <th>3</th>\n      <td>2020-04-01</td>\n      <td>-45.000000</td>\n      <td>-37.000000</td>\n      <td>-19.000000</td>\n      <td>23.000000</td>\n      <td>22.000000</td>\n      <td>-52.000000</td>\n      <td>10003</td>\n      <td>212.238095</td>\n      <td>38.250000</td>\n      <td>11.309524</td>\n    </tr>\n    <tr>\n      <th>4</th>\n      <td>2020-04-02</td>\n      <td>-49.000000</td>\n      <td>-37.000000</td>\n      <td>-20.000000</td>\n      <td>13.000000</td>\n      <td>23.000000</td>\n      <td>-53.000000</td>\n      <td>10003</td>\n      <td>254.857143</td>\n      <td>46.392857</td>\n      <td>11.071429</td>\n    </tr>\n    <tr>\n      <th>...</th>\n      <td>...</td>\n      <td>...</td>\n      <td>...</td>\n      <td>...</td>\n      <td>...</td>\n      <td>...</td>\n      <td>...</td>\n      <td>...</td>\n      <td>...</td>\n      <td>...</td>\n      <td>...</td>\n    </tr>\n    <tr>\n      <th>34516</th>\n      <td>2020-11-16</td>\n      <td>-24.000000</td>\n      <td>-20.000000</td>\n      <td>-3.000000</td>\n      <td>14.000000</td>\n      <td>13.000000</td>\n      <td>-31.000000</td>\n      <td>55133</td>\n      <td>20912.666667</td>\n      <td>777.357143</td>\n      <td>245.380952</td>\n    </tr>\n    <tr>\n      <th>34517</th>\n      <td>2020-11-17</td>\n      <td>-28.000000</td>\n      <td>-23.000000</td>\n      <td>-4.000000</td>\n      <td>25.000000</td>\n      <td>15.000000</td>\n      <td>-36.000000</td>\n      <td>55133</td>\n      <td>21829.952381</td>\n      <td>893.464286</td>\n      <td>179.880952</td>\n    </tr>\n    <tr>\n      <th>34518</th>\n      <td>2020-11-18</td>\n      <td>-28.041379</td>\n      <td>-22.313725</td>\n      <td>-3.843137</td>\n      <td>24.462366</td>\n      <td>14.792453</td>\n      <td>-35.274510</td>\n      <td>55133</td>\n      <td>23075.476190</td>\n      <td>906.571429</td>\n      <td>-96.523810</td>\n    </tr>\n    <tr>\n      <th>34519</th>\n      <td>2020-11-19</td>\n      <td>-28.082759</td>\n      <td>-21.627451</td>\n      <td>-3.686275</td>\n      <td>23.924731</td>\n      <td>14.584906</td>\n      <td>-34.549020</td>\n      <td>55133</td>\n      <td>24195.761905</td>\n      <td>770.071429</td>\n      <td>-322.095238</td>\n    </tr>\n    <tr>\n      <th>34520</th>\n      <td>2020-11-20</td>\n      <td>-28.124138</td>\n      <td>-20.941176</td>\n      <td>-3.529412</td>\n      <td>23.387097</td>\n      <td>14.377358</td>\n      <td>-33.823529</td>\n      <td>55133</td>\n      <td>24852.428571</td>\n      <td>507.428571</td>\n      <td>-336.428571</td>\n    </tr>\n  </tbody>\n</table>\n<p>34521 rows × 11 columns</p>\n</div>"
     },
     "metadata": {},
     "execution_count": 5
    }
   ],
   "source": [
    "df_covid"
   ]
  },
  {
   "cell_type": "code",
   "execution_count": 4,
   "metadata": {
    "tags": []
   },
   "outputs": [
    {
     "output_type": "execute_result",
     "data": {
      "text/plain": [
       "                          x0                            x1            \\\n",
       "                        mean      amin      amax      mean      amin   \n",
       "time       shapeID                                                     \n",
       "2020-01-11 0        2.560990  1.132602  3.920752 -0.621472 -1.321482   \n",
       "           1        1.585728  1.003614  2.163140 -1.442269 -2.552994   \n",
       "           2        2.336001  0.740924  3.576501 -1.030909 -1.611304   \n",
       "           3        2.061235  1.591767  2.767817 -1.015826 -2.157733   \n",
       "           4        1.688767  1.123299  2.411143 -1.518019 -2.608174   \n",
       "...                      ...       ...       ...       ...       ...   \n",
       "2020-11-26 3228     2.863880  2.354470  3.442855 -0.367008 -1.288185   \n",
       "           3229     2.193660  1.366086  3.337594 -1.029890 -1.669004   \n",
       "           3230     2.997420  1.879952  4.827222  0.063381 -1.229616   \n",
       "           3231     2.783941  1.074804  4.555070 -1.077723 -1.666085   \n",
       "           3232     2.981951  1.493466  4.497534 -0.796010 -1.367780   \n",
       "\n",
       "                                    x2                            x3  ...  \\\n",
       "                        amax      mean      amin      amax      mean  ...   \n",
       "time       shapeID                                                    ...   \n",
       "2020-01-11 0       -0.136410  0.547259 -0.205632  1.450366  0.328272  ...   \n",
       "           1       -0.001904  0.082670 -1.015893  1.228365 -0.001149  ...   \n",
       "           2       -0.252841  0.570662  0.064298  1.334669  0.299919  ...   \n",
       "           3        0.369767  0.257655 -0.431713  1.232167  0.165409  ...   \n",
       "           4       -0.092445  0.172981 -0.700243  1.326847  0.052826  ...   \n",
       "...                      ...       ...       ...       ...       ...  ...   \n",
       "2020-11-26 3228     1.237951 -1.062319 -1.936876  0.360785 -1.180580  ...   \n",
       "           3229    -0.050964 -0.403719 -1.967603  0.662261 -0.703278  ...   \n",
       "           3230     1.308801  0.369541 -0.660267  1.273194  0.033446  ...   \n",
       "           3231    -0.397469 -0.420119 -1.787267  1.132561 -0.868802  ...   \n",
       "           3232     0.058086 -0.259783 -1.216226  1.081014 -0.715025  ...   \n",
       "\n",
       "                          x7        x8                            x9  \\\n",
       "                        amax      mean      amin      amax      mean   \n",
       "time       shapeID                                                     \n",
       "2020-01-11 0       -0.127221  0.663481  0.353241  1.333196  0.305105   \n",
       "           1       -0.079008  0.848270  0.674095  1.125456  0.120760   \n",
       "           2       -0.030143  0.827391  0.629278  1.069803  0.427520   \n",
       "           3       -0.051850  0.786006  0.669407  0.988720  0.164188   \n",
       "           4       -0.053965  0.943710  0.779539  1.154469  0.169794   \n",
       "...                      ...       ...       ...       ...       ...   \n",
       "2020-11-26 3228    -0.077145 -0.218845 -0.677157  0.241384  0.066385   \n",
       "           3229    -0.655699  0.127605 -0.468057  0.828150 -0.740185   \n",
       "           3230    -0.563107 -0.703884 -1.031925 -0.244547  0.364359   \n",
       "           3231     0.145051  0.240206 -0.567698  1.125124 -0.909044   \n",
       "           3232    -0.062040  0.352340 -0.322112  1.110727 -0.867497   \n",
       "\n",
       "                                             x10                      \n",
       "                        amin      amax      mean      amin      amax  \n",
       "time       shapeID                                                    \n",
       "2020-01-11 0       -0.023992  0.601407  0.710089 -0.072662  1.222776  \n",
       "           1       -0.072434  0.449380  0.062689 -0.147292  0.270271  \n",
       "           2        0.105998  0.901687  0.225709 -0.144999  0.514646  \n",
       "           3       -0.042237  0.478838  0.284957  0.014918  0.596166  \n",
       "           4       -0.014473  0.457357 -0.019206 -0.254867  0.203410  \n",
       "...                      ...       ...       ...       ...       ...  \n",
       "2020-11-26 3228    -0.106235  0.233775 -0.739699 -0.981184 -0.474419  \n",
       "           3229    -0.993194 -0.458630  0.147552 -0.153186  0.917622  \n",
       "           3230     0.033683  0.590167 -0.308732 -0.452348 -0.056429  \n",
       "           3231    -1.071697 -0.420652 -0.160216 -0.552683  0.257796  \n",
       "           3232    -1.251787 -0.677924 -0.017909 -0.612552  0.391784  \n",
       "\n",
       "[1037472 rows x 33 columns]"
      ],
      "text/html": "<div>\n<style scoped>\n    .dataframe tbody tr th:only-of-type {\n        vertical-align: middle;\n    }\n\n    .dataframe tbody tr th {\n        vertical-align: top;\n    }\n\n    .dataframe thead tr th {\n        text-align: left;\n    }\n\n    .dataframe thead tr:last-of-type th {\n        text-align: right;\n    }\n</style>\n<table border=\"1\" class=\"dataframe\">\n  <thead>\n    <tr>\n      <th></th>\n      <th></th>\n      <th colspan=\"3\" halign=\"left\">x0</th>\n      <th colspan=\"3\" halign=\"left\">x1</th>\n      <th colspan=\"3\" halign=\"left\">x2</th>\n      <th>x3</th>\n      <th>...</th>\n      <th>x7</th>\n      <th colspan=\"3\" halign=\"left\">x8</th>\n      <th colspan=\"3\" halign=\"left\">x9</th>\n      <th colspan=\"3\" halign=\"left\">x10</th>\n    </tr>\n    <tr>\n      <th></th>\n      <th></th>\n      <th>mean</th>\n      <th>amin</th>\n      <th>amax</th>\n      <th>mean</th>\n      <th>amin</th>\n      <th>amax</th>\n      <th>mean</th>\n      <th>amin</th>\n      <th>amax</th>\n      <th>mean</th>\n      <th>...</th>\n      <th>amax</th>\n      <th>mean</th>\n      <th>amin</th>\n      <th>amax</th>\n      <th>mean</th>\n      <th>amin</th>\n      <th>amax</th>\n      <th>mean</th>\n      <th>amin</th>\n      <th>amax</th>\n    </tr>\n    <tr>\n      <th>time</th>\n      <th>shapeID</th>\n      <th></th>\n      <th></th>\n      <th></th>\n      <th></th>\n      <th></th>\n      <th></th>\n      <th></th>\n      <th></th>\n      <th></th>\n      <th></th>\n      <th></th>\n      <th></th>\n      <th></th>\n      <th></th>\n      <th></th>\n      <th></th>\n      <th></th>\n      <th></th>\n      <th></th>\n      <th></th>\n      <th></th>\n    </tr>\n  </thead>\n  <tbody>\n    <tr>\n      <th rowspan=\"5\" valign=\"top\">2020-01-11</th>\n      <th>0</th>\n      <td>2.560990</td>\n      <td>1.132602</td>\n      <td>3.920752</td>\n      <td>-0.621472</td>\n      <td>-1.321482</td>\n      <td>-0.136410</td>\n      <td>0.547259</td>\n      <td>-0.205632</td>\n      <td>1.450366</td>\n      <td>0.328272</td>\n      <td>...</td>\n      <td>-0.127221</td>\n      <td>0.663481</td>\n      <td>0.353241</td>\n      <td>1.333196</td>\n      <td>0.305105</td>\n      <td>-0.023992</td>\n      <td>0.601407</td>\n      <td>0.710089</td>\n      <td>-0.072662</td>\n      <td>1.222776</td>\n    </tr>\n    <tr>\n      <th>1</th>\n      <td>1.585728</td>\n      <td>1.003614</td>\n      <td>2.163140</td>\n      <td>-1.442269</td>\n      <td>-2.552994</td>\n      <td>-0.001904</td>\n      <td>0.082670</td>\n      <td>-1.015893</td>\n      <td>1.228365</td>\n      <td>-0.001149</td>\n      <td>...</td>\n      <td>-0.079008</td>\n      <td>0.848270</td>\n      <td>0.674095</td>\n      <td>1.125456</td>\n      <td>0.120760</td>\n      <td>-0.072434</td>\n      <td>0.449380</td>\n      <td>0.062689</td>\n      <td>-0.147292</td>\n      <td>0.270271</td>\n    </tr>\n    <tr>\n      <th>2</th>\n      <td>2.336001</td>\n      <td>0.740924</td>\n      <td>3.576501</td>\n      <td>-1.030909</td>\n      <td>-1.611304</td>\n      <td>-0.252841</td>\n      <td>0.570662</td>\n      <td>0.064298</td>\n      <td>1.334669</td>\n      <td>0.299919</td>\n      <td>...</td>\n      <td>-0.030143</td>\n      <td>0.827391</td>\n      <td>0.629278</td>\n      <td>1.069803</td>\n      <td>0.427520</td>\n      <td>0.105998</td>\n      <td>0.901687</td>\n      <td>0.225709</td>\n      <td>-0.144999</td>\n      <td>0.514646</td>\n    </tr>\n    <tr>\n      <th>3</th>\n      <td>2.061235</td>\n      <td>1.591767</td>\n      <td>2.767817</td>\n      <td>-1.015826</td>\n      <td>-2.157733</td>\n      <td>0.369767</td>\n      <td>0.257655</td>\n      <td>-0.431713</td>\n      <td>1.232167</td>\n      <td>0.165409</td>\n      <td>...</td>\n      <td>-0.051850</td>\n      <td>0.786006</td>\n      <td>0.669407</td>\n      <td>0.988720</td>\n      <td>0.164188</td>\n      <td>-0.042237</td>\n      <td>0.478838</td>\n      <td>0.284957</td>\n      <td>0.014918</td>\n      <td>0.596166</td>\n    </tr>\n    <tr>\n      <th>4</th>\n      <td>1.688767</td>\n      <td>1.123299</td>\n      <td>2.411143</td>\n      <td>-1.518019</td>\n      <td>-2.608174</td>\n      <td>-0.092445</td>\n      <td>0.172981</td>\n      <td>-0.700243</td>\n      <td>1.326847</td>\n      <td>0.052826</td>\n      <td>...</td>\n      <td>-0.053965</td>\n      <td>0.943710</td>\n      <td>0.779539</td>\n      <td>1.154469</td>\n      <td>0.169794</td>\n      <td>-0.014473</td>\n      <td>0.457357</td>\n      <td>-0.019206</td>\n      <td>-0.254867</td>\n      <td>0.203410</td>\n    </tr>\n    <tr>\n      <th>...</th>\n      <th>...</th>\n      <td>...</td>\n      <td>...</td>\n      <td>...</td>\n      <td>...</td>\n      <td>...</td>\n      <td>...</td>\n      <td>...</td>\n      <td>...</td>\n      <td>...</td>\n      <td>...</td>\n      <td>...</td>\n      <td>...</td>\n      <td>...</td>\n      <td>...</td>\n      <td>...</td>\n      <td>...</td>\n      <td>...</td>\n      <td>...</td>\n      <td>...</td>\n      <td>...</td>\n      <td>...</td>\n    </tr>\n    <tr>\n      <th rowspan=\"5\" valign=\"top\">2020-11-26</th>\n      <th>3228</th>\n      <td>2.863880</td>\n      <td>2.354470</td>\n      <td>3.442855</td>\n      <td>-0.367008</td>\n      <td>-1.288185</td>\n      <td>1.237951</td>\n      <td>-1.062319</td>\n      <td>-1.936876</td>\n      <td>0.360785</td>\n      <td>-1.180580</td>\n      <td>...</td>\n      <td>-0.077145</td>\n      <td>-0.218845</td>\n      <td>-0.677157</td>\n      <td>0.241384</td>\n      <td>0.066385</td>\n      <td>-0.106235</td>\n      <td>0.233775</td>\n      <td>-0.739699</td>\n      <td>-0.981184</td>\n      <td>-0.474419</td>\n    </tr>\n    <tr>\n      <th>3229</th>\n      <td>2.193660</td>\n      <td>1.366086</td>\n      <td>3.337594</td>\n      <td>-1.029890</td>\n      <td>-1.669004</td>\n      <td>-0.050964</td>\n      <td>-0.403719</td>\n      <td>-1.967603</td>\n      <td>0.662261</td>\n      <td>-0.703278</td>\n      <td>...</td>\n      <td>-0.655699</td>\n      <td>0.127605</td>\n      <td>-0.468057</td>\n      <td>0.828150</td>\n      <td>-0.740185</td>\n      <td>-0.993194</td>\n      <td>-0.458630</td>\n      <td>0.147552</td>\n      <td>-0.153186</td>\n      <td>0.917622</td>\n    </tr>\n    <tr>\n      <th>3230</th>\n      <td>2.997420</td>\n      <td>1.879952</td>\n      <td>4.827222</td>\n      <td>0.063381</td>\n      <td>-1.229616</td>\n      <td>1.308801</td>\n      <td>0.369541</td>\n      <td>-0.660267</td>\n      <td>1.273194</td>\n      <td>0.033446</td>\n      <td>...</td>\n      <td>-0.563107</td>\n      <td>-0.703884</td>\n      <td>-1.031925</td>\n      <td>-0.244547</td>\n      <td>0.364359</td>\n      <td>0.033683</td>\n      <td>0.590167</td>\n      <td>-0.308732</td>\n      <td>-0.452348</td>\n      <td>-0.056429</td>\n    </tr>\n    <tr>\n      <th>3231</th>\n      <td>2.783941</td>\n      <td>1.074804</td>\n      <td>4.555070</td>\n      <td>-1.077723</td>\n      <td>-1.666085</td>\n      <td>-0.397469</td>\n      <td>-0.420119</td>\n      <td>-1.787267</td>\n      <td>1.132561</td>\n      <td>-0.868802</td>\n      <td>...</td>\n      <td>0.145051</td>\n      <td>0.240206</td>\n      <td>-0.567698</td>\n      <td>1.125124</td>\n      <td>-0.909044</td>\n      <td>-1.071697</td>\n      <td>-0.420652</td>\n      <td>-0.160216</td>\n      <td>-0.552683</td>\n      <td>0.257796</td>\n    </tr>\n    <tr>\n      <th>3232</th>\n      <td>2.981951</td>\n      <td>1.493466</td>\n      <td>4.497534</td>\n      <td>-0.796010</td>\n      <td>-1.367780</td>\n      <td>0.058086</td>\n      <td>-0.259783</td>\n      <td>-1.216226</td>\n      <td>1.081014</td>\n      <td>-0.715025</td>\n      <td>...</td>\n      <td>-0.062040</td>\n      <td>0.352340</td>\n      <td>-0.322112</td>\n      <td>1.110727</td>\n      <td>-0.867497</td>\n      <td>-1.251787</td>\n      <td>-0.677924</td>\n      <td>-0.017909</td>\n      <td>-0.612552</td>\n      <td>0.391784</td>\n    </tr>\n  </tbody>\n</table>\n<p>1037472 rows × 33 columns</p>\n</div>"
     },
     "metadata": {},
     "execution_count": 4
    }
   ],
   "source": [
    "df_cams = df_cams.groupby(['time','shapeID']).agg([np.mean,np.min,np.max])\n",
    "df_cams"
   ]
  },
  {
   "cell_type": "code",
   "execution_count": 5,
   "metadata": {},
   "outputs": [
    {
     "output_type": "execute_result",
     "data": {
      "text/plain": [
       "               time  shapeID   x0_mean   x0_amin   x0_amax   x1_mean  \\\n",
       "0        2020-01-11        0  2.560990  1.132602  3.920752 -0.621472   \n",
       "1        2020-01-11        1  1.585728  1.003614  2.163140 -1.442269   \n",
       "2        2020-01-11        2  2.336001  0.740924  3.576501 -1.030909   \n",
       "3        2020-01-11        3  2.061235  1.591767  2.767817 -1.015826   \n",
       "4        2020-01-11        4  1.688767  1.123299  2.411143 -1.518019   \n",
       "...             ...      ...       ...       ...       ...       ...   \n",
       "1037467  2020-11-26     3228  2.863880  2.354470  3.442855 -0.367008   \n",
       "1037468  2020-11-26     3229  2.193660  1.366086  3.337594 -1.029890   \n",
       "1037469  2020-11-26     3230  2.997420  1.879952  4.827222  0.063381   \n",
       "1037470  2020-11-26     3231  2.783941  1.074804  4.555070 -1.077723   \n",
       "1037471  2020-11-26     3232  2.981951  1.493466  4.497534 -0.796010   \n",
       "\n",
       "          x1_amin   x1_amax   x2_mean   x2_amin  ...   x7_amax   x8_mean  \\\n",
       "0       -1.321482 -0.136410  0.547259 -0.205632  ... -0.127221  0.663481   \n",
       "1       -2.552994 -0.001904  0.082670 -1.015893  ... -0.079008  0.848270   \n",
       "2       -1.611304 -0.252841  0.570662  0.064298  ... -0.030143  0.827391   \n",
       "3       -2.157733  0.369767  0.257655 -0.431713  ... -0.051850  0.786006   \n",
       "4       -2.608174 -0.092445  0.172981 -0.700243  ... -0.053965  0.943710   \n",
       "...           ...       ...       ...       ...  ...       ...       ...   \n",
       "1037467 -1.288185  1.237951 -1.062319 -1.936876  ... -0.077145 -0.218845   \n",
       "1037468 -1.669004 -0.050964 -0.403719 -1.967603  ... -0.655699  0.127605   \n",
       "1037469 -1.229616  1.308801  0.369541 -0.660267  ... -0.563107 -0.703884   \n",
       "1037470 -1.666085 -0.397469 -0.420119 -1.787267  ...  0.145051  0.240206   \n",
       "1037471 -1.367780  0.058086 -0.259783 -1.216226  ... -0.062040  0.352340   \n",
       "\n",
       "          x8_amin   x8_amax   x9_mean   x9_amin   x9_amax  x10_mean  x10_amin  \\\n",
       "0        0.353241  1.333196  0.305105 -0.023992  0.601407  0.710089 -0.072662   \n",
       "1        0.674095  1.125456  0.120760 -0.072434  0.449380  0.062689 -0.147292   \n",
       "2        0.629278  1.069803  0.427520  0.105998  0.901687  0.225709 -0.144999   \n",
       "3        0.669407  0.988720  0.164188 -0.042237  0.478838  0.284957  0.014918   \n",
       "4        0.779539  1.154469  0.169794 -0.014473  0.457357 -0.019206 -0.254867   \n",
       "...           ...       ...       ...       ...       ...       ...       ...   \n",
       "1037467 -0.677157  0.241384  0.066385 -0.106235  0.233775 -0.739699 -0.981184   \n",
       "1037468 -0.468057  0.828150 -0.740185 -0.993194 -0.458630  0.147552 -0.153186   \n",
       "1037469 -1.031925 -0.244547  0.364359  0.033683  0.590167 -0.308732 -0.452348   \n",
       "1037470 -0.567698  1.125124 -0.909044 -1.071697 -0.420652 -0.160216 -0.552683   \n",
       "1037471 -0.322112  1.110727 -0.867497 -1.251787 -0.677924 -0.017909 -0.612552   \n",
       "\n",
       "         x10_amax  \n",
       "0        1.222776  \n",
       "1        0.270271  \n",
       "2        0.514646  \n",
       "3        0.596166  \n",
       "4        0.203410  \n",
       "...           ...  \n",
       "1037467 -0.474419  \n",
       "1037468  0.917622  \n",
       "1037469 -0.056429  \n",
       "1037470  0.257796  \n",
       "1037471  0.391784  \n",
       "\n",
       "[1037472 rows x 35 columns]"
      ],
      "text/html": "<div>\n<style scoped>\n    .dataframe tbody tr th:only-of-type {\n        vertical-align: middle;\n    }\n\n    .dataframe tbody tr th {\n        vertical-align: top;\n    }\n\n    .dataframe thead th {\n        text-align: right;\n    }\n</style>\n<table border=\"1\" class=\"dataframe\">\n  <thead>\n    <tr style=\"text-align: right;\">\n      <th></th>\n      <th>time</th>\n      <th>shapeID</th>\n      <th>x0_mean</th>\n      <th>x0_amin</th>\n      <th>x0_amax</th>\n      <th>x1_mean</th>\n      <th>x1_amin</th>\n      <th>x1_amax</th>\n      <th>x2_mean</th>\n      <th>x2_amin</th>\n      <th>...</th>\n      <th>x7_amax</th>\n      <th>x8_mean</th>\n      <th>x8_amin</th>\n      <th>x8_amax</th>\n      <th>x9_mean</th>\n      <th>x9_amin</th>\n      <th>x9_amax</th>\n      <th>x10_mean</th>\n      <th>x10_amin</th>\n      <th>x10_amax</th>\n    </tr>\n  </thead>\n  <tbody>\n    <tr>\n      <th>0</th>\n      <td>2020-01-11</td>\n      <td>0</td>\n      <td>2.560990</td>\n      <td>1.132602</td>\n      <td>3.920752</td>\n      <td>-0.621472</td>\n      <td>-1.321482</td>\n      <td>-0.136410</td>\n      <td>0.547259</td>\n      <td>-0.205632</td>\n      <td>...</td>\n      <td>-0.127221</td>\n      <td>0.663481</td>\n      <td>0.353241</td>\n      <td>1.333196</td>\n      <td>0.305105</td>\n      <td>-0.023992</td>\n      <td>0.601407</td>\n      <td>0.710089</td>\n      <td>-0.072662</td>\n      <td>1.222776</td>\n    </tr>\n    <tr>\n      <th>1</th>\n      <td>2020-01-11</td>\n      <td>1</td>\n      <td>1.585728</td>\n      <td>1.003614</td>\n      <td>2.163140</td>\n      <td>-1.442269</td>\n      <td>-2.552994</td>\n      <td>-0.001904</td>\n      <td>0.082670</td>\n      <td>-1.015893</td>\n      <td>...</td>\n      <td>-0.079008</td>\n      <td>0.848270</td>\n      <td>0.674095</td>\n      <td>1.125456</td>\n      <td>0.120760</td>\n      <td>-0.072434</td>\n      <td>0.449380</td>\n      <td>0.062689</td>\n      <td>-0.147292</td>\n      <td>0.270271</td>\n    </tr>\n    <tr>\n      <th>2</th>\n      <td>2020-01-11</td>\n      <td>2</td>\n      <td>2.336001</td>\n      <td>0.740924</td>\n      <td>3.576501</td>\n      <td>-1.030909</td>\n      <td>-1.611304</td>\n      <td>-0.252841</td>\n      <td>0.570662</td>\n      <td>0.064298</td>\n      <td>...</td>\n      <td>-0.030143</td>\n      <td>0.827391</td>\n      <td>0.629278</td>\n      <td>1.069803</td>\n      <td>0.427520</td>\n      <td>0.105998</td>\n      <td>0.901687</td>\n      <td>0.225709</td>\n      <td>-0.144999</td>\n      <td>0.514646</td>\n    </tr>\n    <tr>\n      <th>3</th>\n      <td>2020-01-11</td>\n      <td>3</td>\n      <td>2.061235</td>\n      <td>1.591767</td>\n      <td>2.767817</td>\n      <td>-1.015826</td>\n      <td>-2.157733</td>\n      <td>0.369767</td>\n      <td>0.257655</td>\n      <td>-0.431713</td>\n      <td>...</td>\n      <td>-0.051850</td>\n      <td>0.786006</td>\n      <td>0.669407</td>\n      <td>0.988720</td>\n      <td>0.164188</td>\n      <td>-0.042237</td>\n      <td>0.478838</td>\n      <td>0.284957</td>\n      <td>0.014918</td>\n      <td>0.596166</td>\n    </tr>\n    <tr>\n      <th>4</th>\n      <td>2020-01-11</td>\n      <td>4</td>\n      <td>1.688767</td>\n      <td>1.123299</td>\n      <td>2.411143</td>\n      <td>-1.518019</td>\n      <td>-2.608174</td>\n      <td>-0.092445</td>\n      <td>0.172981</td>\n      <td>-0.700243</td>\n      <td>...</td>\n      <td>-0.053965</td>\n      <td>0.943710</td>\n      <td>0.779539</td>\n      <td>1.154469</td>\n      <td>0.169794</td>\n      <td>-0.014473</td>\n      <td>0.457357</td>\n      <td>-0.019206</td>\n      <td>-0.254867</td>\n      <td>0.203410</td>\n    </tr>\n    <tr>\n      <th>...</th>\n      <td>...</td>\n      <td>...</td>\n      <td>...</td>\n      <td>...</td>\n      <td>...</td>\n      <td>...</td>\n      <td>...</td>\n      <td>...</td>\n      <td>...</td>\n      <td>...</td>\n      <td>...</td>\n      <td>...</td>\n      <td>...</td>\n      <td>...</td>\n      <td>...</td>\n      <td>...</td>\n      <td>...</td>\n      <td>...</td>\n      <td>...</td>\n      <td>...</td>\n      <td>...</td>\n    </tr>\n    <tr>\n      <th>1037467</th>\n      <td>2020-11-26</td>\n      <td>3228</td>\n      <td>2.863880</td>\n      <td>2.354470</td>\n      <td>3.442855</td>\n      <td>-0.367008</td>\n      <td>-1.288185</td>\n      <td>1.237951</td>\n      <td>-1.062319</td>\n      <td>-1.936876</td>\n      <td>...</td>\n      <td>-0.077145</td>\n      <td>-0.218845</td>\n      <td>-0.677157</td>\n      <td>0.241384</td>\n      <td>0.066385</td>\n      <td>-0.106235</td>\n      <td>0.233775</td>\n      <td>-0.739699</td>\n      <td>-0.981184</td>\n      <td>-0.474419</td>\n    </tr>\n    <tr>\n      <th>1037468</th>\n      <td>2020-11-26</td>\n      <td>3229</td>\n      <td>2.193660</td>\n      <td>1.366086</td>\n      <td>3.337594</td>\n      <td>-1.029890</td>\n      <td>-1.669004</td>\n      <td>-0.050964</td>\n      <td>-0.403719</td>\n      <td>-1.967603</td>\n      <td>...</td>\n      <td>-0.655699</td>\n      <td>0.127605</td>\n      <td>-0.468057</td>\n      <td>0.828150</td>\n      <td>-0.740185</td>\n      <td>-0.993194</td>\n      <td>-0.458630</td>\n      <td>0.147552</td>\n      <td>-0.153186</td>\n      <td>0.917622</td>\n    </tr>\n    <tr>\n      <th>1037469</th>\n      <td>2020-11-26</td>\n      <td>3230</td>\n      <td>2.997420</td>\n      <td>1.879952</td>\n      <td>4.827222</td>\n      <td>0.063381</td>\n      <td>-1.229616</td>\n      <td>1.308801</td>\n      <td>0.369541</td>\n      <td>-0.660267</td>\n      <td>...</td>\n      <td>-0.563107</td>\n      <td>-0.703884</td>\n      <td>-1.031925</td>\n      <td>-0.244547</td>\n      <td>0.364359</td>\n      <td>0.033683</td>\n      <td>0.590167</td>\n      <td>-0.308732</td>\n      <td>-0.452348</td>\n      <td>-0.056429</td>\n    </tr>\n    <tr>\n      <th>1037470</th>\n      <td>2020-11-26</td>\n      <td>3231</td>\n      <td>2.783941</td>\n      <td>1.074804</td>\n      <td>4.555070</td>\n      <td>-1.077723</td>\n      <td>-1.666085</td>\n      <td>-0.397469</td>\n      <td>-0.420119</td>\n      <td>-1.787267</td>\n      <td>...</td>\n      <td>0.145051</td>\n      <td>0.240206</td>\n      <td>-0.567698</td>\n      <td>1.125124</td>\n      <td>-0.909044</td>\n      <td>-1.071697</td>\n      <td>-0.420652</td>\n      <td>-0.160216</td>\n      <td>-0.552683</td>\n      <td>0.257796</td>\n    </tr>\n    <tr>\n      <th>1037471</th>\n      <td>2020-11-26</td>\n      <td>3232</td>\n      <td>2.981951</td>\n      <td>1.493466</td>\n      <td>4.497534</td>\n      <td>-0.796010</td>\n      <td>-1.367780</td>\n      <td>0.058086</td>\n      <td>-0.259783</td>\n      <td>-1.216226</td>\n      <td>...</td>\n      <td>-0.062040</td>\n      <td>0.352340</td>\n      <td>-0.322112</td>\n      <td>1.110727</td>\n      <td>-0.867497</td>\n      <td>-1.251787</td>\n      <td>-0.677924</td>\n      <td>-0.017909</td>\n      <td>-0.612552</td>\n      <td>0.391784</td>\n    </tr>\n  </tbody>\n</table>\n<p>1037472 rows × 35 columns</p>\n</div>"
     },
     "metadata": {},
     "execution_count": 5
    }
   ],
   "source": [
    "df_cams.columns = pd.Index([f\"{x}_{y}\" for (x,y) in df_cams.columns])\n",
    "df_cams = df_cams.reset_index()\n",
    "\n",
    "df_cams"
   ]
  },
  {
   "cell_type": "code",
   "execution_count": 6,
   "metadata": {},
   "outputs": [],
   "source": [
    "df_cams['time'] = pd.to_datetime(df_cams['time'], infer_datetime_format=True)"
   ]
  },
  {
   "cell_type": "code",
   "execution_count": 7,
   "metadata": {},
   "outputs": [
    {
     "output_type": "execute_result",
     "data": {
      "text/plain": [
       "      shapeID        AFFGEOID       ALAND      AWATER  COUNTYFP  COUNTYNS  \\\n",
       "0           0  0500000US21007   639387454    69473325         7    516850   \n",
       "1           1  0500000US21017   750439351     4829777        17    516855   \n",
       "2           2  0500000US21031  1103571974    13943044        31    516862   \n",
       "3           3  0500000US21065   655509930     6516335        65    516879   \n",
       "4           4  0500000US21069   902727151     7182793        69    516881   \n",
       "...       ...             ...         ...         ...       ...       ...   \n",
       "3227     3228  0500000US31073  1186616237    11831826        73    835858   \n",
       "3228     3229  0500000US39075  1094405866     3695230        75   1074050   \n",
       "3229     3230  0500000US48171  2740719114     9012764       171   1383871   \n",
       "3230     3231  0500000US55079   625440563  2455383635        79   1581100   \n",
       "3231     3232  0500000US26139  1459502408  2765830983       139   1623012   \n",
       "\n",
       "      GEOID  LSAD       NAME  STATEFP  \n",
       "0     21007     6    Ballard       21  \n",
       "1     21017     6    Bourbon       21  \n",
       "2     21031     6     Butler       21  \n",
       "3     21065     6     Estill       21  \n",
       "4     21069     6    Fleming       21  \n",
       "...     ...   ...        ...      ...  \n",
       "3227  31073     6     Gosper       31  \n",
       "3228  39075     6     Holmes       39  \n",
       "3229  48171     6  Gillespie       48  \n",
       "3230  55079     6  Milwaukee       55  \n",
       "3231  26139     6     Ottawa       26  \n",
       "\n",
       "[3232 rows x 10 columns]"
      ],
      "text/html": "<div>\n<style scoped>\n    .dataframe tbody tr th:only-of-type {\n        vertical-align: middle;\n    }\n\n    .dataframe tbody tr th {\n        vertical-align: top;\n    }\n\n    .dataframe thead th {\n        text-align: right;\n    }\n</style>\n<table border=\"1\" class=\"dataframe\">\n  <thead>\n    <tr style=\"text-align: right;\">\n      <th></th>\n      <th>shapeID</th>\n      <th>AFFGEOID</th>\n      <th>ALAND</th>\n      <th>AWATER</th>\n      <th>COUNTYFP</th>\n      <th>COUNTYNS</th>\n      <th>GEOID</th>\n      <th>LSAD</th>\n      <th>NAME</th>\n      <th>STATEFP</th>\n    </tr>\n  </thead>\n  <tbody>\n    <tr>\n      <th>0</th>\n      <td>0</td>\n      <td>0500000US21007</td>\n      <td>639387454</td>\n      <td>69473325</td>\n      <td>7</td>\n      <td>516850</td>\n      <td>21007</td>\n      <td>6</td>\n      <td>Ballard</td>\n      <td>21</td>\n    </tr>\n    <tr>\n      <th>1</th>\n      <td>1</td>\n      <td>0500000US21017</td>\n      <td>750439351</td>\n      <td>4829777</td>\n      <td>17</td>\n      <td>516855</td>\n      <td>21017</td>\n      <td>6</td>\n      <td>Bourbon</td>\n      <td>21</td>\n    </tr>\n    <tr>\n      <th>2</th>\n      <td>2</td>\n      <td>0500000US21031</td>\n      <td>1103571974</td>\n      <td>13943044</td>\n      <td>31</td>\n      <td>516862</td>\n      <td>21031</td>\n      <td>6</td>\n      <td>Butler</td>\n      <td>21</td>\n    </tr>\n    <tr>\n      <th>3</th>\n      <td>3</td>\n      <td>0500000US21065</td>\n      <td>655509930</td>\n      <td>6516335</td>\n      <td>65</td>\n      <td>516879</td>\n      <td>21065</td>\n      <td>6</td>\n      <td>Estill</td>\n      <td>21</td>\n    </tr>\n    <tr>\n      <th>4</th>\n      <td>4</td>\n      <td>0500000US21069</td>\n      <td>902727151</td>\n      <td>7182793</td>\n      <td>69</td>\n      <td>516881</td>\n      <td>21069</td>\n      <td>6</td>\n      <td>Fleming</td>\n      <td>21</td>\n    </tr>\n    <tr>\n      <th>...</th>\n      <td>...</td>\n      <td>...</td>\n      <td>...</td>\n      <td>...</td>\n      <td>...</td>\n      <td>...</td>\n      <td>...</td>\n      <td>...</td>\n      <td>...</td>\n      <td>...</td>\n    </tr>\n    <tr>\n      <th>3227</th>\n      <td>3228</td>\n      <td>0500000US31073</td>\n      <td>1186616237</td>\n      <td>11831826</td>\n      <td>73</td>\n      <td>835858</td>\n      <td>31073</td>\n      <td>6</td>\n      <td>Gosper</td>\n      <td>31</td>\n    </tr>\n    <tr>\n      <th>3228</th>\n      <td>3229</td>\n      <td>0500000US39075</td>\n      <td>1094405866</td>\n      <td>3695230</td>\n      <td>75</td>\n      <td>1074050</td>\n      <td>39075</td>\n      <td>6</td>\n      <td>Holmes</td>\n      <td>39</td>\n    </tr>\n    <tr>\n      <th>3229</th>\n      <td>3230</td>\n      <td>0500000US48171</td>\n      <td>2740719114</td>\n      <td>9012764</td>\n      <td>171</td>\n      <td>1383871</td>\n      <td>48171</td>\n      <td>6</td>\n      <td>Gillespie</td>\n      <td>48</td>\n    </tr>\n    <tr>\n      <th>3230</th>\n      <td>3231</td>\n      <td>0500000US55079</td>\n      <td>625440563</td>\n      <td>2455383635</td>\n      <td>79</td>\n      <td>1581100</td>\n      <td>55079</td>\n      <td>6</td>\n      <td>Milwaukee</td>\n      <td>55</td>\n    </tr>\n    <tr>\n      <th>3231</th>\n      <td>3232</td>\n      <td>0500000US26139</td>\n      <td>1459502408</td>\n      <td>2765830983</td>\n      <td>139</td>\n      <td>1623012</td>\n      <td>26139</td>\n      <td>6</td>\n      <td>Ottawa</td>\n      <td>26</td>\n    </tr>\n  </tbody>\n</table>\n<p>3232 rows × 10 columns</p>\n</div>"
     },
     "metadata": {},
     "execution_count": 7
    }
   ],
   "source": [
    "props = pd.read_csv(\"../../data/cams/shape_properties.csv\")\n",
    "props"
   ]
  },
  {
   "cell_type": "code",
   "execution_count": 10,
   "metadata": {},
   "outputs": [
    {
     "output_type": "execute_result",
     "data": {
      "text/plain": [
       "       shapeID       date  mobility_transit_stations  \\\n",
       "12582    10003 2020-03-29                      -42.0   \n",
       "12583    10003 2020-03-30                      -39.0   \n",
       "12584    10003 2020-03-31                      -40.0   \n",
       "12585    10003 2020-04-01                      -56.0   \n",
       "12586    10003 2020-04-02                      -52.0   \n",
       "...        ...        ...                        ...   \n",
       "29557    55133 2020-11-16                      -31.0   \n",
       "29558    55133 2020-11-17                      -34.5   \n",
       "29559    55133 2020-11-18                      -38.0   \n",
       "29560    55133 2020-11-19                      -26.0   \n",
       "29561    55133 2020-11-20                      -29.0   \n",
       "\n",
       "       mobility_retail_and_recreation  mobility_grocery_and_pharmacy  \\\n",
       "12582                           -28.0                           -6.0   \n",
       "12583                           -26.0                            0.0   \n",
       "12584                           -35.0                           -9.0   \n",
       "12585                           -38.0                          -19.0   \n",
       "12586                           -31.0                          -12.0   \n",
       "...                               ...                            ...   \n",
       "29557                           -23.0                           -9.0   \n",
       "29558                           -16.0                           -1.0   \n",
       "29559                           -17.0                           -9.0   \n",
       "29560                           -17.0                           -3.0   \n",
       "29561                           -26.0                          -10.0   \n",
       "\n",
       "       mobility_parks  mobility_residential  mobility_workplaces  \\\n",
       "12582             2.0                  17.0                -39.0   \n",
       "12583            49.0                  17.0                -40.0   \n",
       "12584            78.0                  11.0                -25.0   \n",
       "12585            17.0                  10.0                -30.0   \n",
       "12586           -49.0                  19.0                -45.0   \n",
       "...               ...                   ...                  ...   \n",
       "29557            98.0                  14.0                -35.0   \n",
       "29558           144.0                   4.0                 -6.0   \n",
       "29559           114.0                   3.0                -10.0   \n",
       "29560            74.0                  12.0                -32.0   \n",
       "29561            32.0                  15.0                -36.0   \n",
       "\n",
       "       smoothed_cumul  smoothed_d1  ...   x7_amax   x8_mean   x8_amin  \\\n",
       "12582      141.809524    21.892857  ...  0.762621 -0.290963 -0.987737   \n",
       "12583      166.000000    23.750000  ...  0.860248  0.550598 -0.238915   \n",
       "12584      191.000000    25.892857  ...  1.432990 -0.418361 -1.100802   \n",
       "12585      212.238095    38.250000  ...  0.858769 -1.154608 -1.715199   \n",
       "12586      254.857143    46.392857  ...  1.974859 -0.561181 -1.704962   \n",
       "...               ...          ...  ...       ...       ...       ...   \n",
       "29557    20912.666667   777.357143  ...  0.245586  0.285412 -0.105664   \n",
       "29558    21829.952381   893.464286  ... -0.812017  0.697624  0.464090   \n",
       "29559    23075.476190   906.571429  ... -0.587159  0.753704  0.416389   \n",
       "29560    24195.761905   770.071429  ... -0.314402  0.924094  0.587659   \n",
       "29561    24852.428571   507.428571  ... -0.744316  1.504519  1.236295   \n",
       "\n",
       "        x8_amax   x9_mean   x9_amin   x9_amax  x10_mean  x10_amin  x10_amax  \n",
       "12582  0.032615 -0.376480 -0.833365  0.210322  0.481506 -0.215669  1.328427  \n",
       "12583  1.072211 -0.201743 -0.840541  0.407437  0.070182 -0.885137  0.932346  \n",
       "12584  0.766658  0.034947 -0.495268  0.470400 -0.747065 -1.050835 -0.306901  \n",
       "12585 -0.941215  0.829711  0.320043  1.218661 -0.731472 -1.216402  0.030832  \n",
       "12586  0.777859  0.254482 -0.507295  0.935299 -0.212581 -1.210952  0.418377  \n",
       "...         ...       ...       ...       ...       ...       ...       ...  \n",
       "29557  0.863202 -0.217611 -0.801242  0.307856  0.241920 -0.126822  0.736519  \n",
       "29558  0.950370  0.101097 -0.132406  0.507043  0.568914  0.204780  0.828934  \n",
       "29559  1.219656  0.332824 -0.363286  0.880683  0.157192 -0.286517  0.703741  \n",
       "29560  1.672445  0.053305 -0.199086  0.431580 -0.046998 -0.446054  0.140200  \n",
       "29561  2.151778 -0.351406 -1.682168  0.331051  0.279994 -0.082663  0.622010  \n",
       "\n",
       "[34521 rows x 44 columns]"
      ],
      "text/html": "<div>\n<style scoped>\n    .dataframe tbody tr th:only-of-type {\n        vertical-align: middle;\n    }\n\n    .dataframe tbody tr th {\n        vertical-align: top;\n    }\n\n    .dataframe thead th {\n        text-align: right;\n    }\n</style>\n<table border=\"1\" class=\"dataframe\">\n  <thead>\n    <tr style=\"text-align: right;\">\n      <th></th>\n      <th>shapeID</th>\n      <th>date</th>\n      <th>mobility_transit_stations</th>\n      <th>mobility_retail_and_recreation</th>\n      <th>mobility_grocery_and_pharmacy</th>\n      <th>mobility_parks</th>\n      <th>mobility_residential</th>\n      <th>mobility_workplaces</th>\n      <th>smoothed_cumul</th>\n      <th>smoothed_d1</th>\n      <th>...</th>\n      <th>x7_amax</th>\n      <th>x8_mean</th>\n      <th>x8_amin</th>\n      <th>x8_amax</th>\n      <th>x9_mean</th>\n      <th>x9_amin</th>\n      <th>x9_amax</th>\n      <th>x10_mean</th>\n      <th>x10_amin</th>\n      <th>x10_amax</th>\n    </tr>\n  </thead>\n  <tbody>\n    <tr>\n      <th>12582</th>\n      <td>10003</td>\n      <td>2020-03-29</td>\n      <td>-42.0</td>\n      <td>-28.0</td>\n      <td>-6.0</td>\n      <td>2.0</td>\n      <td>17.0</td>\n      <td>-39.0</td>\n      <td>141.809524</td>\n      <td>21.892857</td>\n      <td>...</td>\n      <td>0.762621</td>\n      <td>-0.290963</td>\n      <td>-0.987737</td>\n      <td>0.032615</td>\n      <td>-0.376480</td>\n      <td>-0.833365</td>\n      <td>0.210322</td>\n      <td>0.481506</td>\n      <td>-0.215669</td>\n      <td>1.328427</td>\n    </tr>\n    <tr>\n      <th>12583</th>\n      <td>10003</td>\n      <td>2020-03-30</td>\n      <td>-39.0</td>\n      <td>-26.0</td>\n      <td>0.0</td>\n      <td>49.0</td>\n      <td>17.0</td>\n      <td>-40.0</td>\n      <td>166.000000</td>\n      <td>23.750000</td>\n      <td>...</td>\n      <td>0.860248</td>\n      <td>0.550598</td>\n      <td>-0.238915</td>\n      <td>1.072211</td>\n      <td>-0.201743</td>\n      <td>-0.840541</td>\n      <td>0.407437</td>\n      <td>0.070182</td>\n      <td>-0.885137</td>\n      <td>0.932346</td>\n    </tr>\n    <tr>\n      <th>12584</th>\n      <td>10003</td>\n      <td>2020-03-31</td>\n      <td>-40.0</td>\n      <td>-35.0</td>\n      <td>-9.0</td>\n      <td>78.0</td>\n      <td>11.0</td>\n      <td>-25.0</td>\n      <td>191.000000</td>\n      <td>25.892857</td>\n      <td>...</td>\n      <td>1.432990</td>\n      <td>-0.418361</td>\n      <td>-1.100802</td>\n      <td>0.766658</td>\n      <td>0.034947</td>\n      <td>-0.495268</td>\n      <td>0.470400</td>\n      <td>-0.747065</td>\n      <td>-1.050835</td>\n      <td>-0.306901</td>\n    </tr>\n    <tr>\n      <th>12585</th>\n      <td>10003</td>\n      <td>2020-04-01</td>\n      <td>-56.0</td>\n      <td>-38.0</td>\n      <td>-19.0</td>\n      <td>17.0</td>\n      <td>10.0</td>\n      <td>-30.0</td>\n      <td>212.238095</td>\n      <td>38.250000</td>\n      <td>...</td>\n      <td>0.858769</td>\n      <td>-1.154608</td>\n      <td>-1.715199</td>\n      <td>-0.941215</td>\n      <td>0.829711</td>\n      <td>0.320043</td>\n      <td>1.218661</td>\n      <td>-0.731472</td>\n      <td>-1.216402</td>\n      <td>0.030832</td>\n    </tr>\n    <tr>\n      <th>12586</th>\n      <td>10003</td>\n      <td>2020-04-02</td>\n      <td>-52.0</td>\n      <td>-31.0</td>\n      <td>-12.0</td>\n      <td>-49.0</td>\n      <td>19.0</td>\n      <td>-45.0</td>\n      <td>254.857143</td>\n      <td>46.392857</td>\n      <td>...</td>\n      <td>1.974859</td>\n      <td>-0.561181</td>\n      <td>-1.704962</td>\n      <td>0.777859</td>\n      <td>0.254482</td>\n      <td>-0.507295</td>\n      <td>0.935299</td>\n      <td>-0.212581</td>\n      <td>-1.210952</td>\n      <td>0.418377</td>\n    </tr>\n    <tr>\n      <th>...</th>\n      <td>...</td>\n      <td>...</td>\n      <td>...</td>\n      <td>...</td>\n      <td>...</td>\n      <td>...</td>\n      <td>...</td>\n      <td>...</td>\n      <td>...</td>\n      <td>...</td>\n      <td>...</td>\n      <td>...</td>\n      <td>...</td>\n      <td>...</td>\n      <td>...</td>\n      <td>...</td>\n      <td>...</td>\n      <td>...</td>\n      <td>...</td>\n      <td>...</td>\n      <td>...</td>\n    </tr>\n    <tr>\n      <th>29557</th>\n      <td>55133</td>\n      <td>2020-11-16</td>\n      <td>-31.0</td>\n      <td>-23.0</td>\n      <td>-9.0</td>\n      <td>98.0</td>\n      <td>14.0</td>\n      <td>-35.0</td>\n      <td>20912.666667</td>\n      <td>777.357143</td>\n      <td>...</td>\n      <td>0.245586</td>\n      <td>0.285412</td>\n      <td>-0.105664</td>\n      <td>0.863202</td>\n      <td>-0.217611</td>\n      <td>-0.801242</td>\n      <td>0.307856</td>\n      <td>0.241920</td>\n      <td>-0.126822</td>\n      <td>0.736519</td>\n    </tr>\n    <tr>\n      <th>29558</th>\n      <td>55133</td>\n      <td>2020-11-17</td>\n      <td>-34.5</td>\n      <td>-16.0</td>\n      <td>-1.0</td>\n      <td>144.0</td>\n      <td>4.0</td>\n      <td>-6.0</td>\n      <td>21829.952381</td>\n      <td>893.464286</td>\n      <td>...</td>\n      <td>-0.812017</td>\n      <td>0.697624</td>\n      <td>0.464090</td>\n      <td>0.950370</td>\n      <td>0.101097</td>\n      <td>-0.132406</td>\n      <td>0.507043</td>\n      <td>0.568914</td>\n      <td>0.204780</td>\n      <td>0.828934</td>\n    </tr>\n    <tr>\n      <th>29559</th>\n      <td>55133</td>\n      <td>2020-11-18</td>\n      <td>-38.0</td>\n      <td>-17.0</td>\n      <td>-9.0</td>\n      <td>114.0</td>\n      <td>3.0</td>\n      <td>-10.0</td>\n      <td>23075.476190</td>\n      <td>906.571429</td>\n      <td>...</td>\n      <td>-0.587159</td>\n      <td>0.753704</td>\n      <td>0.416389</td>\n      <td>1.219656</td>\n      <td>0.332824</td>\n      <td>-0.363286</td>\n      <td>0.880683</td>\n      <td>0.157192</td>\n      <td>-0.286517</td>\n      <td>0.703741</td>\n    </tr>\n    <tr>\n      <th>29560</th>\n      <td>55133</td>\n      <td>2020-11-19</td>\n      <td>-26.0</td>\n      <td>-17.0</td>\n      <td>-3.0</td>\n      <td>74.0</td>\n      <td>12.0</td>\n      <td>-32.0</td>\n      <td>24195.761905</td>\n      <td>770.071429</td>\n      <td>...</td>\n      <td>-0.314402</td>\n      <td>0.924094</td>\n      <td>0.587659</td>\n      <td>1.672445</td>\n      <td>0.053305</td>\n      <td>-0.199086</td>\n      <td>0.431580</td>\n      <td>-0.046998</td>\n      <td>-0.446054</td>\n      <td>0.140200</td>\n    </tr>\n    <tr>\n      <th>29561</th>\n      <td>55133</td>\n      <td>2020-11-20</td>\n      <td>-29.0</td>\n      <td>-26.0</td>\n      <td>-10.0</td>\n      <td>32.0</td>\n      <td>15.0</td>\n      <td>-36.0</td>\n      <td>24852.428571</td>\n      <td>507.428571</td>\n      <td>...</td>\n      <td>-0.744316</td>\n      <td>1.504519</td>\n      <td>1.236295</td>\n      <td>2.151778</td>\n      <td>-0.351406</td>\n      <td>-1.682168</td>\n      <td>0.331051</td>\n      <td>0.279994</td>\n      <td>-0.082663</td>\n      <td>0.622010</td>\n    </tr>\n  </tbody>\n</table>\n<p>34521 rows × 44 columns</p>\n</div>"
     },
     "metadata": {},
     "execution_count": 10
    }
   ],
   "source": [
    "df_total = pd.merge(props, df_covid, how=\"inner\", left_on=['GEOID'], right_on=['county_id'])\n",
    "df_total = pd.merge(df_total,df_cams,how=\"inner\", left_on=[\"date\",'shapeID'], right_on=[\"time\",'shapeID'])\n",
    "df_total = df_total[df_total.columns.drop([\"AFFGEOID\",\"ALAND\",\"shapeID\",\"AWATER\",\"COUNTYFP\",\"COUNTYNS\",\"LSAD\",\"NAME\",\"STATEFP\",\"time\",\"county_id\"])]\n",
    "df_total = df_total.rename({\"GEOID\":\"shapeID\"},axis=1)\n",
    "df_total = df_total.sort_values(by=[\"shapeID\",\"date\"])\n",
    "df_total"
   ]
  },
  {
   "cell_type": "code",
   "execution_count": 9,
   "metadata": {},
   "outputs": [],
   "source": [
    "df_total.to_csv(\"../../data_processed/usa_urban_final.csv\")"
   ]
  },
  {
   "cell_type": "code",
   "execution_count": null,
   "metadata": {},
   "outputs": [],
   "source": []
  }
 ]
}