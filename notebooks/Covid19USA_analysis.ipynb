{
 "cells": [
  {
   "cell_type": "code",
   "execution_count": 23,
   "metadata": {},
   "outputs": [],
   "source": [
    "from random import randint\n",
    "from pandas import Timestamp, Timedelta\n",
    "from scipy.fft import fft\n",
    "from matplotlib import pyplot as plt\n",
    "\n",
    "import numpy as np\n",
    "import scipy.signal as sg\n",
    "def autocorrelation(arr:np.ndarray) -> np.ndarray:\n",
    "    ret = arr-np.mean(arr)\n",
    "    ret = sg.correlate(ret,ret,mode=\"full\")[len(ret)-1:]\n",
    "    # Required overlap of at least 33% of the data\n",
    "    return ret[:2*len(ret)//3] / ret[0]"
   ]
  },
  {
   "cell_type": "code",
   "execution_count": 24,
   "metadata": {},
   "outputs": [],
   "source": [
    "f = open(\"covid_confirmed_usafacts.csv\",\"r\")\n",
    "\n",
    "headers = next(f).split(\",\")\n",
    "\n",
    "for i in range(4,len(headers)):\n",
    "    tmp = tuple(map(lambda x : int(x),headers[i].split(\"/\")))\n",
    "\n",
    "    headers[i] = Timestamp(year=2000+tmp[2], month=tmp[0], day=tmp[1])\n",
    "\n",
    "lines = []\n",
    "\n",
    "for line in f:\n",
    "    tmp = line.rstrip().split(\",\")\n",
    "    #print(tmp[4:])\n",
    "    # Calc delta\n",
    "    for i in range(len(tmp)-1,4,-1):\n",
    "        tmp[i-1] = int(tmp[i-1])\n",
    "        tmp[i] = int(tmp[i]) - tmp[i-1]\n",
    "    # Correct missing data\n",
    "    for i in range(len(tmp)-1,5,-1):\n",
    "        if tmp[i] > 0 and tmp[i-1] == 0 and tmp[i-2] > 0:\n",
    "            tmp[i] /= 2\n",
    "            tmp[i-1] = tmp[i]\n",
    "    # Calculate relative delta\n",
    "    for i in range(len(tmp)-1,4,-1):\n",
    "        if tmp[i-1] >= 30:\n",
    "            tmp[i] = tmp[i] / tmp[i-1]\n",
    "    #print(tmp[4:],\"\\n\")\n",
    "    lines.append([tmp[:4],tmp[4:]])\n",
    "\n",
    "f.close()"
   ]
  },
  {
   "cell_type": "code",
   "execution_count": 25,
   "metadata": {},
   "outputs": [],
   "source": [
    "validPeriods = []\n",
    "\n",
    "for line in lines:\n",
    "    lineData = line[1]\n",
    "    periods = []\n",
    "    inPeriod = False\n",
    "    minI = 0\n",
    "    \n",
    "    # Look for consecutive dates (> 14 days) with more than 20 cases per day\n",
    "    for i,inc in enumerate(lineData):\n",
    "        if type(inc) is int:\n",
    "            if inPeriod:\n",
    "                if i - minI >= 14:\n",
    "                    periods.append((minI,i))\n",
    "                inPeriod = False\n",
    "            else:\n",
    "                minI = i\n",
    "        elif not inPeriod:\n",
    "            inPeriod = True\n",
    "            minI = i\n",
    "\n",
    "    # Gather period data, with location, dates,\n",
    "    # relative deltas and autocorrelation of relative deltas\n",
    "    for period in periods:\n",
    "        newPeriod = [line[0],headers[period[0]:period[1]]]\n",
    "        tmp = np.array(line[1][period[0]:period[1]])\n",
    "        newPeriod.append(tmp)\n",
    "        newPeriod.append(autocorrelation(tmp))\n",
    "\n",
    "        validPeriods.append(tuple(newPeriod))\n",
    "        #print(newPeriod)\n",
    "        \n",
    "#validPeriods"
   ]
  },
  {
   "cell_type": "code",
   "execution_count": 26,
   "metadata": {},
   "outputs": [
    {
     "data": {
      "text/plain": [
       "248"
      ]
     },
     "execution_count": 26,
     "metadata": {},
     "output_type": "execute_result"
    }
   ],
   "source": [
    "minLen = 15\n",
    "\n",
    "transformInfo = []\n",
    "transforms = []\n",
    "\n",
    "# Look for autocorrelations for periods of at least 3 weeks\n",
    "for validPeriod in validPeriods:\n",
    "    if len(validPeriod[3]) >= minLen:\n",
    "        transforms.append(validPeriod[3][:minLen])\n",
    "\n",
    "transforms = np.array(transforms)\n",
    "\n",
    "len(transforms)"
   ]
  },
  {
   "cell_type": "code",
   "execution_count": 27,
   "metadata": {},
   "outputs": [
    {
     "data": {
      "image/png": "[encoded data removed]",
      "text/plain": [
       "<Figure size 432x288 with 1 Axes>"
      ]
     },
     "metadata": {
      "needs_background": "light"
     },
     "output_type": "display_data"
    }
   ],
   "source": [
    "fig,ax = plt.subplots()\n",
    "\n",
    "transform_means = np.mean(transforms,axis=0)\n",
    "transform_sd = np.std(transforms,axis=0)\n",
    "\n",
    "#tmp = np.abs(transforms)\n",
    "#transform_abs_means = np.mean(tmp,axis=0)\n",
    "#transform_abs_sd = np.std(tmp,axis=0)\n",
    "\n",
    "ax.plot(range(15),transform_means,color=\"blue\")\n",
    "#ax.plot(range(15),transform_abs_means,color=\"orange\")\n",
    "\n",
    "ax.fill_between(range(15), transform_means+1.96*transform_sd, transform_means-1.96*transform_sd, facecolor='blue', alpha=0.5)\n",
    "#ax.fill_between(range(15), transform_abs_means+1.96*transform_abs_sd, transform_abs_means-1.96*transform_abs_sd, facecolor='orange', alpha=0.5)\n",
    "\n",
    "ax.set_xlabel(\"Lag time (days)\")\n",
    "ax.set_ylabel(\"Autocorrelation\")\n",
    "\n",
    "ax.set_title(\"Autocorrelation of new cases relative increase\\nall counties in the USA with more than 20 cases per day\\nfor at least 3 weeks.\")\n",
    "\n",
    "plt.show()"
   ]
  },
  {
   "cell_type": "code",
   "execution_count": null,
   "metadata": {},
   "outputs": [],
   "source": []
  }
 ],
 "metadata": {
  "kernelspec": {
   "display_name": "Python 3",
   "language": "python",
   "name": "python3"
  },
  "language_info": {
   "codemirror_mode": {
    "name": "ipython",
    "version": 3
   },
   "file_extension": ".py",
   "mimetype": "text/x-python",
   "name": "python",
   "nbconvert_exporter": "python",
   "pygments_lexer": "ipython3",
   "version": "3.7.6"
  }
 },
 "nbformat": 4,
 "nbformat_minor": 4
}
