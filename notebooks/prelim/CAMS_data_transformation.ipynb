{
 "cells": [
  {
   "cell_type": "code",
   "execution_count": null,
   "metadata": {},
   "outputs": [],
   "source": [
    "import numpy as np\n",
    "import pandas as pd"
   ]
  },
  {
   "cell_type": "code",
   "execution_count": null,
   "metadata": {},
   "outputs": [],
   "source": [
    "df = pd.read_csv(\"output_mar.csv\")\n",
    "props = pd.read_csv(\"shape_properties_mar.csv\")"
   ]
  },
  {
   "cell_type": "code",
   "execution_count": null,
   "metadata": {},
   "outputs": [],
   "source": [
    "aodSums = None\n",
    "AODs = [column for column in df.columns if \"aod\" in column and column != \"aod550\"]\n",
    "\n",
    "for aod in AODs:\n",
    "    if aodSums is None:\n",
    "        aodSums = df[aod].copy()\n",
    "    else:\n",
    "        aodSums += df[aod]\n",
    "        \n",
    "for aod in AODs:\n",
    "    df[aod] /= aodSums\n",
    "    \n",
    "humid = df[\"t2m\"].copy()\n",
    "dew = df[\"d2m\"]\n",
    "\n",
    "humid = np.exp(-2.501e6*(humid - dew)/(461.5*humid*dew))\n",
    "\n",
    "df[\"hum\"] = humid\n",
    "\n",
    "df[\"msl\"] /= 101325.0 # Pa -> atm (Standard atmosphere at sea level)\n",
    "\n",
    "df[\"t2m\"] /= 273.15 # 0 Celsius at 1.0\n",
    "df[\"d2m\"] /= 273.15 # 0 Celsius at 1.0\n",
    "\n",
    "# kg/m^3 -> µg/m^3\n",
    "df[\"pm1\"] *= 10**9\n",
    "df[\"pm2p5\"] *= 10**9\n",
    "df[\"pm10\"] *= 10**9\n",
    "\n",
    "# To nearest unit\n",
    "tcs = [column for column in df.columns if column[:2] == \"tc\"]\n",
    "for tc in tcs:\n",
    "    maxLog = np.log10(df[tc].max())//3\n",
    "    \n",
    "    maxLog *= 3\n",
    "    \n",
    "    df[tc] *= 10**-maxLog\n",
    "\n",
    "df[\"time\"] = pd.to_datetime(df[\"time\"])\n",
    "\n",
    "df = df.sort_values([\"shapeID\",\"time\"])\n",
    "\n",
    "df.describe()"
   ]
  },
  {
   "cell_type": "code",
   "execution_count": null,
   "metadata": {},
   "outputs": [],
   "source": [
    "df.hist(figsize=(36,36))"
   ]
  },
  {
   "cell_type": "code",
   "execution_count": null,
   "metadata": {},
   "outputs": [],
   "source": [
    "df_std = df.copy()\n",
    "pms = [\"pm1\",\"pm2p5\",\"pm10\"]\n",
    "\n",
    "for tc in tcs:\n",
    "    df_std[tc] = np.log10(df_std[tc] + max(1e-15,min(df_std[tc])))\n",
    "\n",
    "for pm in pms:\n",
    "    df_std[pm] = np.log10(df_std[pm] + max(1e-15,min(df_std[pm])))\n",
    "\n",
    "df_std[\"aod550\"] = np.log(df_std[\"aod550\"] + max(1e-15,min(df_std[\"aod550\"])))"
   ]
  },
  {
   "cell_type": "code",
   "execution_count": null,
   "metadata": {},
   "outputs": [],
   "source": [
    "df_std.hist(figsize=(36,36))"
   ]
  },
  {
   "cell_type": "code",
   "execution_count": null,
   "metadata": {},
   "outputs": [],
   "source": [
    "from sklearn.decomposition import PCA\n",
    "import matplotlib.pyplot as plt\n",
    "\n",
    "def plot_variance(x, max=20):\n",
    "    explained_var = []\n",
    "    for i in range(max):\n",
    "        ratio = PCA(n_components=i).fit(x).explained_variance\n",
    "        explained_var.push(ratio)\n",
    "    plt.plot(explained_var, range(max))\n",
    "    plt.show()"
   ]
  },
  {
   "cell_type": "code",
   "execution_count": null,
   "metadata": {},
   "outputs": [],
   "source": [
    "ind_vars = [\"pm2p5\",\"aod550\",\"t2m\",\"d2m\",\"msl\"]\n",
    "\n",
    "ind_vars.extend(tcs)\n",
    "\n",
    "plot_variance(df[ind_vars].values)"
   ]
  },
  {
   "cell_type": "code",
   "execution_count": null,
   "metadata": {},
   "outputs": [],
   "source": [
    "def plot_variance_single(x, max=10):\n",
    "        explained_var = PCA(n_components=max).fit(x).explained_variance_ratio_\n",
    "        plt.plot(range(1,max+1),np.cumsum(explained_var))\n",
    "        plt.show()"
   ]
  },
  {
   "cell_type": "code",
   "execution_count": null,
   "metadata": {},
   "outputs": [],
   "source": []
  },
  {
   "cell_type": "code",
   "execution_count": null,
   "metadata": {},
   "outputs": [],
   "source": []
  }
 ],
 "metadata": {
  "kernelspec": {
   "display_name": "Python 3",
   "language": "python",
   "name": "python3"
  },
  "language_info": {
   "codemirror_mode": {
    "name": "ipython",
    "version": 3
   },
   "file_extension": ".py",
   "mimetype": "text/x-python",
   "name": "python",
   "nbconvert_exporter": "python",
   "pygments_lexer": "ipython3",
   "version": "3.7.6"
  }
 },
 "nbformat": 4,
 "nbformat_minor": 4
}
