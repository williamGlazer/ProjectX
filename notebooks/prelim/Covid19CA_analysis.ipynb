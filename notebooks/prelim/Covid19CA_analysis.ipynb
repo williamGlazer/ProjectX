{
 "cells": [
  {
   "cell_type": "code",
   "execution_count": 35,
   "metadata": {},
   "outputs": [],
   "source": [
    "from random import randint\n",
    "import pandas as pd\n",
    "from scipy.fft import fft\n",
    "from matplotlib import pyplot as plt\n",
    "\n",
    "import numpy as np\n",
    "import scipy.signal as sg\n",
    "def autocorrelation(arr:np.ndarray) -> np.ndarray:\n",
    "    ret = arr-np.mean(arr)\n",
    "    ret = sg.correlate(ret,ret,mode=\"full\")[len(ret)-1:]\n",
    "    # Required overlap of at least 33% of the data\n",
    "    return ret[:2*len(ret)//3] / ret[0]"
   ]
  },
  {
   "cell_type": "code",
   "execution_count": 36,
   "metadata": {},
   "outputs": [],
   "source": [
    "df = pd.read_csv(\"../Covid19Canada/timeseries_hr/cases_timeseries_hr.csv\")\n",
    "\n",
    "caseSeries = []\n",
    "\n",
    "# province \thealth_region \tdate_report \tcases \tcumulative_cases\n",
    "for province in df[\"province\"].unique():\n",
    "    provinceData = df[df[\"province\"] == province]\n",
    "    for hr in df[\"health_region\"].unique():\n",
    "        series = provinceData[provinceData[\"health_region\"] == hr]\n",
    "        dates = series[\"date_report\"].values\n",
    "        values = list(map(lambda x : int(x), series[\"cases\"].values))\n",
    "        if len(values) > 0:\n",
    "            for i in range(len(values)-1,1,-1):\n",
    "                if values[i-2] > 0 and values[i-1] == 0 and values[i] > 0:\n",
    "                    values[i-1] = values[i]//2\n",
    "                    values[i] = values[i]//2 + (values[i] & 1)\n",
    "            for i in range(len(values)-1,2,-1):\n",
    "                if values[i-3] > 0 and values[i-2] == 0 and values[i-1] == 0 and values[i] > 0:\n",
    "                    values[i-2] = values[i]//3\n",
    "                    values[i-1] = values[i]//3\n",
    "                    values[i] = values[i]//3 + (values[i] % 3)\n",
    "            for i in range(len(values)-1,0,-1):\n",
    "                if values[i-1] > 20:\n",
    "                    values[i] /= values[i-1]\n",
    "            for i,date in enumerate(dates):\n",
    "                date = tuple(map(lambda x : int(x),date.split(\"-\")))\n",
    "                dates[i] = pd.Timestamp(year=date[2],month=date[1],day=date[0])\n",
    "            #print(dates,values)\n",
    "            caseSeries.append(((province,hr),dates,values))"
   ]
  },
  {
   "cell_type": "code",
   "execution_count": 37,
   "metadata": {},
   "outputs": [
    {
     "data": {
      "text/plain": [
       "18"
      ]
     },
     "execution_count": 37,
     "metadata": {},
     "output_type": "execute_result"
    }
   ],
   "source": [
    "validPeriods = []\n",
    "\n",
    "for line in caseSeries:\n",
    "    lineData = line[2]\n",
    "    periods = []\n",
    "    inPeriod = False\n",
    "    minI = 0\n",
    "    \n",
    "    # Look for consecutive dates (> 14 days) with more than 20 cases per day\n",
    "    for i,inc in enumerate(lineData):\n",
    "        if type(inc) is int:\n",
    "            if inPeriod:\n",
    "                if i - minI >= 14:\n",
    "                    periods.append((minI,i))\n",
    "                inPeriod = False\n",
    "            else:\n",
    "                minI = i\n",
    "        elif not inPeriod:\n",
    "            inPeriod = True\n",
    "            minI = i\n",
    "\n",
    "    # Gather period data, with location, dates,\n",
    "    # relative deltas and autocorrelation of relative deltas\n",
    "    for period in periods:\n",
    "        newPeriod = [line[0],line[1][period[0]:period[1]]]\n",
    "        tmp = np.array(lineData[period[0]:period[1]])\n",
    "        newPeriod.append(tmp)\n",
    "        newPeriod.append(autocorrelation(tmp))\n",
    "\n",
    "        validPeriods.append(tuple(newPeriod))\n",
    "        #print(newPeriod)\n",
    "        \n",
    "len(validPeriods)"
   ]
  },
  {
   "cell_type": "code",
   "execution_count": 38,
   "metadata": {},
   "outputs": [
    {
     "data": {
      "text/plain": [
       "13"
      ]
     },
     "execution_count": 38,
     "metadata": {},
     "output_type": "execute_result"
    }
   ],
   "source": [
    "minLen = 15\n",
    "\n",
    "transformInfo = []\n",
    "transforms = []\n",
    "\n",
    "# Look for autocorrelations for periods of at least 3 weeks\n",
    "for validPeriod in validPeriods:\n",
    "    if len(validPeriod[3]) >= minLen:\n",
    "        transforms.append(validPeriod[3][:minLen])\n",
    "\n",
    "transforms = np.array(transforms)\n",
    "\n",
    "len(transforms)"
   ]
  },
  {
   "cell_type": "code",
   "execution_count": 39,
   "metadata": {},
   "outputs": [
    {
     "data": {
      "image/png": "[encoded data removed]",
      "text/plain": [
       "<Figure size 432x288 with 1 Axes>"
      ]
     },
     "metadata": {
      "needs_background": "light"
     },
     "output_type": "display_data"
    }
   ],
   "source": [
    "fig,ax = plt.subplots()\n",
    "\n",
    "transform_means = np.mean(transforms,axis=0)\n",
    "transform_sd = np.std(transforms,axis=0)\n",
    "\n",
    "#tmp = np.abs(transforms)\n",
    "#transform_abs_means = np.mean(tmp,axis=0)\n",
    "#transform_abs_sd = np.std(tmp,axis=0)\n",
    "\n",
    "ax.plot(range(15),transform_means,color=\"blue\")\n",
    "#ax.plot(range(15),transform_abs_means,color=\"orange\")\n",
    "\n",
    "ax.fill_between(range(15), transform_means+1.96*transform_sd, transform_means-1.96*transform_sd, facecolor='blue', alpha=0.5)\n",
    "#ax.fill_between(range(15), transform_abs_means+1.96*transform_abs_sd, transform_abs_means-1.96*transform_abs_sd, facecolor='orange', alpha=0.5)\n",
    "\n",
    "ax.set_xlabel(\"Lag time (days)\")\n",
    "ax.set_ylabel(\"Autocorrelation\")\n",
    "\n",
    "ax.set_title(\"Autocorrelation of new cases relative increase\\nfor all Health Regions in Canada\\nwith more than 20 cases per day for at least 3 weeks.\")\n",
    "\n",
    "plt.show()"
   ]
  },
  {
   "cell_type": "code",
   "execution_count": null,
   "metadata": {},
   "outputs": [],
   "source": []
  }
 ],
 "metadata": {
  "kernelspec": {
   "display_name": "Python 3",
   "language": "python",
   "name": "python3"
  },
  "language_info": {
   "codemirror_mode": {
    "name": "ipython",
    "version": 3
   },
   "file_extension": ".py",
   "mimetype": "text/x-python",
   "name": "python",
   "nbconvert_exporter": "python",
   "pygments_lexer": "ipython3",
   "version": "3.7.6"
  }
 },
 "nbformat": 4,
 "nbformat_minor": 4
}
