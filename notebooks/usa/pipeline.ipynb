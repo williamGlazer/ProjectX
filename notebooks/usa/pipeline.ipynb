{
 "metadata": {
  "language_info": {
   "codemirror_mode": {
    "name": "ipython",
    "version": 3
   },
   "file_extension": ".py",
   "mimetype": "text/x-python",
   "name": "python",
   "nbconvert_exporter": "python",
   "pygments_lexer": "ipython3",
   "version": "3.8.6-final"
  },
  "orig_nbformat": 2,
  "kernelspec": {
   "name": "python3",
   "display_name": "Python 3"
  }
 },
 "nbformat": 4,
 "nbformat_minor": 2,
 "cells": [
  {
   "cell_type": "code",
   "execution_count": 1,
   "metadata": {},
   "outputs": [],
   "source": [
    "import sklearn\n",
    "import pandas as pd \n",
    "import seaborn as sns\n",
    "import numpy as np \n",
    "import matplotlib.pyplot as plt\n",
    "from pandas_profiling import ProfileReport\n",
    "from functools import partial\n",
    "from pathlib import Path\n",
    "import os"
   ]
  },
  {
   "cell_type": "code",
   "execution_count": 2,
   "metadata": {},
   "outputs": [],
   "source": [
    "df_covid = pd.read_csv(\"../../data_processed/usa_top30_with_density_smoothed.csv\")\n",
    "df_covid['date'] = pd.to_datetime(df_covid['date'], infer_datetime_format=True)"
   ]
  },
  {
   "cell_type": "code",
   "execution_count": 3,
   "metadata": {},
   "outputs": [],
   "source": [
    "df_cams = pd.read_csv(\"../../data/cams_data.csv\")\n",
    "df_cams['time'] = pd.to_datetime(df_cams['time'], infer_datetime_format=True)\n",
    "df_cams['time'] = df_cams['time'].apply(lambda x : x.date())"
   ]
  },
  {
   "cell_type": "code",
   "execution_count": 4,
   "metadata": {},
   "outputs": [
    {
     "output_type": "stream",
     "name": "stdout",
     "text": [
      "<class 'pandas.core.frame.DataFrame'>\nRangeIndex: 39109 entries, 0 to 39108\nData columns (total 14 columns):\n #   Column                          Non-Null Count  Dtype         \n---  ------                          --------------  -----         \n 0   shapeID                         39109 non-null  int64         \n 1   GEOID                           39109 non-null  int64         \n 2   NAME                            39109 non-null  object        \n 3   date                            39109 non-null  datetime64[ns]\n 4   cumulative_confirmed            39109 non-null  float64       \n 5   smoothed_cumul                  39109 non-null  float64       \n 6   smoothed_d1                     39109 non-null  float64       \n 7   smoothed_d2                     39109 non-null  float64       \n 8   mobility_transit_stations       39109 non-null  float64       \n 9   mobility_retail_and_recreation  39109 non-null  float64       \n 10  mobility_grocery_and_pharmacy   39109 non-null  float64       \n 11  mobility_parks                  39109 non-null  float64       \n 12  mobility_residential            39109 non-null  float64       \n 13  mobility_workplaces             39109 non-null  float64       \ndtypes: datetime64[ns](1), float64(10), int64(2), object(1)\nmemory usage: 4.2+ MB\n"
     ]
    }
   ],
   "source": [
    "df_covid.info()"
   ]
  },
  {
   "cell_type": "code",
   "execution_count": 5,
   "metadata": {
    "tags": []
   },
   "outputs": [
    {
     "output_type": "execute_result",
     "data": {
      "text/plain": [
       "                          x0                            x1            \\\n",
       "                        mean      amin      amax      mean      amin   \n",
       "time       shapeID                                                     \n",
       "2020-01-01 0        2.746214  1.318739  4.143455 -0.468615 -1.177848   \n",
       "           1        1.748343  1.136316  2.343562 -1.344321 -2.492807   \n",
       "           2        2.537780  0.904072  3.824677 -0.879046 -1.434459   \n",
       "           3        2.232631  1.758709  2.959195 -0.887527 -2.061887   \n",
       "           4        1.863745  1.278517  2.611369 -1.410770 -2.542341   \n",
       "...                      ...       ...       ...       ...       ...   \n",
       "2020-10-09 3228    -2.578400 -3.521142 -1.635649 -0.764019 -1.945059   \n",
       "           3229     1.005270 -1.254299  2.344047 -0.073360 -1.027821   \n",
       "           3230    -0.703218 -1.961407  0.308347  1.287013 -0.388428   \n",
       "           3231    -1.562584 -4.393294  1.607997 -1.495783 -2.678844   \n",
       "           3232    -0.778073 -3.746977  1.462828 -1.150497 -2.576713   \n",
       "\n",
       "                                    x2                            x3  ...  \\\n",
       "                        amax      mean      amin      amax      mean  ...   \n",
       "time       shapeID                                                    ...   \n",
       "2020-01-01 0       -0.009998 -0.196347 -1.236057  0.513239 -0.230875  ...   \n",
       "           1        0.090072  0.043200 -1.023753  0.963664 -0.100307  ...   \n",
       "           2       -0.098486 -0.283907 -1.005673  0.250384 -0.232938  ...   \n",
       "           3        0.471877 -0.039456 -0.979300  0.596698 -0.188379  ...   \n",
       "           4        0.008774 -0.033701 -1.106488  0.708281 -0.133756  ...   \n",
       "...                      ...       ...       ...       ...       ...  ...   \n",
       "2020-10-09 3228     0.639290  0.338535 -0.778648  1.246326  0.284701  ...   \n",
       "           3229     0.781522 -0.528851 -1.276024  0.369275 -0.556423  ...   \n",
       "           3230     3.819120  1.720019 -0.771418  3.415005  0.104234  ...   \n",
       "           3231    -0.499571 -0.311439 -1.377934  0.928628  0.256350  ...   \n",
       "           3232    -0.266170 -0.018446 -1.898842  2.290233  0.501033  ...   \n",
       "\n",
       "                          x7        x8                            x9  \\\n",
       "                        amax      mean      amin      amax      mean   \n",
       "time       shapeID                                                     \n",
       "2020-01-01 0        1.068301 -0.245813 -0.744365  0.098474  0.402408   \n",
       "           1        0.772818 -0.598203 -0.794981 -0.316423  0.132206   \n",
       "           2        0.784380 -0.396858 -0.731261 -0.191591  0.468917   \n",
       "           3        0.666151 -0.457559 -0.683913 -0.187589  0.202946   \n",
       "           4        0.800916 -0.647023 -0.843513 -0.368641  0.175213   \n",
       "...                      ...       ...       ...       ...       ...   \n",
       "2020-10-09 3228     2.130849 -1.888306 -2.382600 -1.423180  0.709347   \n",
       "           3229     0.873948 -1.050392 -1.614056 -0.613897  0.607270   \n",
       "           3230     0.397674 -2.009938 -2.353993 -1.631919  0.183213   \n",
       "           3231     2.137391 -1.170794 -1.769246 -0.547896  1.366944   \n",
       "           3232     1.769830 -1.018824 -1.887357 -0.487967  1.203578   \n",
       "\n",
       "                                             x10                      \n",
       "                        amin      amax      mean      amin      amax  \n",
       "time       shapeID                                                    \n",
       "2020-01-01 0        0.005759  0.672307  0.705195  0.001659  1.147249  \n",
       "           1       -0.040984  0.445009  0.150523 -0.042816  0.351716  \n",
       "           2        0.106676  0.976562  0.247497 -0.065500  0.449746  \n",
       "           3        0.009591  0.487794  0.349443  0.041207  0.643072  \n",
       "           4        0.015534  0.445459  0.073232 -0.174049  0.272420  \n",
       "...                      ...       ...       ...       ...       ...  \n",
       "2020-10-09 3228     0.209706  1.485765  1.216620  0.623109  1.549771  \n",
       "           3229    -0.264772  1.910146  0.485292  0.285741  0.770643  \n",
       "           3230    -0.378370  0.791482  0.635360  0.159731  1.067685  \n",
       "           3231     0.268053  2.583831  1.285421  0.152326  1.963216  \n",
       "           3232    -0.228016  2.551450  1.144002 -0.049164  2.273257  \n",
       "\n",
       "[914656 rows x 33 columns]"
      ],
      "text/html": "<div>\n<style scoped>\n    .dataframe tbody tr th:only-of-type {\n        vertical-align: middle;\n    }\n\n    .dataframe tbody tr th {\n        vertical-align: top;\n    }\n\n    .dataframe thead tr th {\n        text-align: left;\n    }\n\n    .dataframe thead tr:last-of-type th {\n        text-align: right;\n    }\n</style>\n<table border=\"1\" class=\"dataframe\">\n  <thead>\n    <tr>\n      <th></th>\n      <th></th>\n      <th colspan=\"3\" halign=\"left\">x0</th>\n      <th colspan=\"3\" halign=\"left\">x1</th>\n      <th colspan=\"3\" halign=\"left\">x2</th>\n      <th>x3</th>\n      <th>...</th>\n      <th>x7</th>\n      <th colspan=\"3\" halign=\"left\">x8</th>\n      <th colspan=\"3\" halign=\"left\">x9</th>\n      <th colspan=\"3\" halign=\"left\">x10</th>\n    </tr>\n    <tr>\n      <th></th>\n      <th></th>\n      <th>mean</th>\n      <th>amin</th>\n      <th>amax</th>\n      <th>mean</th>\n      <th>amin</th>\n      <th>amax</th>\n      <th>mean</th>\n      <th>amin</th>\n      <th>amax</th>\n      <th>mean</th>\n      <th>...</th>\n      <th>amax</th>\n      <th>mean</th>\n      <th>amin</th>\n      <th>amax</th>\n      <th>mean</th>\n      <th>amin</th>\n      <th>amax</th>\n      <th>mean</th>\n      <th>amin</th>\n      <th>amax</th>\n    </tr>\n    <tr>\n      <th>time</th>\n      <th>shapeID</th>\n      <th></th>\n      <th></th>\n      <th></th>\n      <th></th>\n      <th></th>\n      <th></th>\n      <th></th>\n      <th></th>\n      <th></th>\n      <th></th>\n      <th></th>\n      <th></th>\n      <th></th>\n      <th></th>\n      <th></th>\n      <th></th>\n      <th></th>\n      <th></th>\n      <th></th>\n      <th></th>\n      <th></th>\n    </tr>\n  </thead>\n  <tbody>\n    <tr>\n      <th rowspan=\"5\" valign=\"top\">2020-01-01</th>\n      <th>0</th>\n      <td>2.746214</td>\n      <td>1.318739</td>\n      <td>4.143455</td>\n      <td>-0.468615</td>\n      <td>-1.177848</td>\n      <td>-0.009998</td>\n      <td>-0.196347</td>\n      <td>-1.236057</td>\n      <td>0.513239</td>\n      <td>-0.230875</td>\n      <td>...</td>\n      <td>1.068301</td>\n      <td>-0.245813</td>\n      <td>-0.744365</td>\n      <td>0.098474</td>\n      <td>0.402408</td>\n      <td>0.005759</td>\n      <td>0.672307</td>\n      <td>0.705195</td>\n      <td>0.001659</td>\n      <td>1.147249</td>\n    </tr>\n    <tr>\n      <th>1</th>\n      <td>1.748343</td>\n      <td>1.136316</td>\n      <td>2.343562</td>\n      <td>-1.344321</td>\n      <td>-2.492807</td>\n      <td>0.090072</td>\n      <td>0.043200</td>\n      <td>-1.023753</td>\n      <td>0.963664</td>\n      <td>-0.100307</td>\n      <td>...</td>\n      <td>0.772818</td>\n      <td>-0.598203</td>\n      <td>-0.794981</td>\n      <td>-0.316423</td>\n      <td>0.132206</td>\n      <td>-0.040984</td>\n      <td>0.445009</td>\n      <td>0.150523</td>\n      <td>-0.042816</td>\n      <td>0.351716</td>\n    </tr>\n    <tr>\n      <th>2</th>\n      <td>2.537780</td>\n      <td>0.904072</td>\n      <td>3.824677</td>\n      <td>-0.879046</td>\n      <td>-1.434459</td>\n      <td>-0.098486</td>\n      <td>-0.283907</td>\n      <td>-1.005673</td>\n      <td>0.250384</td>\n      <td>-0.232938</td>\n      <td>...</td>\n      <td>0.784380</td>\n      <td>-0.396858</td>\n      <td>-0.731261</td>\n      <td>-0.191591</td>\n      <td>0.468917</td>\n      <td>0.106676</td>\n      <td>0.976562</td>\n      <td>0.247497</td>\n      <td>-0.065500</td>\n      <td>0.449746</td>\n    </tr>\n    <tr>\n      <th>3</th>\n      <td>2.232631</td>\n      <td>1.758709</td>\n      <td>2.959195</td>\n      <td>-0.887527</td>\n      <td>-2.061887</td>\n      <td>0.471877</td>\n      <td>-0.039456</td>\n      <td>-0.979300</td>\n      <td>0.596698</td>\n      <td>-0.188379</td>\n      <td>...</td>\n      <td>0.666151</td>\n      <td>-0.457559</td>\n      <td>-0.683913</td>\n      <td>-0.187589</td>\n      <td>0.202946</td>\n      <td>0.009591</td>\n      <td>0.487794</td>\n      <td>0.349443</td>\n      <td>0.041207</td>\n      <td>0.643072</td>\n    </tr>\n    <tr>\n      <th>4</th>\n      <td>1.863745</td>\n      <td>1.278517</td>\n      <td>2.611369</td>\n      <td>-1.410770</td>\n      <td>-2.542341</td>\n      <td>0.008774</td>\n      <td>-0.033701</td>\n      <td>-1.106488</td>\n      <td>0.708281</td>\n      <td>-0.133756</td>\n      <td>...</td>\n      <td>0.800916</td>\n      <td>-0.647023</td>\n      <td>-0.843513</td>\n      <td>-0.368641</td>\n      <td>0.175213</td>\n      <td>0.015534</td>\n      <td>0.445459</td>\n      <td>0.073232</td>\n      <td>-0.174049</td>\n      <td>0.272420</td>\n    </tr>\n    <tr>\n      <th>...</th>\n      <th>...</th>\n      <td>...</td>\n      <td>...</td>\n      <td>...</td>\n      <td>...</td>\n      <td>...</td>\n      <td>...</td>\n      <td>...</td>\n      <td>...</td>\n      <td>...</td>\n      <td>...</td>\n      <td>...</td>\n      <td>...</td>\n      <td>...</td>\n      <td>...</td>\n      <td>...</td>\n      <td>...</td>\n      <td>...</td>\n      <td>...</td>\n      <td>...</td>\n      <td>...</td>\n      <td>...</td>\n    </tr>\n    <tr>\n      <th rowspan=\"5\" valign=\"top\">2020-10-09</th>\n      <th>3228</th>\n      <td>-2.578400</td>\n      <td>-3.521142</td>\n      <td>-1.635649</td>\n      <td>-0.764019</td>\n      <td>-1.945059</td>\n      <td>0.639290</td>\n      <td>0.338535</td>\n      <td>-0.778648</td>\n      <td>1.246326</td>\n      <td>0.284701</td>\n      <td>...</td>\n      <td>2.130849</td>\n      <td>-1.888306</td>\n      <td>-2.382600</td>\n      <td>-1.423180</td>\n      <td>0.709347</td>\n      <td>0.209706</td>\n      <td>1.485765</td>\n      <td>1.216620</td>\n      <td>0.623109</td>\n      <td>1.549771</td>\n    </tr>\n    <tr>\n      <th>3229</th>\n      <td>1.005270</td>\n      <td>-1.254299</td>\n      <td>2.344047</td>\n      <td>-0.073360</td>\n      <td>-1.027821</td>\n      <td>0.781522</td>\n      <td>-0.528851</td>\n      <td>-1.276024</td>\n      <td>0.369275</td>\n      <td>-0.556423</td>\n      <td>...</td>\n      <td>0.873948</td>\n      <td>-1.050392</td>\n      <td>-1.614056</td>\n      <td>-0.613897</td>\n      <td>0.607270</td>\n      <td>-0.264772</td>\n      <td>1.910146</td>\n      <td>0.485292</td>\n      <td>0.285741</td>\n      <td>0.770643</td>\n    </tr>\n    <tr>\n      <th>3230</th>\n      <td>-0.703218</td>\n      <td>-1.961407</td>\n      <td>0.308347</td>\n      <td>1.287013</td>\n      <td>-0.388428</td>\n      <td>3.819120</td>\n      <td>1.720019</td>\n      <td>-0.771418</td>\n      <td>3.415005</td>\n      <td>0.104234</td>\n      <td>...</td>\n      <td>0.397674</td>\n      <td>-2.009938</td>\n      <td>-2.353993</td>\n      <td>-1.631919</td>\n      <td>0.183213</td>\n      <td>-0.378370</td>\n      <td>0.791482</td>\n      <td>0.635360</td>\n      <td>0.159731</td>\n      <td>1.067685</td>\n    </tr>\n    <tr>\n      <th>3231</th>\n      <td>-1.562584</td>\n      <td>-4.393294</td>\n      <td>1.607997</td>\n      <td>-1.495783</td>\n      <td>-2.678844</td>\n      <td>-0.499571</td>\n      <td>-0.311439</td>\n      <td>-1.377934</td>\n      <td>0.928628</td>\n      <td>0.256350</td>\n      <td>...</td>\n      <td>2.137391</td>\n      <td>-1.170794</td>\n      <td>-1.769246</td>\n      <td>-0.547896</td>\n      <td>1.366944</td>\n      <td>0.268053</td>\n      <td>2.583831</td>\n      <td>1.285421</td>\n      <td>0.152326</td>\n      <td>1.963216</td>\n    </tr>\n    <tr>\n      <th>3232</th>\n      <td>-0.778073</td>\n      <td>-3.746977</td>\n      <td>1.462828</td>\n      <td>-1.150497</td>\n      <td>-2.576713</td>\n      <td>-0.266170</td>\n      <td>-0.018446</td>\n      <td>-1.898842</td>\n      <td>2.290233</td>\n      <td>0.501033</td>\n      <td>...</td>\n      <td>1.769830</td>\n      <td>-1.018824</td>\n      <td>-1.887357</td>\n      <td>-0.487967</td>\n      <td>1.203578</td>\n      <td>-0.228016</td>\n      <td>2.551450</td>\n      <td>1.144002</td>\n      <td>-0.049164</td>\n      <td>2.273257</td>\n    </tr>\n  </tbody>\n</table>\n<p>914656 rows × 33 columns</p>\n</div>"
     },
     "metadata": {},
     "execution_count": 5
    }
   ],
   "source": [
    "df_cams = df_cams.groupby(['time','shapeID']).agg([np.mean,np.min,np.max])\n",
    "df_cams"
   ]
  },
  {
   "cell_type": "code",
   "execution_count": 6,
   "metadata": {},
   "outputs": [
    {
     "output_type": "execute_result",
     "data": {
      "text/plain": [
       "              time  shapeID   x0_mean   x0_amin   x0_amax   x1_mean   x1_amin  \\\n",
       "0       2020-01-01        0  2.746214  1.318739  4.143455 -0.468615 -1.177848   \n",
       "1       2020-01-01        1  1.748343  1.136316  2.343562 -1.344321 -2.492807   \n",
       "2       2020-01-01        2  2.537780  0.904072  3.824677 -0.879046 -1.434459   \n",
       "3       2020-01-01        3  2.232631  1.758709  2.959195 -0.887527 -2.061887   \n",
       "4       2020-01-01        4  1.863745  1.278517  2.611369 -1.410770 -2.542341   \n",
       "...            ...      ...       ...       ...       ...       ...       ...   \n",
       "914651  2020-10-09     3228 -2.578400 -3.521142 -1.635649 -0.764019 -1.945059   \n",
       "914652  2020-10-09     3229  1.005270 -1.254299  2.344047 -0.073360 -1.027821   \n",
       "914653  2020-10-09     3230 -0.703218 -1.961407  0.308347  1.287013 -0.388428   \n",
       "914654  2020-10-09     3231 -1.562584 -4.393294  1.607997 -1.495783 -2.678844   \n",
       "914655  2020-10-09     3232 -0.778073 -3.746977  1.462828 -1.150497 -2.576713   \n",
       "\n",
       "         x1_amax   x2_mean   x2_amin  ...   x7_amax   x8_mean   x8_amin  \\\n",
       "0      -0.009998 -0.196347 -1.236057  ...  1.068301 -0.245813 -0.744365   \n",
       "1       0.090072  0.043200 -1.023753  ...  0.772818 -0.598203 -0.794981   \n",
       "2      -0.098486 -0.283907 -1.005673  ...  0.784380 -0.396858 -0.731261   \n",
       "3       0.471877 -0.039456 -0.979300  ...  0.666151 -0.457559 -0.683913   \n",
       "4       0.008774 -0.033701 -1.106488  ...  0.800916 -0.647023 -0.843513   \n",
       "...          ...       ...       ...  ...       ...       ...       ...   \n",
       "914651  0.639290  0.338535 -0.778648  ...  2.130849 -1.888306 -2.382600   \n",
       "914652  0.781522 -0.528851 -1.276024  ...  0.873948 -1.050392 -1.614056   \n",
       "914653  3.819120  1.720019 -0.771418  ...  0.397674 -2.009938 -2.353993   \n",
       "914654 -0.499571 -0.311439 -1.377934  ...  2.137391 -1.170794 -1.769246   \n",
       "914655 -0.266170 -0.018446 -1.898842  ...  1.769830 -1.018824 -1.887357   \n",
       "\n",
       "         x8_amax   x9_mean   x9_amin   x9_amax  x10_mean  x10_amin  x10_amax  \n",
       "0       0.098474  0.402408  0.005759  0.672307  0.705195  0.001659  1.147249  \n",
       "1      -0.316423  0.132206 -0.040984  0.445009  0.150523 -0.042816  0.351716  \n",
       "2      -0.191591  0.468917  0.106676  0.976562  0.247497 -0.065500  0.449746  \n",
       "3      -0.187589  0.202946  0.009591  0.487794  0.349443  0.041207  0.643072  \n",
       "4      -0.368641  0.175213  0.015534  0.445459  0.073232 -0.174049  0.272420  \n",
       "...          ...       ...       ...       ...       ...       ...       ...  \n",
       "914651 -1.423180  0.709347  0.209706  1.485765  1.216620  0.623109  1.549771  \n",
       "914652 -0.613897  0.607270 -0.264772  1.910146  0.485292  0.285741  0.770643  \n",
       "914653 -1.631919  0.183213 -0.378370  0.791482  0.635360  0.159731  1.067685  \n",
       "914654 -0.547896  1.366944  0.268053  2.583831  1.285421  0.152326  1.963216  \n",
       "914655 -0.487967  1.203578 -0.228016  2.551450  1.144002 -0.049164  2.273257  \n",
       "\n",
       "[914656 rows x 35 columns]"
      ],
      "text/html": "<div>\n<style scoped>\n    .dataframe tbody tr th:only-of-type {\n        vertical-align: middle;\n    }\n\n    .dataframe tbody tr th {\n        vertical-align: top;\n    }\n\n    .dataframe thead th {\n        text-align: right;\n    }\n</style>\n<table border=\"1\" class=\"dataframe\">\n  <thead>\n    <tr style=\"text-align: right;\">\n      <th></th>\n      <th>time</th>\n      <th>shapeID</th>\n      <th>x0_mean</th>\n      <th>x0_amin</th>\n      <th>x0_amax</th>\n      <th>x1_mean</th>\n      <th>x1_amin</th>\n      <th>x1_amax</th>\n      <th>x2_mean</th>\n      <th>x2_amin</th>\n      <th>...</th>\n      <th>x7_amax</th>\n      <th>x8_mean</th>\n      <th>x8_amin</th>\n      <th>x8_amax</th>\n      <th>x9_mean</th>\n      <th>x9_amin</th>\n      <th>x9_amax</th>\n      <th>x10_mean</th>\n      <th>x10_amin</th>\n      <th>x10_amax</th>\n    </tr>\n  </thead>\n  <tbody>\n    <tr>\n      <th>0</th>\n      <td>2020-01-01</td>\n      <td>0</td>\n      <td>2.746214</td>\n      <td>1.318739</td>\n      <td>4.143455</td>\n      <td>-0.468615</td>\n      <td>-1.177848</td>\n      <td>-0.009998</td>\n      <td>-0.196347</td>\n      <td>-1.236057</td>\n      <td>...</td>\n      <td>1.068301</td>\n      <td>-0.245813</td>\n      <td>-0.744365</td>\n      <td>0.098474</td>\n      <td>0.402408</td>\n      <td>0.005759</td>\n      <td>0.672307</td>\n      <td>0.705195</td>\n      <td>0.001659</td>\n      <td>1.147249</td>\n    </tr>\n    <tr>\n      <th>1</th>\n      <td>2020-01-01</td>\n      <td>1</td>\n      <td>1.748343</td>\n      <td>1.136316</td>\n      <td>2.343562</td>\n      <td>-1.344321</td>\n      <td>-2.492807</td>\n      <td>0.090072</td>\n      <td>0.043200</td>\n      <td>-1.023753</td>\n      <td>...</td>\n      <td>0.772818</td>\n      <td>-0.598203</td>\n      <td>-0.794981</td>\n      <td>-0.316423</td>\n      <td>0.132206</td>\n      <td>-0.040984</td>\n      <td>0.445009</td>\n      <td>0.150523</td>\n      <td>-0.042816</td>\n      <td>0.351716</td>\n    </tr>\n    <tr>\n      <th>2</th>\n      <td>2020-01-01</td>\n      <td>2</td>\n      <td>2.537780</td>\n      <td>0.904072</td>\n      <td>3.824677</td>\n      <td>-0.879046</td>\n      <td>-1.434459</td>\n      <td>-0.098486</td>\n      <td>-0.283907</td>\n      <td>-1.005673</td>\n      <td>...</td>\n      <td>0.784380</td>\n      <td>-0.396858</td>\n      <td>-0.731261</td>\n      <td>-0.191591</td>\n      <td>0.468917</td>\n      <td>0.106676</td>\n      <td>0.976562</td>\n      <td>0.247497</td>\n      <td>-0.065500</td>\n      <td>0.449746</td>\n    </tr>\n    <tr>\n      <th>3</th>\n      <td>2020-01-01</td>\n      <td>3</td>\n      <td>2.232631</td>\n      <td>1.758709</td>\n      <td>2.959195</td>\n      <td>-0.887527</td>\n      <td>-2.061887</td>\n      <td>0.471877</td>\n      <td>-0.039456</td>\n      <td>-0.979300</td>\n      <td>...</td>\n      <td>0.666151</td>\n      <td>-0.457559</td>\n      <td>-0.683913</td>\n      <td>-0.187589</td>\n      <td>0.202946</td>\n      <td>0.009591</td>\n      <td>0.487794</td>\n      <td>0.349443</td>\n      <td>0.041207</td>\n      <td>0.643072</td>\n    </tr>\n    <tr>\n      <th>4</th>\n      <td>2020-01-01</td>\n      <td>4</td>\n      <td>1.863745</td>\n      <td>1.278517</td>\n      <td>2.611369</td>\n      <td>-1.410770</td>\n      <td>-2.542341</td>\n      <td>0.008774</td>\n      <td>-0.033701</td>\n      <td>-1.106488</td>\n      <td>...</td>\n      <td>0.800916</td>\n      <td>-0.647023</td>\n      <td>-0.843513</td>\n      <td>-0.368641</td>\n      <td>0.175213</td>\n      <td>0.015534</td>\n      <td>0.445459</td>\n      <td>0.073232</td>\n      <td>-0.174049</td>\n      <td>0.272420</td>\n    </tr>\n    <tr>\n      <th>...</th>\n      <td>...</td>\n      <td>...</td>\n      <td>...</td>\n      <td>...</td>\n      <td>...</td>\n      <td>...</td>\n      <td>...</td>\n      <td>...</td>\n      <td>...</td>\n      <td>...</td>\n      <td>...</td>\n      <td>...</td>\n      <td>...</td>\n      <td>...</td>\n      <td>...</td>\n      <td>...</td>\n      <td>...</td>\n      <td>...</td>\n      <td>...</td>\n      <td>...</td>\n      <td>...</td>\n    </tr>\n    <tr>\n      <th>914651</th>\n      <td>2020-10-09</td>\n      <td>3228</td>\n      <td>-2.578400</td>\n      <td>-3.521142</td>\n      <td>-1.635649</td>\n      <td>-0.764019</td>\n      <td>-1.945059</td>\n      <td>0.639290</td>\n      <td>0.338535</td>\n      <td>-0.778648</td>\n      <td>...</td>\n      <td>2.130849</td>\n      <td>-1.888306</td>\n      <td>-2.382600</td>\n      <td>-1.423180</td>\n      <td>0.709347</td>\n      <td>0.209706</td>\n      <td>1.485765</td>\n      <td>1.216620</td>\n      <td>0.623109</td>\n      <td>1.549771</td>\n    </tr>\n    <tr>\n      <th>914652</th>\n      <td>2020-10-09</td>\n      <td>3229</td>\n      <td>1.005270</td>\n      <td>-1.254299</td>\n      <td>2.344047</td>\n      <td>-0.073360</td>\n      <td>-1.027821</td>\n      <td>0.781522</td>\n      <td>-0.528851</td>\n      <td>-1.276024</td>\n      <td>...</td>\n      <td>0.873948</td>\n      <td>-1.050392</td>\n      <td>-1.614056</td>\n      <td>-0.613897</td>\n      <td>0.607270</td>\n      <td>-0.264772</td>\n      <td>1.910146</td>\n      <td>0.485292</td>\n      <td>0.285741</td>\n      <td>0.770643</td>\n    </tr>\n    <tr>\n      <th>914653</th>\n      <td>2020-10-09</td>\n      <td>3230</td>\n      <td>-0.703218</td>\n      <td>-1.961407</td>\n      <td>0.308347</td>\n      <td>1.287013</td>\n      <td>-0.388428</td>\n      <td>3.819120</td>\n      <td>1.720019</td>\n      <td>-0.771418</td>\n      <td>...</td>\n      <td>0.397674</td>\n      <td>-2.009938</td>\n      <td>-2.353993</td>\n      <td>-1.631919</td>\n      <td>0.183213</td>\n      <td>-0.378370</td>\n      <td>0.791482</td>\n      <td>0.635360</td>\n      <td>0.159731</td>\n      <td>1.067685</td>\n    </tr>\n    <tr>\n      <th>914654</th>\n      <td>2020-10-09</td>\n      <td>3231</td>\n      <td>-1.562584</td>\n      <td>-4.393294</td>\n      <td>1.607997</td>\n      <td>-1.495783</td>\n      <td>-2.678844</td>\n      <td>-0.499571</td>\n      <td>-0.311439</td>\n      <td>-1.377934</td>\n      <td>...</td>\n      <td>2.137391</td>\n      <td>-1.170794</td>\n      <td>-1.769246</td>\n      <td>-0.547896</td>\n      <td>1.366944</td>\n      <td>0.268053</td>\n      <td>2.583831</td>\n      <td>1.285421</td>\n      <td>0.152326</td>\n      <td>1.963216</td>\n    </tr>\n    <tr>\n      <th>914655</th>\n      <td>2020-10-09</td>\n      <td>3232</td>\n      <td>-0.778073</td>\n      <td>-3.746977</td>\n      <td>1.462828</td>\n      <td>-1.150497</td>\n      <td>-2.576713</td>\n      <td>-0.266170</td>\n      <td>-0.018446</td>\n      <td>-1.898842</td>\n      <td>...</td>\n      <td>1.769830</td>\n      <td>-1.018824</td>\n      <td>-1.887357</td>\n      <td>-0.487967</td>\n      <td>1.203578</td>\n      <td>-0.228016</td>\n      <td>2.551450</td>\n      <td>1.144002</td>\n      <td>-0.049164</td>\n      <td>2.273257</td>\n    </tr>\n  </tbody>\n</table>\n<p>914656 rows × 35 columns</p>\n</div>"
     },
     "metadata": {},
     "execution_count": 6
    }
   ],
   "source": [
    "df_cams.columns = pd.Index([f\"{x}_{y}\" for (x,y) in df_cams.columns])\n",
    "df_cams = df_cams.reset_index()\n",
    "\n",
    "df_cams"
   ]
  },
  {
   "cell_type": "code",
   "execution_count": 7,
   "metadata": {},
   "outputs": [],
   "source": [
    "df_cams['time'] = pd.to_datetime(df_cams['time'], infer_datetime_format=True)"
   ]
  },
  {
   "cell_type": "code",
   "execution_count": 8,
   "metadata": {},
   "outputs": [
    {
     "output_type": "stream",
     "name": "stdout",
     "text": [
      "<class 'pandas.core.frame.DataFrame'>\nInt64Index: 34130 entries, 0 to 34129\nData columns (total 48 columns):\n #   Column                          Non-Null Count  Dtype         \n---  ------                          --------------  -----         \n 0   time                            34130 non-null  datetime64[ns]\n 1   shapeID                         34130 non-null  int64         \n 2   x0_mean                         34130 non-null  float64       \n 3   x0_amin                         34130 non-null  float64       \n 4   x0_amax                         34130 non-null  float64       \n 5   x1_mean                         34130 non-null  float64       \n 6   x1_amin                         34130 non-null  float64       \n 7   x1_amax                         34130 non-null  float64       \n 8   x2_mean                         34130 non-null  float64       \n 9   x2_amin                         34130 non-null  float64       \n 10  x2_amax                         34130 non-null  float64       \n 11  x3_mean                         34130 non-null  float64       \n 12  x3_amin                         34130 non-null  float64       \n 13  x3_amax                         34130 non-null  float64       \n 14  x4_mean                         34130 non-null  float64       \n 15  x4_amin                         34130 non-null  float64       \n 16  x4_amax                         34130 non-null  float64       \n 17  x5_mean                         34130 non-null  float64       \n 18  x5_amin                         34130 non-null  float64       \n 19  x5_amax                         34130 non-null  float64       \n 20  x6_mean                         34130 non-null  float64       \n 21  x6_amin                         34130 non-null  float64       \n 22  x6_amax                         34130 non-null  float64       \n 23  x7_mean                         34130 non-null  float64       \n 24  x7_amin                         34130 non-null  float64       \n 25  x7_amax                         34130 non-null  float64       \n 26  x8_mean                         34130 non-null  float64       \n 27  x8_amin                         34130 non-null  float64       \n 28  x8_amax                         34130 non-null  float64       \n 29  x9_mean                         34130 non-null  float64       \n 30  x9_amin                         34130 non-null  float64       \n 31  x9_amax                         34130 non-null  float64       \n 32  x10_mean                        34130 non-null  float64       \n 33  x10_amin                        34130 non-null  float64       \n 34  x10_amax                        34130 non-null  float64       \n 35  GEOID                           34130 non-null  int64         \n 36  NAME                            34130 non-null  object        \n 37  date                            34130 non-null  datetime64[ns]\n 38  cumulative_confirmed            34130 non-null  float64       \n 39  smoothed_cumul                  34130 non-null  float64       \n 40  smoothed_d1                     34130 non-null  float64       \n 41  smoothed_d2                     34130 non-null  float64       \n 42  mobility_transit_stations       34130 non-null  float64       \n 43  mobility_retail_and_recreation  34130 non-null  float64       \n 44  mobility_grocery_and_pharmacy   34130 non-null  float64       \n 45  mobility_parks                  34130 non-null  float64       \n 46  mobility_residential            34130 non-null  float64       \n 47  mobility_workplaces             34130 non-null  float64       \ndtypes: datetime64[ns](2), float64(43), int64(2), object(1)\nmemory usage: 12.8+ MB\n"
     ]
    }
   ],
   "source": [
    "df_total = pd.merge(df_cams, df_covid, how=\"inner\", left_on=['time','shapeID'], right_on=['date','shapeID'])\n",
    "df_total.info()"
   ]
  },
  {
   "cell_type": "code",
   "execution_count": 9,
   "metadata": {},
   "outputs": [],
   "source": [
    "df_total.to_csv(\"../../data_processed/usa_top200_final.csv\")"
   ]
  },
  {
   "cell_type": "code",
   "execution_count": null,
   "metadata": {},
   "outputs": [],
   "source": []
  }
 ]
}