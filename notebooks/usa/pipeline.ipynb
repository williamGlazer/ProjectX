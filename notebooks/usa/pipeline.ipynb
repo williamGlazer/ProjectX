{
 "metadata": {
  "language_info": {
   "codemirror_mode": {
    "name": "ipython",
    "version": 3
   },
   "file_extension": ".py",
   "mimetype": "text/x-python",
   "name": "python",
   "nbconvert_exporter": "python",
   "pygments_lexer": "ipython3",
   "version": "3.8.6-final"
  },
  "orig_nbformat": 2,
  "kernelspec": {
   "name": "python3",
   "display_name": "Python 3"
  }
 },
 "nbformat": 4,
 "nbformat_minor": 2,
 "cells": [
  {
   "cell_type": "code",
   "execution_count": 71,
   "metadata": {},
   "outputs": [],
   "source": [
    "import sklearn\n",
    "import pandas as pd \n",
    "import seaborn as sns\n",
    "import numpy as np \n",
    "import matplotlib.pyplot as plt\n",
    "from pandas_profiling import ProfileReport\n",
    "from functools import partial\n",
    "from pathlib import Path\n",
    "import os"
   ]
  },
  {
   "cell_type": "code",
   "execution_count": 72,
   "metadata": {},
   "outputs": [],
   "source": [
    "df_covid = pd.read_csv(\"../../data_processed/usa_top30_with_density_smoothed.csv\")\n",
    "df_covid['date'] = pd.to_datetime(df_covid['date'], infer_datetime_format=True)"
   ]
  },
  {
   "cell_type": "code",
   "execution_count": 73,
   "metadata": {},
   "outputs": [],
   "source": [
    "df_cams = pd.read_csv(\"../../data/cams_data.csv\")\n",
    "df_cams['time'] = pd.to_datetime(df_cams['time'], infer_datetime_format=True)\n",
    "df_cams['time'] = df_cams['time'].apply(lambda x : x.date())"
   ]
  },
  {
   "cell_type": "code",
   "execution_count": 74,
   "metadata": {},
   "outputs": [
    {
     "output_type": "stream",
     "name": "stdout",
     "text": [
      "<class 'pandas.core.frame.DataFrame'>\nRangeIndex: 39109 entries, 0 to 39108\nData columns (total 14 columns):\n #   Column                          Non-Null Count  Dtype         \n---  ------                          --------------  -----         \n 0   shapeID                         39109 non-null  int64         \n 1   GEOID                           39109 non-null  int64         \n 2   NAME                            39109 non-null  object        \n 3   date                            39109 non-null  datetime64[ns]\n 4   cumulative_confirmed            39109 non-null  float64       \n 5   smoothed_cumul                  39109 non-null  float64       \n 6   smoothed_d1                     39109 non-null  float64       \n 7   smoothed_d2                     39109 non-null  float64       \n 8   mobility_transit_stations       39109 non-null  float64       \n 9   mobility_retail_and_recreation  39109 non-null  float64       \n 10  mobility_grocery_and_pharmacy   39109 non-null  float64       \n 11  mobility_parks                  39109 non-null  float64       \n 12  mobility_residential            39109 non-null  float64       \n 13  mobility_workplaces             39109 non-null  float64       \ndtypes: datetime64[ns](1), float64(10), int64(2), object(1)\nmemory usage: 4.2+ MB\n"
     ]
    }
   ],
   "source": [
    "df_covid.info()"
   ]
  },
  {
   "cell_type": "code",
   "execution_count": 75,
   "metadata": {},
   "outputs": [
    {
     "output_type": "execute_result",
     "data": {
      "text/plain": [
       "       shapeID  GEOID       NAME       date  cumulative_confirmed  \\\n",
       "0           13  17197       Will 2020-03-25                  50.0   \n",
       "1           13  17197       Will 2020-03-26                  67.0   \n",
       "2           13  17197       Will 2020-03-27                 104.0   \n",
       "3           13  17197       Will 2020-03-28                 156.0   \n",
       "4           13  17197       Will 2020-03-29                 192.0   \n",
       "...        ...    ...        ...        ...                   ...   \n",
       "39104     3231  55079  Milwaukee 2020-10-30               44609.0   \n",
       "39105     3231  55079  Milwaukee 2020-10-31               45652.0   \n",
       "39106     3231  55079  Milwaukee 2020-11-01               46281.0   \n",
       "39107     3231  55079  Milwaukee 2020-11-02               46835.0   \n",
       "39108     3231  55079  Milwaukee 2020-11-03               47812.0   \n",
       "\n",
       "       smoothed_cumul  smoothed_d1  smoothed_d2  mobility_transit_stations  \\\n",
       "0           44.095238    21.714286     9.809524                 -28.000000   \n",
       "1           71.476190    29.357143     8.333333                 -33.000000   \n",
       "2          109.333333    34.750000     3.690476                 -32.000000   \n",
       "3          151.666667    33.428571    -2.904762                 -28.000000   \n",
       "4          182.952381    38.607143     0.880952                 -28.000000   \n",
       "...               ...          ...          ...                        ...   \n",
       "39104    44724.190476   713.964286    18.547619                 -26.000000   \n",
       "39105    45480.714286   755.214286     1.000000                 -24.000000   \n",
       "39106    46316.761905   686.107143   -91.309524                 -34.000000   \n",
       "39107    47045.380952   552.142857  -178.904762                 -33.113208   \n",
       "39108    47519.857143   375.678571  -187.357143                 -32.226415   \n",
       "\n",
       "       mobility_retail_and_recreation  mobility_grocery_and_pharmacy  \\\n",
       "0                          -42.000000                     -13.000000   \n",
       "1                          -46.000000                     -14.000000   \n",
       "2                          -47.000000                     -15.000000   \n",
       "3                          -52.000000                     -18.000000   \n",
       "4                          -54.000000                     -27.000000   \n",
       "...                               ...                            ...   \n",
       "39104                      -18.000000                      -7.000000   \n",
       "39105                      -20.000000                       1.000000   \n",
       "39106                      -22.000000                      -9.000000   \n",
       "39107                      -21.509434                      -8.716981   \n",
       "39108                      -21.018868                      -8.433962   \n",
       "\n",
       "       mobility_parks  mobility_residential  mobility_workplaces  \n",
       "0           37.000000             22.000000           -49.000000  \n",
       "1          -15.000000             23.000000           -50.000000  \n",
       "2          -16.000000             23.000000           -49.000000  \n",
       "3          -24.000000             16.000000           -34.000000  \n",
       "4          -36.000000             14.000000           -36.000000  \n",
       "...               ...                   ...                  ...  \n",
       "39104       29.000000             11.000000           -32.000000  \n",
       "39105       91.000000              3.000000            -8.000000  \n",
       "39106        2.000000              4.000000           -13.000000  \n",
       "39107        1.852941              4.018182           -12.773585  \n",
       "39108        1.705882              4.036364           -12.547170  \n",
       "\n",
       "[39109 rows x 14 columns]"
      ],
      "text/html": "<div>\n<style scoped>\n    .dataframe tbody tr th:only-of-type {\n        vertical-align: middle;\n    }\n\n    .dataframe tbody tr th {\n        vertical-align: top;\n    }\n\n    .dataframe thead th {\n        text-align: right;\n    }\n</style>\n<table border=\"1\" class=\"dataframe\">\n  <thead>\n    <tr style=\"text-align: right;\">\n      <th></th>\n      <th>shapeID</th>\n      <th>GEOID</th>\n      <th>NAME</th>\n      <th>date</th>\n      <th>cumulative_confirmed</th>\n      <th>smoothed_cumul</th>\n      <th>smoothed_d1</th>\n      <th>smoothed_d2</th>\n      <th>mobility_transit_stations</th>\n      <th>mobility_retail_and_recreation</th>\n      <th>mobility_grocery_and_pharmacy</th>\n      <th>mobility_parks</th>\n      <th>mobility_residential</th>\n      <th>mobility_workplaces</th>\n    </tr>\n  </thead>\n  <tbody>\n    <tr>\n      <th>0</th>\n      <td>13</td>\n      <td>17197</td>\n      <td>Will</td>\n      <td>2020-03-25</td>\n      <td>50.0</td>\n      <td>44.095238</td>\n      <td>21.714286</td>\n      <td>9.809524</td>\n      <td>-28.000000</td>\n      <td>-42.000000</td>\n      <td>-13.000000</td>\n      <td>37.000000</td>\n      <td>22.000000</td>\n      <td>-49.000000</td>\n    </tr>\n    <tr>\n      <th>1</th>\n      <td>13</td>\n      <td>17197</td>\n      <td>Will</td>\n      <td>2020-03-26</td>\n      <td>67.0</td>\n      <td>71.476190</td>\n      <td>29.357143</td>\n      <td>8.333333</td>\n      <td>-33.000000</td>\n      <td>-46.000000</td>\n      <td>-14.000000</td>\n      <td>-15.000000</td>\n      <td>23.000000</td>\n      <td>-50.000000</td>\n    </tr>\n    <tr>\n      <th>2</th>\n      <td>13</td>\n      <td>17197</td>\n      <td>Will</td>\n      <td>2020-03-27</td>\n      <td>104.0</td>\n      <td>109.333333</td>\n      <td>34.750000</td>\n      <td>3.690476</td>\n      <td>-32.000000</td>\n      <td>-47.000000</td>\n      <td>-15.000000</td>\n      <td>-16.000000</td>\n      <td>23.000000</td>\n      <td>-49.000000</td>\n    </tr>\n    <tr>\n      <th>3</th>\n      <td>13</td>\n      <td>17197</td>\n      <td>Will</td>\n      <td>2020-03-28</td>\n      <td>156.0</td>\n      <td>151.666667</td>\n      <td>33.428571</td>\n      <td>-2.904762</td>\n      <td>-28.000000</td>\n      <td>-52.000000</td>\n      <td>-18.000000</td>\n      <td>-24.000000</td>\n      <td>16.000000</td>\n      <td>-34.000000</td>\n    </tr>\n    <tr>\n      <th>4</th>\n      <td>13</td>\n      <td>17197</td>\n      <td>Will</td>\n      <td>2020-03-29</td>\n      <td>192.0</td>\n      <td>182.952381</td>\n      <td>38.607143</td>\n      <td>0.880952</td>\n      <td>-28.000000</td>\n      <td>-54.000000</td>\n      <td>-27.000000</td>\n      <td>-36.000000</td>\n      <td>14.000000</td>\n      <td>-36.000000</td>\n    </tr>\n    <tr>\n      <th>...</th>\n      <td>...</td>\n      <td>...</td>\n      <td>...</td>\n      <td>...</td>\n      <td>...</td>\n      <td>...</td>\n      <td>...</td>\n      <td>...</td>\n      <td>...</td>\n      <td>...</td>\n      <td>...</td>\n      <td>...</td>\n      <td>...</td>\n      <td>...</td>\n    </tr>\n    <tr>\n      <th>39104</th>\n      <td>3231</td>\n      <td>55079</td>\n      <td>Milwaukee</td>\n      <td>2020-10-30</td>\n      <td>44609.0</td>\n      <td>44724.190476</td>\n      <td>713.964286</td>\n      <td>18.547619</td>\n      <td>-26.000000</td>\n      <td>-18.000000</td>\n      <td>-7.000000</td>\n      <td>29.000000</td>\n      <td>11.000000</td>\n      <td>-32.000000</td>\n    </tr>\n    <tr>\n      <th>39105</th>\n      <td>3231</td>\n      <td>55079</td>\n      <td>Milwaukee</td>\n      <td>2020-10-31</td>\n      <td>45652.0</td>\n      <td>45480.714286</td>\n      <td>755.214286</td>\n      <td>1.000000</td>\n      <td>-24.000000</td>\n      <td>-20.000000</td>\n      <td>1.000000</td>\n      <td>91.000000</td>\n      <td>3.000000</td>\n      <td>-8.000000</td>\n    </tr>\n    <tr>\n      <th>39106</th>\n      <td>3231</td>\n      <td>55079</td>\n      <td>Milwaukee</td>\n      <td>2020-11-01</td>\n      <td>46281.0</td>\n      <td>46316.761905</td>\n      <td>686.107143</td>\n      <td>-91.309524</td>\n      <td>-34.000000</td>\n      <td>-22.000000</td>\n      <td>-9.000000</td>\n      <td>2.000000</td>\n      <td>4.000000</td>\n      <td>-13.000000</td>\n    </tr>\n    <tr>\n      <th>39107</th>\n      <td>3231</td>\n      <td>55079</td>\n      <td>Milwaukee</td>\n      <td>2020-11-02</td>\n      <td>46835.0</td>\n      <td>47045.380952</td>\n      <td>552.142857</td>\n      <td>-178.904762</td>\n      <td>-33.113208</td>\n      <td>-21.509434</td>\n      <td>-8.716981</td>\n      <td>1.852941</td>\n      <td>4.018182</td>\n      <td>-12.773585</td>\n    </tr>\n    <tr>\n      <th>39108</th>\n      <td>3231</td>\n      <td>55079</td>\n      <td>Milwaukee</td>\n      <td>2020-11-03</td>\n      <td>47812.0</td>\n      <td>47519.857143</td>\n      <td>375.678571</td>\n      <td>-187.357143</td>\n      <td>-32.226415</td>\n      <td>-21.018868</td>\n      <td>-8.433962</td>\n      <td>1.705882</td>\n      <td>4.036364</td>\n      <td>-12.547170</td>\n    </tr>\n  </tbody>\n</table>\n<p>39109 rows × 14 columns</p>\n</div>"
     },
     "metadata": {},
     "execution_count": 75
    }
   ],
   "source": [
    "df_covid"
   ]
  },
  {
   "cell_type": "code",
   "execution_count": 76,
   "metadata": {
    "tags": []
   },
   "outputs": [
    {
     "output_type": "execute_result",
     "data": {
      "text/plain": [
       "                          x0                  x1                  x2  \\\n",
       "                        mean      amin      mean      amin      mean   \n",
       "time       shapeID                                                     \n",
       "2020-01-01 0        2.746214  1.318739 -0.468615 -1.177848 -0.196347   \n",
       "           1        1.748343  1.136316 -1.344321 -2.492807  0.043200   \n",
       "           2        2.537780  0.904072 -0.879046 -1.434459 -0.283907   \n",
       "           3        2.232631  1.758709 -0.887527 -2.061887 -0.039456   \n",
       "           4        1.863745  1.278517 -1.410770 -2.542341 -0.033701   \n",
       "...                      ...       ...       ...       ...       ...   \n",
       "2020-10-09 3228    -2.578400 -3.521142 -0.764019 -1.945059  0.338535   \n",
       "           3229     1.005270 -1.254299 -0.073360 -1.027821 -0.528851   \n",
       "           3230    -0.703218 -1.961407  1.287013 -0.388428  1.720019   \n",
       "           3231    -1.562584 -4.393294 -1.495783 -2.678844 -0.311439   \n",
       "           3232    -0.778073 -3.746977 -1.150497 -2.576713 -0.018446   \n",
       "\n",
       "                                    x3                  x4            ...  \\\n",
       "                        amin      mean      amin      mean      amin  ...   \n",
       "time       shapeID                                                    ...   \n",
       "2020-01-01 0       -1.236057 -0.230875 -1.197603  0.771363 -0.113802  ...   \n",
       "           1       -1.023753 -0.100307 -0.936233 -0.318099 -0.898874  ...   \n",
       "           2       -1.005673 -0.232938 -1.075211  0.613301 -0.965509  ...   \n",
       "           3       -0.979300 -0.188379 -1.040355  0.092777 -0.439938  ...   \n",
       "           4       -1.106488 -0.133756 -1.003558 -0.190875 -0.768248  ...   \n",
       "...                      ...       ...       ...       ...       ...  ...   \n",
       "2020-10-09 3228    -0.778648  0.284701 -0.965865 -0.628849 -1.739375  ...   \n",
       "           3229    -1.276024 -0.556423 -2.077708  0.115092 -0.395445  ...   \n",
       "           3230    -0.771418  0.104234 -1.181206 -0.584574 -1.619687  ...   \n",
       "           3231    -1.377934  0.256350 -1.153596  1.032231 -0.625120  ...   \n",
       "           3232    -1.898842  0.501033 -0.495423  0.664446 -0.337451  ...   \n",
       "\n",
       "                          x6                  x7                  x8  \\\n",
       "                        mean      amin      mean      amin      mean   \n",
       "time       shapeID                                                     \n",
       "2020-01-01 0        0.873012  0.603753  0.533494  0.277017 -0.245813   \n",
       "           1        0.763758  0.361931  0.585046  0.434009 -0.598203   \n",
       "           2        0.707564  0.438193  0.665952  0.509067 -0.396858   \n",
       "           3        0.731009  0.379955  0.579249  0.497502 -0.457559   \n",
       "           4        0.768530  0.336689  0.669830  0.593015 -0.647023   \n",
       "...                      ...       ...       ...       ...       ...   \n",
       "2020-10-09 3228     0.804540  0.035234  1.602055  1.297609 -1.888306   \n",
       "           3229    -0.609240 -1.053243 -0.169344 -0.952326 -1.050392   \n",
       "           3230    -1.052479 -1.614661 -0.032596 -0.217834 -2.009938   \n",
       "           3231     0.278423 -0.533177  1.145559 -0.632924 -1.170794   \n",
       "           3232     0.232678 -0.381604  0.762553 -1.120657 -1.018824   \n",
       "\n",
       "                                    x9                 x10            \n",
       "                        amin      mean      amin      mean      amin  \n",
       "time       shapeID                                                    \n",
       "2020-01-01 0       -0.744365  0.402408  0.005759  0.705195  0.001659  \n",
       "           1       -0.794981  0.132206 -0.040984  0.150523 -0.042816  \n",
       "           2       -0.731261  0.468917  0.106676  0.247497 -0.065500  \n",
       "           3       -0.683913  0.202946  0.009591  0.349443  0.041207  \n",
       "           4       -0.843513  0.175213  0.015534  0.073232 -0.174049  \n",
       "...                      ...       ...       ...       ...       ...  \n",
       "2020-10-09 3228    -2.382600  0.709347  0.209706  1.216620  0.623109  \n",
       "           3229    -1.614056  0.607270 -0.264772  0.485292  0.285741  \n",
       "           3230    -2.353993  0.183213 -0.378370  0.635360  0.159731  \n",
       "           3231    -1.769246  1.366944  0.268053  1.285421  0.152326  \n",
       "           3232    -1.887357  1.203578 -0.228016  1.144002 -0.049164  \n",
       "\n",
       "[914656 rows x 22 columns]"
      ],
      "text/html": "<div>\n<style scoped>\n    .dataframe tbody tr th:only-of-type {\n        vertical-align: middle;\n    }\n\n    .dataframe tbody tr th {\n        vertical-align: top;\n    }\n\n    .dataframe thead tr th {\n        text-align: left;\n    }\n\n    .dataframe thead tr:last-of-type th {\n        text-align: right;\n    }\n</style>\n<table border=\"1\" class=\"dataframe\">\n  <thead>\n    <tr>\n      <th></th>\n      <th></th>\n      <th colspan=\"2\" halign=\"left\">x0</th>\n      <th colspan=\"2\" halign=\"left\">x1</th>\n      <th colspan=\"2\" halign=\"left\">x2</th>\n      <th colspan=\"2\" halign=\"left\">x3</th>\n      <th colspan=\"2\" halign=\"left\">x4</th>\n      <th>...</th>\n      <th colspan=\"2\" halign=\"left\">x6</th>\n      <th colspan=\"2\" halign=\"left\">x7</th>\n      <th colspan=\"2\" halign=\"left\">x8</th>\n      <th colspan=\"2\" halign=\"left\">x9</th>\n      <th colspan=\"2\" halign=\"left\">x10</th>\n    </tr>\n    <tr>\n      <th></th>\n      <th></th>\n      <th>mean</th>\n      <th>amin</th>\n      <th>mean</th>\n      <th>amin</th>\n      <th>mean</th>\n      <th>amin</th>\n      <th>mean</th>\n      <th>amin</th>\n      <th>mean</th>\n      <th>amin</th>\n      <th>...</th>\n      <th>mean</th>\n      <th>amin</th>\n      <th>mean</th>\n      <th>amin</th>\n      <th>mean</th>\n      <th>amin</th>\n      <th>mean</th>\n      <th>amin</th>\n      <th>mean</th>\n      <th>amin</th>\n    </tr>\n    <tr>\n      <th>time</th>\n      <th>shapeID</th>\n      <th></th>\n      <th></th>\n      <th></th>\n      <th></th>\n      <th></th>\n      <th></th>\n      <th></th>\n      <th></th>\n      <th></th>\n      <th></th>\n      <th></th>\n      <th></th>\n      <th></th>\n      <th></th>\n      <th></th>\n      <th></th>\n      <th></th>\n      <th></th>\n      <th></th>\n      <th></th>\n      <th></th>\n    </tr>\n  </thead>\n  <tbody>\n    <tr>\n      <th rowspan=\"5\" valign=\"top\">2020-01-01</th>\n      <th>0</th>\n      <td>2.746214</td>\n      <td>1.318739</td>\n      <td>-0.468615</td>\n      <td>-1.177848</td>\n      <td>-0.196347</td>\n      <td>-1.236057</td>\n      <td>-0.230875</td>\n      <td>-1.197603</td>\n      <td>0.771363</td>\n      <td>-0.113802</td>\n      <td>...</td>\n      <td>0.873012</td>\n      <td>0.603753</td>\n      <td>0.533494</td>\n      <td>0.277017</td>\n      <td>-0.245813</td>\n      <td>-0.744365</td>\n      <td>0.402408</td>\n      <td>0.005759</td>\n      <td>0.705195</td>\n      <td>0.001659</td>\n    </tr>\n    <tr>\n      <th>1</th>\n      <td>1.748343</td>\n      <td>1.136316</td>\n      <td>-1.344321</td>\n      <td>-2.492807</td>\n      <td>0.043200</td>\n      <td>-1.023753</td>\n      <td>-0.100307</td>\n      <td>-0.936233</td>\n      <td>-0.318099</td>\n      <td>-0.898874</td>\n      <td>...</td>\n      <td>0.763758</td>\n      <td>0.361931</td>\n      <td>0.585046</td>\n      <td>0.434009</td>\n      <td>-0.598203</td>\n      <td>-0.794981</td>\n      <td>0.132206</td>\n      <td>-0.040984</td>\n      <td>0.150523</td>\n      <td>-0.042816</td>\n    </tr>\n    <tr>\n      <th>2</th>\n      <td>2.537780</td>\n      <td>0.904072</td>\n      <td>-0.879046</td>\n      <td>-1.434459</td>\n      <td>-0.283907</td>\n      <td>-1.005673</td>\n      <td>-0.232938</td>\n      <td>-1.075211</td>\n      <td>0.613301</td>\n      <td>-0.965509</td>\n      <td>...</td>\n      <td>0.707564</td>\n      <td>0.438193</td>\n      <td>0.665952</td>\n      <td>0.509067</td>\n      <td>-0.396858</td>\n      <td>-0.731261</td>\n      <td>0.468917</td>\n      <td>0.106676</td>\n      <td>0.247497</td>\n      <td>-0.065500</td>\n    </tr>\n    <tr>\n      <th>3</th>\n      <td>2.232631</td>\n      <td>1.758709</td>\n      <td>-0.887527</td>\n      <td>-2.061887</td>\n      <td>-0.039456</td>\n      <td>-0.979300</td>\n      <td>-0.188379</td>\n      <td>-1.040355</td>\n      <td>0.092777</td>\n      <td>-0.439938</td>\n      <td>...</td>\n      <td>0.731009</td>\n      <td>0.379955</td>\n      <td>0.579249</td>\n      <td>0.497502</td>\n      <td>-0.457559</td>\n      <td>-0.683913</td>\n      <td>0.202946</td>\n      <td>0.009591</td>\n      <td>0.349443</td>\n      <td>0.041207</td>\n    </tr>\n    <tr>\n      <th>4</th>\n      <td>1.863745</td>\n      <td>1.278517</td>\n      <td>-1.410770</td>\n      <td>-2.542341</td>\n      <td>-0.033701</td>\n      <td>-1.106488</td>\n      <td>-0.133756</td>\n      <td>-1.003558</td>\n      <td>-0.190875</td>\n      <td>-0.768248</td>\n      <td>...</td>\n      <td>0.768530</td>\n      <td>0.336689</td>\n      <td>0.669830</td>\n      <td>0.593015</td>\n      <td>-0.647023</td>\n      <td>-0.843513</td>\n      <td>0.175213</td>\n      <td>0.015534</td>\n      <td>0.073232</td>\n      <td>-0.174049</td>\n    </tr>\n    <tr>\n      <th>...</th>\n      <th>...</th>\n      <td>...</td>\n      <td>...</td>\n      <td>...</td>\n      <td>...</td>\n      <td>...</td>\n      <td>...</td>\n      <td>...</td>\n      <td>...</td>\n      <td>...</td>\n      <td>...</td>\n      <td>...</td>\n      <td>...</td>\n      <td>...</td>\n      <td>...</td>\n      <td>...</td>\n      <td>...</td>\n      <td>...</td>\n      <td>...</td>\n      <td>...</td>\n      <td>...</td>\n      <td>...</td>\n    </tr>\n    <tr>\n      <th rowspan=\"5\" valign=\"top\">2020-10-09</th>\n      <th>3228</th>\n      <td>-2.578400</td>\n      <td>-3.521142</td>\n      <td>-0.764019</td>\n      <td>-1.945059</td>\n      <td>0.338535</td>\n      <td>-0.778648</td>\n      <td>0.284701</td>\n      <td>-0.965865</td>\n      <td>-0.628849</td>\n      <td>-1.739375</td>\n      <td>...</td>\n      <td>0.804540</td>\n      <td>0.035234</td>\n      <td>1.602055</td>\n      <td>1.297609</td>\n      <td>-1.888306</td>\n      <td>-2.382600</td>\n      <td>0.709347</td>\n      <td>0.209706</td>\n      <td>1.216620</td>\n      <td>0.623109</td>\n    </tr>\n    <tr>\n      <th>3229</th>\n      <td>1.005270</td>\n      <td>-1.254299</td>\n      <td>-0.073360</td>\n      <td>-1.027821</td>\n      <td>-0.528851</td>\n      <td>-1.276024</td>\n      <td>-0.556423</td>\n      <td>-2.077708</td>\n      <td>0.115092</td>\n      <td>-0.395445</td>\n      <td>...</td>\n      <td>-0.609240</td>\n      <td>-1.053243</td>\n      <td>-0.169344</td>\n      <td>-0.952326</td>\n      <td>-1.050392</td>\n      <td>-1.614056</td>\n      <td>0.607270</td>\n      <td>-0.264772</td>\n      <td>0.485292</td>\n      <td>0.285741</td>\n    </tr>\n    <tr>\n      <th>3230</th>\n      <td>-0.703218</td>\n      <td>-1.961407</td>\n      <td>1.287013</td>\n      <td>-0.388428</td>\n      <td>1.720019</td>\n      <td>-0.771418</td>\n      <td>0.104234</td>\n      <td>-1.181206</td>\n      <td>-0.584574</td>\n      <td>-1.619687</td>\n      <td>...</td>\n      <td>-1.052479</td>\n      <td>-1.614661</td>\n      <td>-0.032596</td>\n      <td>-0.217834</td>\n      <td>-2.009938</td>\n      <td>-2.353993</td>\n      <td>0.183213</td>\n      <td>-0.378370</td>\n      <td>0.635360</td>\n      <td>0.159731</td>\n    </tr>\n    <tr>\n      <th>3231</th>\n      <td>-1.562584</td>\n      <td>-4.393294</td>\n      <td>-1.495783</td>\n      <td>-2.678844</td>\n      <td>-0.311439</td>\n      <td>-1.377934</td>\n      <td>0.256350</td>\n      <td>-1.153596</td>\n      <td>1.032231</td>\n      <td>-0.625120</td>\n      <td>...</td>\n      <td>0.278423</td>\n      <td>-0.533177</td>\n      <td>1.145559</td>\n      <td>-0.632924</td>\n      <td>-1.170794</td>\n      <td>-1.769246</td>\n      <td>1.366944</td>\n      <td>0.268053</td>\n      <td>1.285421</td>\n      <td>0.152326</td>\n    </tr>\n    <tr>\n      <th>3232</th>\n      <td>-0.778073</td>\n      <td>-3.746977</td>\n      <td>-1.150497</td>\n      <td>-2.576713</td>\n      <td>-0.018446</td>\n      <td>-1.898842</td>\n      <td>0.501033</td>\n      <td>-0.495423</td>\n      <td>0.664446</td>\n      <td>-0.337451</td>\n      <td>...</td>\n      <td>0.232678</td>\n      <td>-0.381604</td>\n      <td>0.762553</td>\n      <td>-1.120657</td>\n      <td>-1.018824</td>\n      <td>-1.887357</td>\n      <td>1.203578</td>\n      <td>-0.228016</td>\n      <td>1.144002</td>\n      <td>-0.049164</td>\n    </tr>\n  </tbody>\n</table>\n<p>914656 rows × 22 columns</p>\n</div>"
     },
     "metadata": {},
     "execution_count": 76
    }
   ],
   "source": [
    "df_cams = df_cams.groupby(['time','shapeID']).agg([np.mean,np.min,np.max])\n",
    "df_cams"
   ]
  },
  {
   "cell_type": "code",
   "execution_count": 77,
   "metadata": {},
   "outputs": [
    {
     "output_type": "execute_result",
     "data": {
      "text/plain": [
       "         index       time_  shapeID_   x0_mean   x0_amin   x1_mean   x1_amin  \\\n",
       "0            0  2020-01-01         0  2.746214  1.318739 -0.468615 -1.177848   \n",
       "1            1  2020-01-01         1  1.748343  1.136316 -1.344321 -2.492807   \n",
       "2            2  2020-01-01         2  2.537780  0.904072 -0.879046 -1.434459   \n",
       "3            3  2020-01-01         3  2.232631  1.758709 -0.887527 -2.061887   \n",
       "4            4  2020-01-01         4  1.863745  1.278517 -1.410770 -2.542341   \n",
       "...        ...         ...       ...       ...       ...       ...       ...   \n",
       "914651  914651  2020-10-09      3228 -2.578400 -3.521142 -0.764019 -1.945059   \n",
       "914652  914652  2020-10-09      3229  1.005270 -1.254299 -0.073360 -1.027821   \n",
       "914653  914653  2020-10-09      3230 -0.703218 -1.961407  1.287013 -0.388428   \n",
       "914654  914654  2020-10-09      3231 -1.562584 -4.393294 -1.495783 -2.678844   \n",
       "914655  914655  2020-10-09      3232 -0.778073 -3.746977 -1.150497 -2.576713   \n",
       "\n",
       "         x2_mean   x2_amin   x3_mean  ...   x6_mean   x6_amin   x7_mean  \\\n",
       "0      -0.196347 -1.236057 -0.230875  ...  0.873012  0.603753  0.533494   \n",
       "1       0.043200 -1.023753 -0.100307  ...  0.763758  0.361931  0.585046   \n",
       "2      -0.283907 -1.005673 -0.232938  ...  0.707564  0.438193  0.665952   \n",
       "3      -0.039456 -0.979300 -0.188379  ...  0.731009  0.379955  0.579249   \n",
       "4      -0.033701 -1.106488 -0.133756  ...  0.768530  0.336689  0.669830   \n",
       "...          ...       ...       ...  ...       ...       ...       ...   \n",
       "914651  0.338535 -0.778648  0.284701  ...  0.804540  0.035234  1.602055   \n",
       "914652 -0.528851 -1.276024 -0.556423  ... -0.609240 -1.053243 -0.169344   \n",
       "914653  1.720019 -0.771418  0.104234  ... -1.052479 -1.614661 -0.032596   \n",
       "914654 -0.311439 -1.377934  0.256350  ...  0.278423 -0.533177  1.145559   \n",
       "914655 -0.018446 -1.898842  0.501033  ...  0.232678 -0.381604  0.762553   \n",
       "\n",
       "         x7_amin   x8_mean   x8_amin   x9_mean   x9_amin  x10_mean  x10_amin  \n",
       "0       0.277017 -0.245813 -0.744365  0.402408  0.005759  0.705195  0.001659  \n",
       "1       0.434009 -0.598203 -0.794981  0.132206 -0.040984  0.150523 -0.042816  \n",
       "2       0.509067 -0.396858 -0.731261  0.468917  0.106676  0.247497 -0.065500  \n",
       "3       0.497502 -0.457559 -0.683913  0.202946  0.009591  0.349443  0.041207  \n",
       "4       0.593015 -0.647023 -0.843513  0.175213  0.015534  0.073232 -0.174049  \n",
       "...          ...       ...       ...       ...       ...       ...       ...  \n",
       "914651  1.297609 -1.888306 -2.382600  0.709347  0.209706  1.216620  0.623109  \n",
       "914652 -0.952326 -1.050392 -1.614056  0.607270 -0.264772  0.485292  0.285741  \n",
       "914653 -0.217834 -2.009938 -2.353993  0.183213 -0.378370  0.635360  0.159731  \n",
       "914654 -0.632924 -1.170794 -1.769246  1.366944  0.268053  1.285421  0.152326  \n",
       "914655 -1.120657 -1.018824 -1.887357  1.203578 -0.228016  1.144002 -0.049164  \n",
       "\n",
       "[914656 rows x 25 columns]"
      ],
      "text/html": "<div>\n<style scoped>\n    .dataframe tbody tr th:only-of-type {\n        vertical-align: middle;\n    }\n\n    .dataframe tbody tr th {\n        vertical-align: top;\n    }\n\n    .dataframe thead th {\n        text-align: right;\n    }\n</style>\n<table border=\"1\" class=\"dataframe\">\n  <thead>\n    <tr style=\"text-align: right;\">\n      <th></th>\n      <th>index</th>\n      <th>time_</th>\n      <th>shapeID_</th>\n      <th>x0_mean</th>\n      <th>x0_amin</th>\n      <th>x1_mean</th>\n      <th>x1_amin</th>\n      <th>x2_mean</th>\n      <th>x2_amin</th>\n      <th>x3_mean</th>\n      <th>...</th>\n      <th>x6_mean</th>\n      <th>x6_amin</th>\n      <th>x7_mean</th>\n      <th>x7_amin</th>\n      <th>x8_mean</th>\n      <th>x8_amin</th>\n      <th>x9_mean</th>\n      <th>x9_amin</th>\n      <th>x10_mean</th>\n      <th>x10_amin</th>\n    </tr>\n  </thead>\n  <tbody>\n    <tr>\n      <th>0</th>\n      <td>0</td>\n      <td>2020-01-01</td>\n      <td>0</td>\n      <td>2.746214</td>\n      <td>1.318739</td>\n      <td>-0.468615</td>\n      <td>-1.177848</td>\n      <td>-0.196347</td>\n      <td>-1.236057</td>\n      <td>-0.230875</td>\n      <td>...</td>\n      <td>0.873012</td>\n      <td>0.603753</td>\n      <td>0.533494</td>\n      <td>0.277017</td>\n      <td>-0.245813</td>\n      <td>-0.744365</td>\n      <td>0.402408</td>\n      <td>0.005759</td>\n      <td>0.705195</td>\n      <td>0.001659</td>\n    </tr>\n    <tr>\n      <th>1</th>\n      <td>1</td>\n      <td>2020-01-01</td>\n      <td>1</td>\n      <td>1.748343</td>\n      <td>1.136316</td>\n      <td>-1.344321</td>\n      <td>-2.492807</td>\n      <td>0.043200</td>\n      <td>-1.023753</td>\n      <td>-0.100307</td>\n      <td>...</td>\n      <td>0.763758</td>\n      <td>0.361931</td>\n      <td>0.585046</td>\n      <td>0.434009</td>\n      <td>-0.598203</td>\n      <td>-0.794981</td>\n      <td>0.132206</td>\n      <td>-0.040984</td>\n      <td>0.150523</td>\n      <td>-0.042816</td>\n    </tr>\n    <tr>\n      <th>2</th>\n      <td>2</td>\n      <td>2020-01-01</td>\n      <td>2</td>\n      <td>2.537780</td>\n      <td>0.904072</td>\n      <td>-0.879046</td>\n      <td>-1.434459</td>\n      <td>-0.283907</td>\n      <td>-1.005673</td>\n      <td>-0.232938</td>\n      <td>...</td>\n      <td>0.707564</td>\n      <td>0.438193</td>\n      <td>0.665952</td>\n      <td>0.509067</td>\n      <td>-0.396858</td>\n      <td>-0.731261</td>\n      <td>0.468917</td>\n      <td>0.106676</td>\n      <td>0.247497</td>\n      <td>-0.065500</td>\n    </tr>\n    <tr>\n      <th>3</th>\n      <td>3</td>\n      <td>2020-01-01</td>\n      <td>3</td>\n      <td>2.232631</td>\n      <td>1.758709</td>\n      <td>-0.887527</td>\n      <td>-2.061887</td>\n      <td>-0.039456</td>\n      <td>-0.979300</td>\n      <td>-0.188379</td>\n      <td>...</td>\n      <td>0.731009</td>\n      <td>0.379955</td>\n      <td>0.579249</td>\n      <td>0.497502</td>\n      <td>-0.457559</td>\n      <td>-0.683913</td>\n      <td>0.202946</td>\n      <td>0.009591</td>\n      <td>0.349443</td>\n      <td>0.041207</td>\n    </tr>\n    <tr>\n      <th>4</th>\n      <td>4</td>\n      <td>2020-01-01</td>\n      <td>4</td>\n      <td>1.863745</td>\n      <td>1.278517</td>\n      <td>-1.410770</td>\n      <td>-2.542341</td>\n      <td>-0.033701</td>\n      <td>-1.106488</td>\n      <td>-0.133756</td>\n      <td>...</td>\n      <td>0.768530</td>\n      <td>0.336689</td>\n      <td>0.669830</td>\n      <td>0.593015</td>\n      <td>-0.647023</td>\n      <td>-0.843513</td>\n      <td>0.175213</td>\n      <td>0.015534</td>\n      <td>0.073232</td>\n      <td>-0.174049</td>\n    </tr>\n    <tr>\n      <th>...</th>\n      <td>...</td>\n      <td>...</td>\n      <td>...</td>\n      <td>...</td>\n      <td>...</td>\n      <td>...</td>\n      <td>...</td>\n      <td>...</td>\n      <td>...</td>\n      <td>...</td>\n      <td>...</td>\n      <td>...</td>\n      <td>...</td>\n      <td>...</td>\n      <td>...</td>\n      <td>...</td>\n      <td>...</td>\n      <td>...</td>\n      <td>...</td>\n      <td>...</td>\n      <td>...</td>\n    </tr>\n    <tr>\n      <th>914651</th>\n      <td>914651</td>\n      <td>2020-10-09</td>\n      <td>3228</td>\n      <td>-2.578400</td>\n      <td>-3.521142</td>\n      <td>-0.764019</td>\n      <td>-1.945059</td>\n      <td>0.338535</td>\n      <td>-0.778648</td>\n      <td>0.284701</td>\n      <td>...</td>\n      <td>0.804540</td>\n      <td>0.035234</td>\n      <td>1.602055</td>\n      <td>1.297609</td>\n      <td>-1.888306</td>\n      <td>-2.382600</td>\n      <td>0.709347</td>\n      <td>0.209706</td>\n      <td>1.216620</td>\n      <td>0.623109</td>\n    </tr>\n    <tr>\n      <th>914652</th>\n      <td>914652</td>\n      <td>2020-10-09</td>\n      <td>3229</td>\n      <td>1.005270</td>\n      <td>-1.254299</td>\n      <td>-0.073360</td>\n      <td>-1.027821</td>\n      <td>-0.528851</td>\n      <td>-1.276024</td>\n      <td>-0.556423</td>\n      <td>...</td>\n      <td>-0.609240</td>\n      <td>-1.053243</td>\n      <td>-0.169344</td>\n      <td>-0.952326</td>\n      <td>-1.050392</td>\n      <td>-1.614056</td>\n      <td>0.607270</td>\n      <td>-0.264772</td>\n      <td>0.485292</td>\n      <td>0.285741</td>\n    </tr>\n    <tr>\n      <th>914653</th>\n      <td>914653</td>\n      <td>2020-10-09</td>\n      <td>3230</td>\n      <td>-0.703218</td>\n      <td>-1.961407</td>\n      <td>1.287013</td>\n      <td>-0.388428</td>\n      <td>1.720019</td>\n      <td>-0.771418</td>\n      <td>0.104234</td>\n      <td>...</td>\n      <td>-1.052479</td>\n      <td>-1.614661</td>\n      <td>-0.032596</td>\n      <td>-0.217834</td>\n      <td>-2.009938</td>\n      <td>-2.353993</td>\n      <td>0.183213</td>\n      <td>-0.378370</td>\n      <td>0.635360</td>\n      <td>0.159731</td>\n    </tr>\n    <tr>\n      <th>914654</th>\n      <td>914654</td>\n      <td>2020-10-09</td>\n      <td>3231</td>\n      <td>-1.562584</td>\n      <td>-4.393294</td>\n      <td>-1.495783</td>\n      <td>-2.678844</td>\n      <td>-0.311439</td>\n      <td>-1.377934</td>\n      <td>0.256350</td>\n      <td>...</td>\n      <td>0.278423</td>\n      <td>-0.533177</td>\n      <td>1.145559</td>\n      <td>-0.632924</td>\n      <td>-1.170794</td>\n      <td>-1.769246</td>\n      <td>1.366944</td>\n      <td>0.268053</td>\n      <td>1.285421</td>\n      <td>0.152326</td>\n    </tr>\n    <tr>\n      <th>914655</th>\n      <td>914655</td>\n      <td>2020-10-09</td>\n      <td>3232</td>\n      <td>-0.778073</td>\n      <td>-3.746977</td>\n      <td>-1.150497</td>\n      <td>-2.576713</td>\n      <td>-0.018446</td>\n      <td>-1.898842</td>\n      <td>0.501033</td>\n      <td>...</td>\n      <td>0.232678</td>\n      <td>-0.381604</td>\n      <td>0.762553</td>\n      <td>-1.120657</td>\n      <td>-1.018824</td>\n      <td>-1.887357</td>\n      <td>1.203578</td>\n      <td>-0.228016</td>\n      <td>1.144002</td>\n      <td>-0.049164</td>\n    </tr>\n  </tbody>\n</table>\n<p>914656 rows × 25 columns</p>\n</div>"
     },
     "metadata": {},
     "execution_count": 77
    }
   ],
   "source": [
    "df_cams.columns = pd.Index([f\"{x}_{y}\" for (x,y) in df_cams.columns])\n",
    "df_cams = df_cams.reset_index()\n",
    "\n",
    "df_cams"
   ]
  },
  {
   "cell_type": "code",
   "execution_count": 8,
   "metadata": {},
   "outputs": [],
   "source": [
    "df_cams['time'] = pd.to_datetime(df_cams['time'], infer_datetime_format=True)"
   ]
  },
  {
   "cell_type": "code",
   "execution_count": 78,
   "metadata": {},
   "outputs": [
    {
     "output_type": "error",
     "ename": "KeyError",
     "evalue": "'time'",
     "traceback": [
      "\u001b[0;31m---------------------------------------------------------------------------\u001b[0m",
      "\u001b[0;31mKeyError\u001b[0m                                  Traceback (most recent call last)",
      "\u001b[0;32m<ipython-input-78-1bd0e9e04baa>\u001b[0m in \u001b[0;36m<module>\u001b[0;34m\u001b[0m\n\u001b[0;32m----> 1\u001b[0;31m \u001b[0mdf_total\u001b[0m \u001b[0;34m=\u001b[0m \u001b[0mpd\u001b[0m\u001b[0;34m.\u001b[0m\u001b[0mmerge\u001b[0m\u001b[0;34m(\u001b[0m\u001b[0mdf_cams\u001b[0m\u001b[0;34m,\u001b[0m \u001b[0mdf_covid\u001b[0m\u001b[0;34m,\u001b[0m \u001b[0mhow\u001b[0m\u001b[0;34m=\u001b[0m\u001b[0;34m\"inner\"\u001b[0m\u001b[0;34m,\u001b[0m \u001b[0mleft_on\u001b[0m\u001b[0;34m=\u001b[0m\u001b[0;34m[\u001b[0m\u001b[0;34m'time'\u001b[0m\u001b[0;34m,\u001b[0m\u001b[0;34m'shapeID'\u001b[0m\u001b[0;34m]\u001b[0m\u001b[0;34m,\u001b[0m \u001b[0mright_on\u001b[0m\u001b[0;34m=\u001b[0m\u001b[0;34m[\u001b[0m\u001b[0;34m'date'\u001b[0m\u001b[0;34m,\u001b[0m\u001b[0;34m'shapeID'\u001b[0m\u001b[0;34m]\u001b[0m\u001b[0;34m)\u001b[0m\u001b[0;34m\u001b[0m\u001b[0;34m\u001b[0m\u001b[0m\n\u001b[0m\u001b[1;32m      2\u001b[0m \u001b[0mdf_total\u001b[0m\u001b[0;34m.\u001b[0m\u001b[0minfo\u001b[0m\u001b[0;34m(\u001b[0m\u001b[0;34m)\u001b[0m\u001b[0;34m\u001b[0m\u001b[0;34m\u001b[0m\u001b[0m\n",
      "\u001b[0;32m~/Library/Caches/pypoetry/virtualenvs/projectx-udem-2XMjfT56-py3.8/lib/python3.8/site-packages/pandas/core/reshape/merge.py\u001b[0m in \u001b[0;36mmerge\u001b[0;34m(left, right, how, on, left_on, right_on, left_index, right_index, sort, suffixes, copy, indicator, validate)\u001b[0m\n\u001b[1;32m     72\u001b[0m     \u001b[0mvalidate\u001b[0m\u001b[0;34m=\u001b[0m\u001b[0;32mNone\u001b[0m\u001b[0;34m,\u001b[0m\u001b[0;34m\u001b[0m\u001b[0;34m\u001b[0m\u001b[0m\n\u001b[1;32m     73\u001b[0m ) -> \"DataFrame\":\n\u001b[0;32m---> 74\u001b[0;31m     op = _MergeOperation(\n\u001b[0m\u001b[1;32m     75\u001b[0m         \u001b[0mleft\u001b[0m\u001b[0;34m,\u001b[0m\u001b[0;34m\u001b[0m\u001b[0;34m\u001b[0m\u001b[0m\n\u001b[1;32m     76\u001b[0m         \u001b[0mright\u001b[0m\u001b[0;34m,\u001b[0m\u001b[0;34m\u001b[0m\u001b[0;34m\u001b[0m\u001b[0m\n",
      "\u001b[0;32m~/Library/Caches/pypoetry/virtualenvs/projectx-udem-2XMjfT56-py3.8/lib/python3.8/site-packages/pandas/core/reshape/merge.py\u001b[0m in \u001b[0;36m__init__\u001b[0;34m(self, left, right, how, on, left_on, right_on, axis, left_index, right_index, sort, suffixes, copy, indicator, validate)\u001b[0m\n\u001b[1;32m    650\u001b[0m             \u001b[0mself\u001b[0m\u001b[0;34m.\u001b[0m\u001b[0mright_join_keys\u001b[0m\u001b[0;34m,\u001b[0m\u001b[0;34m\u001b[0m\u001b[0;34m\u001b[0m\u001b[0m\n\u001b[1;32m    651\u001b[0m             \u001b[0mself\u001b[0m\u001b[0;34m.\u001b[0m\u001b[0mjoin_names\u001b[0m\u001b[0;34m,\u001b[0m\u001b[0;34m\u001b[0m\u001b[0;34m\u001b[0m\u001b[0m\n\u001b[0;32m--> 652\u001b[0;31m         ) = self._get_merge_keys()\n\u001b[0m\u001b[1;32m    653\u001b[0m \u001b[0;34m\u001b[0m\u001b[0m\n\u001b[1;32m    654\u001b[0m         \u001b[0;31m# validate the merge keys dtypes. We may need to coerce\u001b[0m\u001b[0;34m\u001b[0m\u001b[0;34m\u001b[0m\u001b[0;34m\u001b[0m\u001b[0m\n",
      "\u001b[0;32m~/Library/Caches/pypoetry/virtualenvs/projectx-udem-2XMjfT56-py3.8/lib/python3.8/site-packages/pandas/core/reshape/merge.py\u001b[0m in \u001b[0;36m_get_merge_keys\u001b[0;34m(self)\u001b[0m\n\u001b[1;32m   1016\u001b[0m                         \u001b[0mright_keys\u001b[0m\u001b[0;34m.\u001b[0m\u001b[0mappend\u001b[0m\u001b[0;34m(\u001b[0m\u001b[0mrk\u001b[0m\u001b[0;34m)\u001b[0m\u001b[0;34m\u001b[0m\u001b[0;34m\u001b[0m\u001b[0m\n\u001b[1;32m   1017\u001b[0m                     \u001b[0;32mif\u001b[0m \u001b[0mlk\u001b[0m \u001b[0;32mis\u001b[0m \u001b[0;32mnot\u001b[0m \u001b[0;32mNone\u001b[0m\u001b[0;34m:\u001b[0m\u001b[0;34m\u001b[0m\u001b[0;34m\u001b[0m\u001b[0m\n\u001b[0;32m-> 1018\u001b[0;31m                         \u001b[0mleft_keys\u001b[0m\u001b[0;34m.\u001b[0m\u001b[0mappend\u001b[0m\u001b[0;34m(\u001b[0m\u001b[0mleft\u001b[0m\u001b[0;34m.\u001b[0m\u001b[0m_get_label_or_level_values\u001b[0m\u001b[0;34m(\u001b[0m\u001b[0mlk\u001b[0m\u001b[0;34m)\u001b[0m\u001b[0;34m)\u001b[0m\u001b[0;34m\u001b[0m\u001b[0;34m\u001b[0m\u001b[0m\n\u001b[0m\u001b[1;32m   1019\u001b[0m                         \u001b[0mjoin_names\u001b[0m\u001b[0;34m.\u001b[0m\u001b[0mappend\u001b[0m\u001b[0;34m(\u001b[0m\u001b[0mlk\u001b[0m\u001b[0;34m)\u001b[0m\u001b[0;34m\u001b[0m\u001b[0;34m\u001b[0m\u001b[0m\n\u001b[1;32m   1020\u001b[0m                     \u001b[0;32melse\u001b[0m\u001b[0;34m:\u001b[0m\u001b[0;34m\u001b[0m\u001b[0;34m\u001b[0m\u001b[0m\n",
      "\u001b[0;32m~/Library/Caches/pypoetry/virtualenvs/projectx-udem-2XMjfT56-py3.8/lib/python3.8/site-packages/pandas/core/generic.py\u001b[0m in \u001b[0;36m_get_label_or_level_values\u001b[0;34m(self, key, axis)\u001b[0m\n\u001b[1;32m   1561\u001b[0m             \u001b[0mvalues\u001b[0m \u001b[0;34m=\u001b[0m \u001b[0mself\u001b[0m\u001b[0;34m.\u001b[0m\u001b[0maxes\u001b[0m\u001b[0;34m[\u001b[0m\u001b[0maxis\u001b[0m\u001b[0;34m]\u001b[0m\u001b[0;34m.\u001b[0m\u001b[0mget_level_values\u001b[0m\u001b[0;34m(\u001b[0m\u001b[0mkey\u001b[0m\u001b[0;34m)\u001b[0m\u001b[0;34m.\u001b[0m\u001b[0m_values\u001b[0m\u001b[0;34m\u001b[0m\u001b[0;34m\u001b[0m\u001b[0m\n\u001b[1;32m   1562\u001b[0m         \u001b[0;32melse\u001b[0m\u001b[0;34m:\u001b[0m\u001b[0;34m\u001b[0m\u001b[0;34m\u001b[0m\u001b[0m\n\u001b[0;32m-> 1563\u001b[0;31m             \u001b[0;32mraise\u001b[0m \u001b[0mKeyError\u001b[0m\u001b[0;34m(\u001b[0m\u001b[0mkey\u001b[0m\u001b[0;34m)\u001b[0m\u001b[0;34m\u001b[0m\u001b[0;34m\u001b[0m\u001b[0m\n\u001b[0m\u001b[1;32m   1564\u001b[0m \u001b[0;34m\u001b[0m\u001b[0m\n\u001b[1;32m   1565\u001b[0m         \u001b[0;31m# Check for duplicates\u001b[0m\u001b[0;34m\u001b[0m\u001b[0;34m\u001b[0m\u001b[0;34m\u001b[0m\u001b[0m\n",
      "\u001b[0;31mKeyError\u001b[0m: 'time'"
     ]
    }
   ],
   "source": [
    "df_total = pd.merge(df_cams, df_covid, how=\"inner\", left_on=['time','shapeID'], right_on=['date','shapeID'])\n",
    "df_total.info()"
   ]
  },
  {
   "cell_type": "code",
   "execution_count": 67,
   "metadata": {},
   "outputs": [
    {
     "output_type": "execute_result",
     "data": {
      "text/plain": [
       "             date  shapeID\n",
       "0      2020-03-25       13\n",
       "1      2020-03-26       13\n",
       "2      2020-03-27       13\n",
       "3      2020-03-28       13\n",
       "4      2020-03-29       13\n",
       "...           ...      ...\n",
       "39104  2020-10-30     3231\n",
       "39105  2020-10-31     3231\n",
       "39106  2020-11-01     3231\n",
       "39107  2020-11-02     3231\n",
       "39108  2020-11-03     3231\n",
       "\n",
       "[39109 rows x 2 columns]"
      ],
      "text/html": "<div>\n<style scoped>\n    .dataframe tbody tr th:only-of-type {\n        vertical-align: middle;\n    }\n\n    .dataframe tbody tr th {\n        vertical-align: top;\n    }\n\n    .dataframe thead th {\n        text-align: right;\n    }\n</style>\n<table border=\"1\" class=\"dataframe\">\n  <thead>\n    <tr style=\"text-align: right;\">\n      <th></th>\n      <th>date</th>\n      <th>shapeID</th>\n    </tr>\n  </thead>\n  <tbody>\n    <tr>\n      <th>0</th>\n      <td>2020-03-25</td>\n      <td>13</td>\n    </tr>\n    <tr>\n      <th>1</th>\n      <td>2020-03-26</td>\n      <td>13</td>\n    </tr>\n    <tr>\n      <th>2</th>\n      <td>2020-03-27</td>\n      <td>13</td>\n    </tr>\n    <tr>\n      <th>3</th>\n      <td>2020-03-28</td>\n      <td>13</td>\n    </tr>\n    <tr>\n      <th>4</th>\n      <td>2020-03-29</td>\n      <td>13</td>\n    </tr>\n    <tr>\n      <th>...</th>\n      <td>...</td>\n      <td>...</td>\n    </tr>\n    <tr>\n      <th>39104</th>\n      <td>2020-10-30</td>\n      <td>3231</td>\n    </tr>\n    <tr>\n      <th>39105</th>\n      <td>2020-10-31</td>\n      <td>3231</td>\n    </tr>\n    <tr>\n      <th>39106</th>\n      <td>2020-11-01</td>\n      <td>3231</td>\n    </tr>\n    <tr>\n      <th>39107</th>\n      <td>2020-11-02</td>\n      <td>3231</td>\n    </tr>\n    <tr>\n      <th>39108</th>\n      <td>2020-11-03</td>\n      <td>3231</td>\n    </tr>\n  </tbody>\n</table>\n<p>39109 rows × 2 columns</p>\n</div>"
     },
     "metadata": {},
     "execution_count": 67
    }
   ],
   "source": [
    "df_covid[['date', 'shapeID']]"
   ]
  },
  {
   "cell_type": "code",
   "execution_count": 80,
   "metadata": {},
   "outputs": [
    {
     "output_type": "execute_result",
     "data": {
      "text/plain": [
       "         index       time_  shapeID_   x0_mean   x0_amin   x1_mean   x1_amin  \\\n",
       "0            0  2020-01-01         0  2.746214  1.318739 -0.468615 -1.177848   \n",
       "1            1  2020-01-01         1  1.748343  1.136316 -1.344321 -2.492807   \n",
       "2            2  2020-01-01         2  2.537780  0.904072 -0.879046 -1.434459   \n",
       "3            3  2020-01-01         3  2.232631  1.758709 -0.887527 -2.061887   \n",
       "4            4  2020-01-01         4  1.863745  1.278517 -1.410770 -2.542341   \n",
       "...        ...         ...       ...       ...       ...       ...       ...   \n",
       "914651  914651  2020-10-09      3228 -2.578400 -3.521142 -0.764019 -1.945059   \n",
       "914652  914652  2020-10-09      3229  1.005270 -1.254299 -0.073360 -1.027821   \n",
       "914653  914653  2020-10-09      3230 -0.703218 -1.961407  1.287013 -0.388428   \n",
       "914654  914654  2020-10-09      3231 -1.562584 -4.393294 -1.495783 -2.678844   \n",
       "914655  914655  2020-10-09      3232 -0.778073 -3.746977 -1.150497 -2.576713   \n",
       "\n",
       "         x2_mean   x2_amin   x3_mean  ...   x6_mean   x6_amin   x7_mean  \\\n",
       "0      -0.196347 -1.236057 -0.230875  ...  0.873012  0.603753  0.533494   \n",
       "1       0.043200 -1.023753 -0.100307  ...  0.763758  0.361931  0.585046   \n",
       "2      -0.283907 -1.005673 -0.232938  ...  0.707564  0.438193  0.665952   \n",
       "3      -0.039456 -0.979300 -0.188379  ...  0.731009  0.379955  0.579249   \n",
       "4      -0.033701 -1.106488 -0.133756  ...  0.768530  0.336689  0.669830   \n",
       "...          ...       ...       ...  ...       ...       ...       ...   \n",
       "914651  0.338535 -0.778648  0.284701  ...  0.804540  0.035234  1.602055   \n",
       "914652 -0.528851 -1.276024 -0.556423  ... -0.609240 -1.053243 -0.169344   \n",
       "914653  1.720019 -0.771418  0.104234  ... -1.052479 -1.614661 -0.032596   \n",
       "914654 -0.311439 -1.377934  0.256350  ...  0.278423 -0.533177  1.145559   \n",
       "914655 -0.018446 -1.898842  0.501033  ...  0.232678 -0.381604  0.762553   \n",
       "\n",
       "         x7_amin   x8_mean   x8_amin   x9_mean   x9_amin  x10_mean  x10_amin  \n",
       "0       0.277017 -0.245813 -0.744365  0.402408  0.005759  0.705195  0.001659  \n",
       "1       0.434009 -0.598203 -0.794981  0.132206 -0.040984  0.150523 -0.042816  \n",
       "2       0.509067 -0.396858 -0.731261  0.468917  0.106676  0.247497 -0.065500  \n",
       "3       0.497502 -0.457559 -0.683913  0.202946  0.009591  0.349443  0.041207  \n",
       "4       0.593015 -0.647023 -0.843513  0.175213  0.015534  0.073232 -0.174049  \n",
       "...          ...       ...       ...       ...       ...       ...       ...  \n",
       "914651  1.297609 -1.888306 -2.382600  0.709347  0.209706  1.216620  0.623109  \n",
       "914652 -0.952326 -1.050392 -1.614056  0.607270 -0.264772  0.485292  0.285741  \n",
       "914653 -0.217834 -2.009938 -2.353993  0.183213 -0.378370  0.635360  0.159731  \n",
       "914654 -0.632924 -1.170794 -1.769246  1.366944  0.268053  1.285421  0.152326  \n",
       "914655 -1.120657 -1.018824 -1.887357  1.203578 -0.228016  1.144002 -0.049164  \n",
       "\n",
       "[914656 rows x 25 columns]"
      ],
      "text/html": "<div>\n<style scoped>\n    .dataframe tbody tr th:only-of-type {\n        vertical-align: middle;\n    }\n\n    .dataframe tbody tr th {\n        vertical-align: top;\n    }\n\n    .dataframe thead th {\n        text-align: right;\n    }\n</style>\n<table border=\"1\" class=\"dataframe\">\n  <thead>\n    <tr style=\"text-align: right;\">\n      <th></th>\n      <th>index</th>\n      <th>time_</th>\n      <th>shapeID_</th>\n      <th>x0_mean</th>\n      <th>x0_amin</th>\n      <th>x1_mean</th>\n      <th>x1_amin</th>\n      <th>x2_mean</th>\n      <th>x2_amin</th>\n      <th>x3_mean</th>\n      <th>...</th>\n      <th>x6_mean</th>\n      <th>x6_amin</th>\n      <th>x7_mean</th>\n      <th>x7_amin</th>\n      <th>x8_mean</th>\n      <th>x8_amin</th>\n      <th>x9_mean</th>\n      <th>x9_amin</th>\n      <th>x10_mean</th>\n      <th>x10_amin</th>\n    </tr>\n  </thead>\n  <tbody>\n    <tr>\n      <th>0</th>\n      <td>0</td>\n      <td>2020-01-01</td>\n      <td>0</td>\n      <td>2.746214</td>\n      <td>1.318739</td>\n      <td>-0.468615</td>\n      <td>-1.177848</td>\n      <td>-0.196347</td>\n      <td>-1.236057</td>\n      <td>-0.230875</td>\n      <td>...</td>\n      <td>0.873012</td>\n      <td>0.603753</td>\n      <td>0.533494</td>\n      <td>0.277017</td>\n      <td>-0.245813</td>\n      <td>-0.744365</td>\n      <td>0.402408</td>\n      <td>0.005759</td>\n      <td>0.705195</td>\n      <td>0.001659</td>\n    </tr>\n    <tr>\n      <th>1</th>\n      <td>1</td>\n      <td>2020-01-01</td>\n      <td>1</td>\n      <td>1.748343</td>\n      <td>1.136316</td>\n      <td>-1.344321</td>\n      <td>-2.492807</td>\n      <td>0.043200</td>\n      <td>-1.023753</td>\n      <td>-0.100307</td>\n      <td>...</td>\n      <td>0.763758</td>\n      <td>0.361931</td>\n      <td>0.585046</td>\n      <td>0.434009</td>\n      <td>-0.598203</td>\n      <td>-0.794981</td>\n      <td>0.132206</td>\n      <td>-0.040984</td>\n      <td>0.150523</td>\n      <td>-0.042816</td>\n    </tr>\n    <tr>\n      <th>2</th>\n      <td>2</td>\n      <td>2020-01-01</td>\n      <td>2</td>\n      <td>2.537780</td>\n      <td>0.904072</td>\n      <td>-0.879046</td>\n      <td>-1.434459</td>\n      <td>-0.283907</td>\n      <td>-1.005673</td>\n      <td>-0.232938</td>\n      <td>...</td>\n      <td>0.707564</td>\n      <td>0.438193</td>\n      <td>0.665952</td>\n      <td>0.509067</td>\n      <td>-0.396858</td>\n      <td>-0.731261</td>\n      <td>0.468917</td>\n      <td>0.106676</td>\n      <td>0.247497</td>\n      <td>-0.065500</td>\n    </tr>\n    <tr>\n      <th>3</th>\n      <td>3</td>\n      <td>2020-01-01</td>\n      <td>3</td>\n      <td>2.232631</td>\n      <td>1.758709</td>\n      <td>-0.887527</td>\n      <td>-2.061887</td>\n      <td>-0.039456</td>\n      <td>-0.979300</td>\n      <td>-0.188379</td>\n      <td>...</td>\n      <td>0.731009</td>\n      <td>0.379955</td>\n      <td>0.579249</td>\n      <td>0.497502</td>\n      <td>-0.457559</td>\n      <td>-0.683913</td>\n      <td>0.202946</td>\n      <td>0.009591</td>\n      <td>0.349443</td>\n      <td>0.041207</td>\n    </tr>\n    <tr>\n      <th>4</th>\n      <td>4</td>\n      <td>2020-01-01</td>\n      <td>4</td>\n      <td>1.863745</td>\n      <td>1.278517</td>\n      <td>-1.410770</td>\n      <td>-2.542341</td>\n      <td>-0.033701</td>\n      <td>-1.106488</td>\n      <td>-0.133756</td>\n      <td>...</td>\n      <td>0.768530</td>\n      <td>0.336689</td>\n      <td>0.669830</td>\n      <td>0.593015</td>\n      <td>-0.647023</td>\n      <td>-0.843513</td>\n      <td>0.175213</td>\n      <td>0.015534</td>\n      <td>0.073232</td>\n      <td>-0.174049</td>\n    </tr>\n    <tr>\n      <th>...</th>\n      <td>...</td>\n      <td>...</td>\n      <td>...</td>\n      <td>...</td>\n      <td>...</td>\n      <td>...</td>\n      <td>...</td>\n      <td>...</td>\n      <td>...</td>\n      <td>...</td>\n      <td>...</td>\n      <td>...</td>\n      <td>...</td>\n      <td>...</td>\n      <td>...</td>\n      <td>...</td>\n      <td>...</td>\n      <td>...</td>\n      <td>...</td>\n      <td>...</td>\n      <td>...</td>\n    </tr>\n    <tr>\n      <th>914651</th>\n      <td>914651</td>\n      <td>2020-10-09</td>\n      <td>3228</td>\n      <td>-2.578400</td>\n      <td>-3.521142</td>\n      <td>-0.764019</td>\n      <td>-1.945059</td>\n      <td>0.338535</td>\n      <td>-0.778648</td>\n      <td>0.284701</td>\n      <td>...</td>\n      <td>0.804540</td>\n      <td>0.035234</td>\n      <td>1.602055</td>\n      <td>1.297609</td>\n      <td>-1.888306</td>\n      <td>-2.382600</td>\n      <td>0.709347</td>\n      <td>0.209706</td>\n      <td>1.216620</td>\n      <td>0.623109</td>\n    </tr>\n    <tr>\n      <th>914652</th>\n      <td>914652</td>\n      <td>2020-10-09</td>\n      <td>3229</td>\n      <td>1.005270</td>\n      <td>-1.254299</td>\n      <td>-0.073360</td>\n      <td>-1.027821</td>\n      <td>-0.528851</td>\n      <td>-1.276024</td>\n      <td>-0.556423</td>\n      <td>...</td>\n      <td>-0.609240</td>\n      <td>-1.053243</td>\n      <td>-0.169344</td>\n      <td>-0.952326</td>\n      <td>-1.050392</td>\n      <td>-1.614056</td>\n      <td>0.607270</td>\n      <td>-0.264772</td>\n      <td>0.485292</td>\n      <td>0.285741</td>\n    </tr>\n    <tr>\n      <th>914653</th>\n      <td>914653</td>\n      <td>2020-10-09</td>\n      <td>3230</td>\n      <td>-0.703218</td>\n      <td>-1.961407</td>\n      <td>1.287013</td>\n      <td>-0.388428</td>\n      <td>1.720019</td>\n      <td>-0.771418</td>\n      <td>0.104234</td>\n      <td>...</td>\n      <td>-1.052479</td>\n      <td>-1.614661</td>\n      <td>-0.032596</td>\n      <td>-0.217834</td>\n      <td>-2.009938</td>\n      <td>-2.353993</td>\n      <td>0.183213</td>\n      <td>-0.378370</td>\n      <td>0.635360</td>\n      <td>0.159731</td>\n    </tr>\n    <tr>\n      <th>914654</th>\n      <td>914654</td>\n      <td>2020-10-09</td>\n      <td>3231</td>\n      <td>-1.562584</td>\n      <td>-4.393294</td>\n      <td>-1.495783</td>\n      <td>-2.678844</td>\n      <td>-0.311439</td>\n      <td>-1.377934</td>\n      <td>0.256350</td>\n      <td>...</td>\n      <td>0.278423</td>\n      <td>-0.533177</td>\n      <td>1.145559</td>\n      <td>-0.632924</td>\n      <td>-1.170794</td>\n      <td>-1.769246</td>\n      <td>1.366944</td>\n      <td>0.268053</td>\n      <td>1.285421</td>\n      <td>0.152326</td>\n    </tr>\n    <tr>\n      <th>914655</th>\n      <td>914655</td>\n      <td>2020-10-09</td>\n      <td>3232</td>\n      <td>-0.778073</td>\n      <td>-3.746977</td>\n      <td>-1.150497</td>\n      <td>-2.576713</td>\n      <td>-0.018446</td>\n      <td>-1.898842</td>\n      <td>0.501033</td>\n      <td>...</td>\n      <td>0.232678</td>\n      <td>-0.381604</td>\n      <td>0.762553</td>\n      <td>-1.120657</td>\n      <td>-1.018824</td>\n      <td>-1.887357</td>\n      <td>1.203578</td>\n      <td>-0.228016</td>\n      <td>1.144002</td>\n      <td>-0.049164</td>\n    </tr>\n  </tbody>\n</table>\n<p>914656 rows × 25 columns</p>\n</div>"
     },
     "metadata": {},
     "execution_count": 80
    }
   ],
   "source": [
    "df_cams"
   ]
  },
  {
   "cell_type": "code",
   "execution_count": 45,
   "metadata": {},
   "outputs": [],
   "source": []
  },
  {
   "cell_type": "code",
   "execution_count": 57,
   "metadata": {},
   "outputs": [
    {
     "output_type": "execute_result",
     "data": {
      "text/plain": [
       "              time  shapeID   x0_mean   x0_amin   x1_mean   x1_amin   x2_mean  \\\n",
       "0       2020-01-01        0  2.746214  1.318739 -0.468615 -1.177848 -0.196347   \n",
       "1       2020-01-01        1  1.748343  1.136316 -1.344321 -2.492807  0.043200   \n",
       "2       2020-01-01        2  2.537780  0.904072 -0.879046 -1.434459 -0.283907   \n",
       "3       2020-01-01        3  2.232631  1.758709 -0.887527 -2.061887 -0.039456   \n",
       "4       2020-01-01        4  1.863745  1.278517 -1.410770 -2.542341 -0.033701   \n",
       "...            ...      ...       ...       ...       ...       ...       ...   \n",
       "914651  2020-10-09     3228 -2.578400 -3.521142 -0.764019 -1.945059  0.338535   \n",
       "914652  2020-10-09     3229  1.005270 -1.254299 -0.073360 -1.027821 -0.528851   \n",
       "914653  2020-10-09     3230 -0.703218 -1.961407  1.287013 -0.388428  1.720019   \n",
       "914654  2020-10-09     3231 -1.562584 -4.393294 -1.495783 -2.678844 -0.311439   \n",
       "914655  2020-10-09     3232 -0.778073 -3.746977 -1.150497 -2.576713 -0.018446   \n",
       "\n",
       "         x2_amin   x3_mean   x3_amin  ...   x6_mean   x6_amin   x7_mean  \\\n",
       "0      -1.236057 -0.230875 -1.197603  ...  0.873012  0.603753  0.533494   \n",
       "1      -1.023753 -0.100307 -0.936233  ...  0.763758  0.361931  0.585046   \n",
       "2      -1.005673 -0.232938 -1.075211  ...  0.707564  0.438193  0.665952   \n",
       "3      -0.979300 -0.188379 -1.040355  ...  0.731009  0.379955  0.579249   \n",
       "4      -1.106488 -0.133756 -1.003558  ...  0.768530  0.336689  0.669830   \n",
       "...          ...       ...       ...  ...       ...       ...       ...   \n",
       "914651 -0.778648  0.284701 -0.965865  ...  0.804540  0.035234  1.602055   \n",
       "914652 -1.276024 -0.556423 -2.077708  ... -0.609240 -1.053243 -0.169344   \n",
       "914653 -0.771418  0.104234 -1.181206  ... -1.052479 -1.614661 -0.032596   \n",
       "914654 -1.377934  0.256350 -1.153596  ...  0.278423 -0.533177  1.145559   \n",
       "914655 -1.898842  0.501033 -0.495423  ...  0.232678 -0.381604  0.762553   \n",
       "\n",
       "         x7_amin   x8_mean   x8_amin   x9_mean   x9_amin  x10_mean  x10_amin  \n",
       "0       0.277017 -0.245813 -0.744365  0.402408  0.005759  0.705195  0.001659  \n",
       "1       0.434009 -0.598203 -0.794981  0.132206 -0.040984  0.150523 -0.042816  \n",
       "2       0.509067 -0.396858 -0.731261  0.468917  0.106676  0.247497 -0.065500  \n",
       "3       0.497502 -0.457559 -0.683913  0.202946  0.009591  0.349443  0.041207  \n",
       "4       0.593015 -0.647023 -0.843513  0.175213  0.015534  0.073232 -0.174049  \n",
       "...          ...       ...       ...       ...       ...       ...       ...  \n",
       "914651  1.297609 -1.888306 -2.382600  0.709347  0.209706  1.216620  0.623109  \n",
       "914652 -0.952326 -1.050392 -1.614056  0.607270 -0.264772  0.485292  0.285741  \n",
       "914653 -0.217834 -2.009938 -2.353993  0.183213 -0.378370  0.635360  0.159731  \n",
       "914654 -0.632924 -1.170794 -1.769246  1.366944  0.268053  1.285421  0.152326  \n",
       "914655 -1.120657 -1.018824 -1.887357  1.203578 -0.228016  1.144002 -0.049164  \n",
       "\n",
       "[914656 rows x 24 columns]"
      ],
      "text/html": "<div>\n<style scoped>\n    .dataframe tbody tr th:only-of-type {\n        vertical-align: middle;\n    }\n\n    .dataframe tbody tr th {\n        vertical-align: top;\n    }\n\n    .dataframe thead th {\n        text-align: right;\n    }\n</style>\n<table border=\"1\" class=\"dataframe\">\n  <thead>\n    <tr style=\"text-align: right;\">\n      <th></th>\n      <th>time</th>\n      <th>shapeID</th>\n      <th>x0_mean</th>\n      <th>x0_amin</th>\n      <th>x1_mean</th>\n      <th>x1_amin</th>\n      <th>x2_mean</th>\n      <th>x2_amin</th>\n      <th>x3_mean</th>\n      <th>x3_amin</th>\n      <th>...</th>\n      <th>x6_mean</th>\n      <th>x6_amin</th>\n      <th>x7_mean</th>\n      <th>x7_amin</th>\n      <th>x8_mean</th>\n      <th>x8_amin</th>\n      <th>x9_mean</th>\n      <th>x9_amin</th>\n      <th>x10_mean</th>\n      <th>x10_amin</th>\n    </tr>\n  </thead>\n  <tbody>\n    <tr>\n      <th>0</th>\n      <td>2020-01-01</td>\n      <td>0</td>\n      <td>2.746214</td>\n      <td>1.318739</td>\n      <td>-0.468615</td>\n      <td>-1.177848</td>\n      <td>-0.196347</td>\n      <td>-1.236057</td>\n      <td>-0.230875</td>\n      <td>-1.197603</td>\n      <td>...</td>\n      <td>0.873012</td>\n      <td>0.603753</td>\n      <td>0.533494</td>\n      <td>0.277017</td>\n      <td>-0.245813</td>\n      <td>-0.744365</td>\n      <td>0.402408</td>\n      <td>0.005759</td>\n      <td>0.705195</td>\n      <td>0.001659</td>\n    </tr>\n    <tr>\n      <th>1</th>\n      <td>2020-01-01</td>\n      <td>1</td>\n      <td>1.748343</td>\n      <td>1.136316</td>\n      <td>-1.344321</td>\n      <td>-2.492807</td>\n      <td>0.043200</td>\n      <td>-1.023753</td>\n      <td>-0.100307</td>\n      <td>-0.936233</td>\n      <td>...</td>\n      <td>0.763758</td>\n      <td>0.361931</td>\n      <td>0.585046</td>\n      <td>0.434009</td>\n      <td>-0.598203</td>\n      <td>-0.794981</td>\n      <td>0.132206</td>\n      <td>-0.040984</td>\n      <td>0.150523</td>\n      <td>-0.042816</td>\n    </tr>\n    <tr>\n      <th>2</th>\n      <td>2020-01-01</td>\n      <td>2</td>\n      <td>2.537780</td>\n      <td>0.904072</td>\n      <td>-0.879046</td>\n      <td>-1.434459</td>\n      <td>-0.283907</td>\n      <td>-1.005673</td>\n      <td>-0.232938</td>\n      <td>-1.075211</td>\n      <td>...</td>\n      <td>0.707564</td>\n      <td>0.438193</td>\n      <td>0.665952</td>\n      <td>0.509067</td>\n      <td>-0.396858</td>\n      <td>-0.731261</td>\n      <td>0.468917</td>\n      <td>0.106676</td>\n      <td>0.247497</td>\n      <td>-0.065500</td>\n    </tr>\n    <tr>\n      <th>3</th>\n      <td>2020-01-01</td>\n      <td>3</td>\n      <td>2.232631</td>\n      <td>1.758709</td>\n      <td>-0.887527</td>\n      <td>-2.061887</td>\n      <td>-0.039456</td>\n      <td>-0.979300</td>\n      <td>-0.188379</td>\n      <td>-1.040355</td>\n      <td>...</td>\n      <td>0.731009</td>\n      <td>0.379955</td>\n      <td>0.579249</td>\n      <td>0.497502</td>\n      <td>-0.457559</td>\n      <td>-0.683913</td>\n      <td>0.202946</td>\n      <td>0.009591</td>\n      <td>0.349443</td>\n      <td>0.041207</td>\n    </tr>\n    <tr>\n      <th>4</th>\n      <td>2020-01-01</td>\n      <td>4</td>\n      <td>1.863745</td>\n      <td>1.278517</td>\n      <td>-1.410770</td>\n      <td>-2.542341</td>\n      <td>-0.033701</td>\n      <td>-1.106488</td>\n      <td>-0.133756</td>\n      <td>-1.003558</td>\n      <td>...</td>\n      <td>0.768530</td>\n      <td>0.336689</td>\n      <td>0.669830</td>\n      <td>0.593015</td>\n      <td>-0.647023</td>\n      <td>-0.843513</td>\n      <td>0.175213</td>\n      <td>0.015534</td>\n      <td>0.073232</td>\n      <td>-0.174049</td>\n    </tr>\n    <tr>\n      <th>...</th>\n      <td>...</td>\n      <td>...</td>\n      <td>...</td>\n      <td>...</td>\n      <td>...</td>\n      <td>...</td>\n      <td>...</td>\n      <td>...</td>\n      <td>...</td>\n      <td>...</td>\n      <td>...</td>\n      <td>...</td>\n      <td>...</td>\n      <td>...</td>\n      <td>...</td>\n      <td>...</td>\n      <td>...</td>\n      <td>...</td>\n      <td>...</td>\n      <td>...</td>\n      <td>...</td>\n    </tr>\n    <tr>\n      <th>914651</th>\n      <td>2020-10-09</td>\n      <td>3228</td>\n      <td>-2.578400</td>\n      <td>-3.521142</td>\n      <td>-0.764019</td>\n      <td>-1.945059</td>\n      <td>0.338535</td>\n      <td>-0.778648</td>\n      <td>0.284701</td>\n      <td>-0.965865</td>\n      <td>...</td>\n      <td>0.804540</td>\n      <td>0.035234</td>\n      <td>1.602055</td>\n      <td>1.297609</td>\n      <td>-1.888306</td>\n      <td>-2.382600</td>\n      <td>0.709347</td>\n      <td>0.209706</td>\n      <td>1.216620</td>\n      <td>0.623109</td>\n    </tr>\n    <tr>\n      <th>914652</th>\n      <td>2020-10-09</td>\n      <td>3229</td>\n      <td>1.005270</td>\n      <td>-1.254299</td>\n      <td>-0.073360</td>\n      <td>-1.027821</td>\n      <td>-0.528851</td>\n      <td>-1.276024</td>\n      <td>-0.556423</td>\n      <td>-2.077708</td>\n      <td>...</td>\n      <td>-0.609240</td>\n      <td>-1.053243</td>\n      <td>-0.169344</td>\n      <td>-0.952326</td>\n      <td>-1.050392</td>\n      <td>-1.614056</td>\n      <td>0.607270</td>\n      <td>-0.264772</td>\n      <td>0.485292</td>\n      <td>0.285741</td>\n    </tr>\n    <tr>\n      <th>914653</th>\n      <td>2020-10-09</td>\n      <td>3230</td>\n      <td>-0.703218</td>\n      <td>-1.961407</td>\n      <td>1.287013</td>\n      <td>-0.388428</td>\n      <td>1.720019</td>\n      <td>-0.771418</td>\n      <td>0.104234</td>\n      <td>-1.181206</td>\n      <td>...</td>\n      <td>-1.052479</td>\n      <td>-1.614661</td>\n      <td>-0.032596</td>\n      <td>-0.217834</td>\n      <td>-2.009938</td>\n      <td>-2.353993</td>\n      <td>0.183213</td>\n      <td>-0.378370</td>\n      <td>0.635360</td>\n      <td>0.159731</td>\n    </tr>\n    <tr>\n      <th>914654</th>\n      <td>2020-10-09</td>\n      <td>3231</td>\n      <td>-1.562584</td>\n      <td>-4.393294</td>\n      <td>-1.495783</td>\n      <td>-2.678844</td>\n      <td>-0.311439</td>\n      <td>-1.377934</td>\n      <td>0.256350</td>\n      <td>-1.153596</td>\n      <td>...</td>\n      <td>0.278423</td>\n      <td>-0.533177</td>\n      <td>1.145559</td>\n      <td>-0.632924</td>\n      <td>-1.170794</td>\n      <td>-1.769246</td>\n      <td>1.366944</td>\n      <td>0.268053</td>\n      <td>1.285421</td>\n      <td>0.152326</td>\n    </tr>\n    <tr>\n      <th>914655</th>\n      <td>2020-10-09</td>\n      <td>3232</td>\n      <td>-0.778073</td>\n      <td>-3.746977</td>\n      <td>-1.150497</td>\n      <td>-2.576713</td>\n      <td>-0.018446</td>\n      <td>-1.898842</td>\n      <td>0.501033</td>\n      <td>-0.495423</td>\n      <td>...</td>\n      <td>0.232678</td>\n      <td>-0.381604</td>\n      <td>0.762553</td>\n      <td>-1.120657</td>\n      <td>-1.018824</td>\n      <td>-1.887357</td>\n      <td>1.203578</td>\n      <td>-0.228016</td>\n      <td>1.144002</td>\n      <td>-0.049164</td>\n    </tr>\n  </tbody>\n</table>\n<p>914656 rows × 24 columns</p>\n</div>"
     },
     "metadata": {},
     "execution_count": 57
    }
   ],
   "source": [
    "df_cams"
   ]
  },
  {
   "cell_type": "code",
   "execution_count": null,
   "metadata": {},
   "outputs": [],
   "source": []
  }
 ]
}