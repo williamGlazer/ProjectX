{
 "metadata": {
  "language_info": {
   "codemirror_mode": {
    "name": "ipython",
    "version": 3
   },
   "file_extension": ".py",
   "mimetype": "text/x-python",
   "name": "python",
   "nbconvert_exporter": "python",
   "pygments_lexer": "ipython3",
   "version": "3.8.6-final"
  },
  "orig_nbformat": 2,
  "kernelspec": {
   "name": "Python 3.8.6 64-bit ('projectx-udem-2XMjfT56-py3.8')",
   "display_name": "Python 3.8.6 64-bit ('projectx-udem-2XMjfT56-py3.8')",
   "metadata": {
    "interpreter": {
     "hash": "cfbb2f7f74465c954a821b49a587dee410bbe20aad66a3f1ea87c1c50bc5f1e3"
    }
   }
  }
 },
 "nbformat": 4,
 "nbformat_minor": 2,
 "cells": [
  {
   "cell_type": "code",
   "execution_count": 51,
   "metadata": {},
   "outputs": [],
   "source": [
    "import sklearn\n",
    "import pandas as pd \n",
    "import seaborn as sns\n",
    "import numpy as np \n",
    "import matplotlib.pyplot as plt\n",
    "from pandas_profiling import ProfileReport\n",
    "from functools import partial\n",
    "from pathlib import Path\n",
    "import os"
   ]
  },
  {
   "source": [
    "# Initial load and drop irrelevant files.\n",
    "\n",
    "Creates a function to go from location_key to the real county name"
   ],
   "cell_type": "markdown",
   "metadata": {}
  },
  {
   "cell_type": "code",
   "execution_count": 52,
   "metadata": {
    "tags": []
   },
   "outputs": [],
   "source": [
    "df = pd.read_csv(\"../../data/usa_covid_all.csv\")\n",
    "# df = pd.read_csv(\"../../data/usa_covid_gt20.csv\")\n",
    "#date\n",
    "df['date'] = pd.to_datetime(df['date'])\n",
    "\n",
    "#remove unrelated features\n",
    "df = df.drop(columns=['aggregation_level','latitude','longitude','openstreetmap_id','location_geometry','datacommons_id','wikidata_id','iso_3166_1_alpha_2','iso_3166_1_alpha_3'])\n",
    "\n",
    "#drop country and per state rows\n",
    "df = df.dropna(axis='index', subset=['subregion2_code'])\n",
    "\n",
    "#remove location names and make map\n",
    "df = df.astype({'subregion2_code':int})\n",
    "names = df[['subregion1_name','subregion2_name','subregion2_code']].drop_duplicates(subset=['subregion2_code'])\n",
    "def codeNameConverter(code, names):\n",
    "    if isinstance(code, str):\n",
    "        code = int(code.split(\"_\")[2])\n",
    "    res = names[names['subregion2_code'] == code]\n",
    "    return f\"{res.iloc[0]['subregion2_name']}, {res.iloc[0]['subregion1_name']}\"\n",
    "codeToName = partial(codeNameConverter, names=names)\n",
    "df = df.drop(columns=['country_code', 'country_name','subregion1_code','subregion1_name','subregion2_code','subregion2_name'])\n",
    "\n"
   ]
  },
  {
   "source": [
    "# Clean data and interpolate columns where required\n",
    "\n",
    "Make sure no values are missing"
   ],
   "cell_type": "markdown",
   "metadata": {}
  },
  {
   "cell_type": "code",
   "execution_count": 53,
   "metadata": {},
   "outputs": [],
   "source": [
    "#imputations!\n",
    "#assume nan for rain and snow means 0\n",
    "df['rainfall_mm'].fillna(0,inplace=True)\n",
    "df['snowfall_mm'].fillna(0,inplace=True)\n",
    "\n",
    "#interpolate missing temperatures, can't remove as there are some days with covid cases\n",
    "df['average_temperature_celsius'] = df['average_temperature_celsius'].interpolate()\n",
    "df['minimum_temperature_celsius'] = df['minimum_temperature_celsius'].interpolate()\n",
    "df['maximum_temperature_celsius'] = df['maximum_temperature_celsius'].interpolate()\n",
    "\n",
    "#fill mobility reports with 0 for na since its a relative % to baseline\n",
    "df['mobility_transit_stations'] = df['mobility_transit_stations'].interpolate()\n",
    "df['mobility_retail_and_recreation'] = df['mobility_retail_and_recreation'].interpolate()\n",
    "df['mobility_grocery_and_pharmacy'] = df['mobility_grocery_and_pharmacy'].interpolate()\n",
    "df['mobility_residential'] = df['mobility_residential'].interpolate()\n",
    "df['mobility_parks'] = df['mobility_parks'].interpolate()\n",
    "df['mobility_workplaces'] = df['mobility_workplaces'].interpolate()\n",
    "\n",
    "#drop columns with too many nan (that we couldnt impute)\n",
    "df = df.dropna(thresh=len(df)*.3,axis=1)\n",
    "\n",
    "df = df.fillna(0)"
   ]
  },
  {
   "cell_type": "code",
   "execution_count": 54,
   "metadata": {},
   "outputs": [
    {
     "output_type": "execute_result",
     "data": {
      "text/plain": [
       "       new_confirmed  new_deceased  cumulative_confirmed  cumulative_deceased  \\\n",
       "count   1.009425e+06  1.009425e+06          1.009425e+06         1.009425e+06   \n",
       "mean    9.678879e+00  2.280278e-01          9.056195e+02         2.953121e+01   \n",
       "std     6.031254e+01  2.379450e+00          5.445071e+03         2.071297e+02   \n",
       "min    -2.321000e+03 -5.120000e+02          0.000000e+00         0.000000e+00   \n",
       "25%     0.000000e+00  0.000000e+00          0.000000e+00         0.000000e+00   \n",
       "50%     0.000000e+00  0.000000e+00          2.900000e+01         0.000000e+00   \n",
       "75%     4.000000e+00  0.000000e+00          2.970000e+02         6.000000e+00   \n",
       "max     1.412900e+04  4.550000e+02          3.177270e+05         7.157000e+03   \n",
       "\n",
       "       mobility_transit_stations  mobility_retail_and_recreation  \\\n",
       "count               1.009425e+06                    1.009425e+06   \n",
       "mean               -7.516504e+00                   -9.840237e+00   \n",
       "std                 2.059708e+01                    1.933123e+01   \n",
       "min                -9.200000e+01                   -1.000000e+02   \n",
       "25%                -1.870225e+01                   -2.085505e+01   \n",
       "50%                -4.389140e+00                   -7.000000e+00   \n",
       "75%                 4.580645e+00                    2.000000e+00   \n",
       "max                 2.520000e+02                    2.610000e+02   \n",
       "\n",
       "       mobility_grocery_and_pharmacy  mobility_parks  mobility_residential  \\\n",
       "count                   1.009425e+06    1.009425e+06          1.009425e+06   \n",
       "mean                    2.186294e-01    8.579616e+00          4.270807e+00   \n",
       "std                     1.347023e+01    4.214528e+01          4.814086e+00   \n",
       "min                    -9.600000e+01   -9.100000e+01         -4.600000e+01   \n",
       "25%                    -7.000000e+00   -1.716157e+01          1.106557e+00   \n",
       "50%                    -3.971587e-01    4.882275e+00          3.000000e+00   \n",
       "75%                     6.267361e+00    2.303678e+01          6.000000e+00   \n",
       "max                     2.250000e+02    7.090000e+02          3.800000e+01   \n",
       "\n",
       "       mobility_workplaces  average_temperature_celsius  \\\n",
       "count         1.009425e+06                 1.009425e+06   \n",
       "mean         -1.908773e+01                 1.506153e+01   \n",
       "std           1.463853e+01                 9.906670e+00   \n",
       "min          -9.200000e+01                -4.156944e+01   \n",
       "25%          -2.876923e+01                 7.722222e+00   \n",
       "50%          -1.866667e+01                 1.672778e+01   \n",
       "75%          -7.393443e+00                 2.340741e+01   \n",
       "max           6.600000e+01                 3.983333e+01   \n",
       "\n",
       "       minimum_temperature_celsius  maximum_temperature_celsius   rainfall_mm  \\\n",
       "count                 1.009425e+06                 1.009425e+06  1.009425e+06   \n",
       "mean                  9.522498e+00                 2.158387e+01  2.209783e+00   \n",
       "std                   9.943172e+00                 1.026850e+01  5.635624e+00   \n",
       "min                  -4.492778e+01                -3.802778e+01  0.000000e+00   \n",
       "25%                   2.033333e+00                 1.444444e+01  0.000000e+00   \n",
       "50%                   1.039444e+01                 2.387778e+01  8.466700e-02   \n",
       "75%                   1.777222e+01                 2.993333e+01  1.721556e+00   \n",
       "max                   3.255000e+01                 4.773611e+01  1.963420e+02   \n",
       "\n",
       "        snowfall_mm  \n",
       "count  1.009425e+06  \n",
       "mean   7.357387e+00  \n",
       "std    4.317185e+01  \n",
       "min    0.000000e+00  \n",
       "25%    0.000000e+00  \n",
       "50%    0.000000e+00  \n",
       "75%    0.000000e+00  \n",
       "max    1.750060e+03  "
      ],
      "text/html": "<div>\n<style scoped>\n    .dataframe tbody tr th:only-of-type {\n        vertical-align: middle;\n    }\n\n    .dataframe tbody tr th {\n        vertical-align: top;\n    }\n\n    .dataframe thead th {\n        text-align: right;\n    }\n</style>\n<table border=\"1\" class=\"dataframe\">\n  <thead>\n    <tr style=\"text-align: right;\">\n      <th></th>\n      <th>new_confirmed</th>\n      <th>new_deceased</th>\n      <th>cumulative_confirmed</th>\n      <th>cumulative_deceased</th>\n      <th>mobility_transit_stations</th>\n      <th>mobility_retail_and_recreation</th>\n      <th>mobility_grocery_and_pharmacy</th>\n      <th>mobility_parks</th>\n      <th>mobility_residential</th>\n      <th>mobility_workplaces</th>\n      <th>average_temperature_celsius</th>\n      <th>minimum_temperature_celsius</th>\n      <th>maximum_temperature_celsius</th>\n      <th>rainfall_mm</th>\n      <th>snowfall_mm</th>\n    </tr>\n  </thead>\n  <tbody>\n    <tr>\n      <th>count</th>\n      <td>1.009425e+06</td>\n      <td>1.009425e+06</td>\n      <td>1.009425e+06</td>\n      <td>1.009425e+06</td>\n      <td>1.009425e+06</td>\n      <td>1.009425e+06</td>\n      <td>1.009425e+06</td>\n      <td>1.009425e+06</td>\n      <td>1.009425e+06</td>\n      <td>1.009425e+06</td>\n      <td>1.009425e+06</td>\n      <td>1.009425e+06</td>\n      <td>1.009425e+06</td>\n      <td>1.009425e+06</td>\n      <td>1.009425e+06</td>\n    </tr>\n    <tr>\n      <th>mean</th>\n      <td>9.678879e+00</td>\n      <td>2.280278e-01</td>\n      <td>9.056195e+02</td>\n      <td>2.953121e+01</td>\n      <td>-7.516504e+00</td>\n      <td>-9.840237e+00</td>\n      <td>2.186294e-01</td>\n      <td>8.579616e+00</td>\n      <td>4.270807e+00</td>\n      <td>-1.908773e+01</td>\n      <td>1.506153e+01</td>\n      <td>9.522498e+00</td>\n      <td>2.158387e+01</td>\n      <td>2.209783e+00</td>\n      <td>7.357387e+00</td>\n    </tr>\n    <tr>\n      <th>std</th>\n      <td>6.031254e+01</td>\n      <td>2.379450e+00</td>\n      <td>5.445071e+03</td>\n      <td>2.071297e+02</td>\n      <td>2.059708e+01</td>\n      <td>1.933123e+01</td>\n      <td>1.347023e+01</td>\n      <td>4.214528e+01</td>\n      <td>4.814086e+00</td>\n      <td>1.463853e+01</td>\n      <td>9.906670e+00</td>\n      <td>9.943172e+00</td>\n      <td>1.026850e+01</td>\n      <td>5.635624e+00</td>\n      <td>4.317185e+01</td>\n    </tr>\n    <tr>\n      <th>min</th>\n      <td>-2.321000e+03</td>\n      <td>-5.120000e+02</td>\n      <td>0.000000e+00</td>\n      <td>0.000000e+00</td>\n      <td>-9.200000e+01</td>\n      <td>-1.000000e+02</td>\n      <td>-9.600000e+01</td>\n      <td>-9.100000e+01</td>\n      <td>-4.600000e+01</td>\n      <td>-9.200000e+01</td>\n      <td>-4.156944e+01</td>\n      <td>-4.492778e+01</td>\n      <td>-3.802778e+01</td>\n      <td>0.000000e+00</td>\n      <td>0.000000e+00</td>\n    </tr>\n    <tr>\n      <th>25%</th>\n      <td>0.000000e+00</td>\n      <td>0.000000e+00</td>\n      <td>0.000000e+00</td>\n      <td>0.000000e+00</td>\n      <td>-1.870225e+01</td>\n      <td>-2.085505e+01</td>\n      <td>-7.000000e+00</td>\n      <td>-1.716157e+01</td>\n      <td>1.106557e+00</td>\n      <td>-2.876923e+01</td>\n      <td>7.722222e+00</td>\n      <td>2.033333e+00</td>\n      <td>1.444444e+01</td>\n      <td>0.000000e+00</td>\n      <td>0.000000e+00</td>\n    </tr>\n    <tr>\n      <th>50%</th>\n      <td>0.000000e+00</td>\n      <td>0.000000e+00</td>\n      <td>2.900000e+01</td>\n      <td>0.000000e+00</td>\n      <td>-4.389140e+00</td>\n      <td>-7.000000e+00</td>\n      <td>-3.971587e-01</td>\n      <td>4.882275e+00</td>\n      <td>3.000000e+00</td>\n      <td>-1.866667e+01</td>\n      <td>1.672778e+01</td>\n      <td>1.039444e+01</td>\n      <td>2.387778e+01</td>\n      <td>8.466700e-02</td>\n      <td>0.000000e+00</td>\n    </tr>\n    <tr>\n      <th>75%</th>\n      <td>4.000000e+00</td>\n      <td>0.000000e+00</td>\n      <td>2.970000e+02</td>\n      <td>6.000000e+00</td>\n      <td>4.580645e+00</td>\n      <td>2.000000e+00</td>\n      <td>6.267361e+00</td>\n      <td>2.303678e+01</td>\n      <td>6.000000e+00</td>\n      <td>-7.393443e+00</td>\n      <td>2.340741e+01</td>\n      <td>1.777222e+01</td>\n      <td>2.993333e+01</td>\n      <td>1.721556e+00</td>\n      <td>0.000000e+00</td>\n    </tr>\n    <tr>\n      <th>max</th>\n      <td>1.412900e+04</td>\n      <td>4.550000e+02</td>\n      <td>3.177270e+05</td>\n      <td>7.157000e+03</td>\n      <td>2.520000e+02</td>\n      <td>2.610000e+02</td>\n      <td>2.250000e+02</td>\n      <td>7.090000e+02</td>\n      <td>3.800000e+01</td>\n      <td>6.600000e+01</td>\n      <td>3.983333e+01</td>\n      <td>3.255000e+01</td>\n      <td>4.773611e+01</td>\n      <td>1.963420e+02</td>\n      <td>1.750060e+03</td>\n    </tr>\n  </tbody>\n</table>\n</div>"
     },
     "metadata": {},
     "execution_count": 54
    }
   ],
   "source": [
    "df.describe()"
   ]
  },
  {
   "cell_type": "code",
   "execution_count": 55,
   "metadata": {},
   "outputs": [
    {
     "output_type": "execute_result",
     "data": {
      "text/plain": [
       "date                              1009425\n",
       "location_key                      1009425\n",
       "new_confirmed                     1009425\n",
       "new_deceased                      1009425\n",
       "cumulative_confirmed              1009425\n",
       "cumulative_deceased               1009425\n",
       "mobility_transit_stations         1009425\n",
       "mobility_retail_and_recreation    1009425\n",
       "mobility_grocery_and_pharmacy     1009425\n",
       "mobility_parks                    1009425\n",
       "mobility_residential              1009425\n",
       "mobility_workplaces               1009425\n",
       "average_temperature_celsius       1009425\n",
       "minimum_temperature_celsius       1009425\n",
       "maximum_temperature_celsius       1009425\n",
       "rainfall_mm                       1009425\n",
       "snowfall_mm                       1009425\n",
       "dtype: int64"
      ]
     },
     "metadata": {},
     "execution_count": 55
    }
   ],
   "source": [
    "df.count()"
   ]
  },
  {
   "cell_type": "code",
   "execution_count": 56,
   "metadata": {},
   "outputs": [
    {
     "output_type": "stream",
     "name": "stdout",
     "text": [
      "<class 'pandas.core.frame.DataFrame'>\nInt64Index: 1009425 entries, 0 to 1028204\nData columns (total 17 columns):\n #   Column                          Non-Null Count    Dtype         \n---  ------                          --------------    -----         \n 0   date                            1009425 non-null  datetime64[ns]\n 1   location_key                    1009425 non-null  object        \n 2   new_confirmed                   1009425 non-null  float64       \n 3   new_deceased                    1009425 non-null  float64       \n 4   cumulative_confirmed            1009425 non-null  float64       \n 5   cumulative_deceased             1009425 non-null  float64       \n 6   mobility_transit_stations       1009425 non-null  float64       \n 7   mobility_retail_and_recreation  1009425 non-null  float64       \n 8   mobility_grocery_and_pharmacy   1009425 non-null  float64       \n 9   mobility_parks                  1009425 non-null  float64       \n 10  mobility_residential            1009425 non-null  float64       \n 11  mobility_workplaces             1009425 non-null  float64       \n 12  average_temperature_celsius     1009425 non-null  float64       \n 13  minimum_temperature_celsius     1009425 non-null  float64       \n 14  maximum_temperature_celsius     1009425 non-null  float64       \n 15  rainfall_mm                     1009425 non-null  float64       \n 16  snowfall_mm                     1009425 non-null  float64       \ndtypes: datetime64[ns](1), float64(15), object(1)\nmemory usage: 138.6+ MB\n"
     ]
    }
   ],
   "source": [
    "df.info()"
   ]
  },
  {
   "cell_type": "code",
   "execution_count": 57,
   "metadata": {
    "tags": []
   },
   "outputs": [],
   "source": [
    "# grouped = df_filt.groupby(['location_key']).filter(lambda x : x['new_confirmed'].count() > 200)\n",
    "num=200\n",
    "top=df[df['new_confirmed']>25].groupby('location_key').agg({'date' : np.size}).sort_values('date',ascending=False)[0:num]\n",
    "df_filt = df[df['location_key'].isin(top.index)].fillna(0)\n",
    "\n",
    "# majorcounties = df_filt.pivot(index=\"date\",columns=\"location_key\", values=\"cumulative_confirmed\")\n",
    "# majorcounties = majorcounties.drop(majorcounties.tail(2).index)\n",
    "\n",
    "# majorcounties.plot(subplots=True,layout=(num//2,2),figsize=(10,num))"
   ]
  },
  {
   "cell_type": "code",
   "execution_count": 58,
   "metadata": {},
   "outputs": [],
   "source": [
    "# majorcounties_smth = majorcounties.rolling(5).mean()\n",
    "# majorcounties_smth.plot(subplots=True,layout=(num//2,2),figsize=(10,num))"
   ]
  },
  {
   "cell_type": "code",
   "execution_count": 59,
   "metadata": {
    "tags": []
   },
   "outputs": [
    {
     "output_type": "stream",
     "name": "stdout",
     "text": [
      "Bexar County, Texas\n",
      "Brazoria County, Texas\n",
      "Collin County, Texas\n",
      "Dallas County, Texas\n",
      "Denton County, Texas\n",
      "El Paso County, Texas\n",
      "Fort Bend County, Texas\n",
      "Harris County, Texas\n",
      "Hidalgo County, Texas\n",
      "Charleston County, South Carolina\n",
      "Greenville County, South Carolina\n",
      "Horry County, South Carolina\n",
      "Lexington County, South Carolina\n",
      "Richland County, South Carolina\n",
      "Spartanburg County, South Carolina\n",
      "York County, South Carolina\n",
      "Davidson County, Tennessee\n",
      "Hamilton County, Tennessee\n",
      "Knox County, Tennessee\n",
      "Rutherford County, Tennessee\n",
      "Shelby County, Tennessee\n",
      "King County, Washington\n",
      "Pierce County, Washington\n",
      "Snohomish County, Washington\n",
      "Yakima County, Washington\n",
      "Brown County, Wisconsin\n",
      "Dane County, Wisconsin\n",
      "Milwaukee County, Wisconsin\n",
      "Lubbock County, Texas\n",
      "McLennan County, Texas\n",
      "Tarrant County, Texas\n",
      "Travis County, Texas\n",
      "Salt Lake County, Utah\n",
      "Utah County, Utah\n",
      "Oklahoma County, Oklahoma\n",
      "Tulsa County, Oklahoma\n",
      "Multnomah County, Oregon\n",
      "Allegheny County, Pennsylvania\n",
      "Berks County, Pennsylvania\n",
      "Bucks County, Pennsylvania\n",
      "Chester County, Pennsylvania\n",
      "Delaware County, Pennsylvania\n",
      "Lancaster County, Pennsylvania\n",
      "Montgomery County, Pennsylvania\n",
      "Philadelphia County, Pennsylvania\n",
      "Bergen County, New Jersey\n",
      "Burlington County, New Jersey\n",
      "Camden County, New Jersey\n",
      "Essex County, New Jersey\n",
      "Hudson County, New Jersey\n",
      "Middlesex County, New Jersey\n",
      "Monmouth County, New Jersey\n",
      "Ocean County, New Jersey\n",
      "Passaic County, New Jersey\n",
      "Union County, New Jersey\n",
      "Bernalillo County, New Mexico\n",
      "Clark County, Nevada\n",
      "Washoe County, Nevada\n",
      "Bronx County, New York\n",
      "Erie County, New York\n",
      "Kings County, New York\n",
      "Fayette County, Kentucky\n",
      "Jefferson County, Kentucky\n",
      "Caddo Parish, Louisiana\n",
      "East Baton Rouge Parish, Louisiana\n",
      "Durham County, North Carolina\n",
      "Forsyth County, North Carolina\n",
      "Gaston County, North Carolina\n",
      "Guilford County, North Carolina\n",
      "Mecklenburg County, North Carolina\n",
      "Clayton County, Georgia\n",
      "Cobb County, Georgia\n",
      "DeKalb County, Georgia\n",
      "Fulton County, Georgia\n",
      "Gwinnett County, Georgia\n",
      "Hall County, Georgia\n",
      "Wake County, North Carolina\n",
      "Douglas County, Nebraska\n",
      "Lancaster County, Nebraska\n",
      "Monroe County, New York\n",
      "Nassau County, New York\n",
      "New York County, New York\n",
      "Queens County, New York\n",
      "Richmond County, New York\n",
      "Rockland County, New York\n",
      "Suffolk County, New York\n",
      "Westchester County, New York\n",
      "Butler County, Ohio\n",
      "Cuyahoga County, Ohio\n",
      "Franklin County, Ohio\n",
      "Hamilton County, Ohio\n",
      "Lucas County, Ohio\n",
      "Montgomery County, Ohio\n",
      "Summit County, Ohio\n",
      "Pulaski County, Arkansas\n",
      "Washington County, Arkansas\n",
      "Maricopa County, Arizona\n",
      "Pima County, Arizona\n",
      "Pinal County, Arizona\n",
      "Alameda County, California\n",
      "Contra Costa County, California\n",
      "Fresno County, California\n",
      "Imperial County, California\n",
      "Kern County, California\n",
      "Los Angeles County, California\n",
      "Monterey County, California\n",
      "Orange County, California\n",
      "Riverside County, California\n",
      "Sacramento County, California\n",
      "San Bernardino County, California\n",
      "San Diego County, California\n",
      "San Francisco County, California\n",
      "San Joaquin County, California\n",
      "San Mateo County, California\n",
      "Santa Clara County, California\n",
      "Stanislaus County, California\n",
      "Tulare County, California\n",
      "Ventura County, California\n",
      "Adams County, Colorado\n",
      "Arapahoe County, Colorado\n",
      "Cook County, Illinois\n",
      "DuPage County, Illinois\n",
      "Kane County, Illinois\n",
      "Lake County, Illinois\n",
      "St. Clair County, Illinois\n",
      "Will County, Illinois\n",
      "Winnebago County, Illinois\n",
      "Allen County, Indiana\n",
      "Elkhart County, Indiana\n",
      "Lake County, Indiana\n",
      "Marion County, Indiana\n",
      "St. Joseph County, Indiana\n",
      "St. Charles County, Missouri\n",
      "St. Louis County, Missouri\n",
      "St. Louis, Missouri\n",
      "Macomb County, Michigan\n",
      "Oakland County, Michigan\n",
      "Wayne County, Michigan\n",
      "Anoka County, Minnesota\n",
      "Dakota County, Minnesota\n",
      "Hennepin County, Minnesota\n",
      "Ramsey County, Minnesota\n",
      "Denver County, Colorado\n",
      "El Paso County, Colorado\n",
      "Jefferson County, Colorado\n",
      "Fairfield County, Connecticut\n",
      "Hartford County, Connecticut\n",
      "New Haven County, Connecticut\n",
      "District of Columbia, District of Columbia\n",
      "New Castle County, Delaware\n",
      "Alachua County, Florida\n",
      "Brevard County, Florida\n",
      "Broward County, Florida\n",
      "Collier County, Florida\n",
      "Duval County, Florida\n",
      "Hillsborough County, Florida\n",
      "Lake County, Florida\n",
      "Lee County, Florida\n",
      "Leon County, Florida\n",
      "Manatee County, Florida\n",
      "Miami-Dade County, Florida\n",
      "Orange County, Florida\n",
      "Osceola County, Florida\n",
      "Palm Beach County, Florida\n",
      "Pasco County, Florida\n",
      "Pinellas County, Florida\n",
      "Polk County, Florida\n",
      "St. Lucie County, Florida\n",
      "Sarasota County, Florida\n",
      "Seminole County, Florida\n",
      "Volusia County, Florida\n",
      "Polk County, Iowa\n",
      "Ada County, Idaho\n",
      "Jefferson County, Alabama\n",
      "Madison County, Alabama\n",
      "Mobile County, Alabama\n",
      "Montgomery County, Alabama\n",
      "Tuscaloosa County, Alabama\n",
      "Benton County, Arkansas\n",
      "Jefferson Parish, Louisiana\n",
      "Orleans Parish, Louisiana\n",
      "Bristol County, Massachusetts\n",
      "Essex County, Massachusetts\n",
      "Hampden County, Massachusetts\n",
      "Middlesex County, Massachusetts\n",
      "Norfolk County, Massachusetts\n",
      "Plymouth County, Massachusetts\n",
      "Suffolk County, Massachusetts\n",
      "Worcester County, Massachusetts\n",
      "Anne Arundel County, Maryland\n",
      "Baltimore County, Maryland\n",
      "Montgomery County, Maryland\n",
      "Prince George's County, Maryland\n",
      "Baltimore, Maryland\n",
      "Kent County, Michigan\n",
      "Chesterfield County, Virginia\n",
      "Fairfax County, Virginia\n",
      "Henrico County, Virginia\n",
      "Loudoun County, Virginia\n",
      "Prince William County, Virginia\n"
     ]
    }
   ],
   "source": [
    "for x in df_filt[\"location_key\"].unique():\n",
    "    print(codeToName(x))"
   ]
  },
  {
   "cell_type": "code",
   "execution_count": 60,
   "metadata": {},
   "outputs": [
    {
     "output_type": "stream",
     "name": "stdout",
     "text": [
      "<class 'pandas.core.frame.DataFrame'>\nInt64Index: 62600 entries, 18159 to 1000861\nData columns (total 17 columns):\n #   Column                          Non-Null Count  Dtype         \n---  ------                          --------------  -----         \n 0   date                            62600 non-null  datetime64[ns]\n 1   location_key                    62600 non-null  object        \n 2   new_confirmed                   62600 non-null  float64       \n 3   new_deceased                    62600 non-null  float64       \n 4   cumulative_confirmed            62600 non-null  float64       \n 5   cumulative_deceased             62600 non-null  float64       \n 6   mobility_transit_stations       62600 non-null  float64       \n 7   mobility_retail_and_recreation  62600 non-null  float64       \n 8   mobility_grocery_and_pharmacy   62600 non-null  float64       \n 9   mobility_parks                  62600 non-null  float64       \n 10  mobility_residential            62600 non-null  float64       \n 11  mobility_workplaces             62600 non-null  float64       \n 12  average_temperature_celsius     62600 non-null  float64       \n 13  minimum_temperature_celsius     62600 non-null  float64       \n 14  maximum_temperature_celsius     62600 non-null  float64       \n 15  rainfall_mm                     62600 non-null  float64       \n 16  snowfall_mm                     62600 non-null  float64       \ndtypes: datetime64[ns](1), float64(15), object(1)\nmemory usage: 8.6+ MB\n"
     ]
    }
   ],
   "source": [
    "df_filt.info()"
   ]
  },
  {
   "source": [
    "Append population density to filtered covid data and save"
   ],
   "cell_type": "markdown",
   "metadata": {}
  },
  {
   "cell_type": "code",
   "execution_count": 61,
   "metadata": {},
   "outputs": [],
   "source": [
    "df_filt['County_ID'] = df_filt['location_key'].apply(lambda x : x.split(\"_\")[2])\n",
    "df_filt['County_ID'] = pd.to_numeric(df_filt['County_ID'])\n",
    "\n",
    "path = Path(\"../../data/popdens\")\n",
    "df = pd.read_csv(path / \"0_50_n.csv\")\n",
    "df = df[0:0]\n",
    "for x in path.iterdir():\n",
    "    df=pd.concat([df,pd.read_csv(x)],ignore_index=True)\n",
    "df['County_ID'] = pd.to_numeric(df['County_ID'])"
   ]
  },
  {
   "cell_type": "code",
   "execution_count": 62,
   "metadata": {},
   "outputs": [],
   "source": [
    "# temp = pd.read_csv(\"../../data/cams_data.csv\")\n",
    "# temp.info()"
   ]
  },
  {
   "cell_type": "code",
   "execution_count": 63,
   "metadata": {},
   "outputs": [
    {
     "output_type": "execute_result",
     "data": {
      "text/plain": [
       "            date  new_confirmed  new_deceased  cumulative_confirmed  \\\n",
       "0     2020-01-01            0.0           0.0                   0.0   \n",
       "1     2020-01-02            0.0           0.0                   0.0   \n",
       "2     2020-01-03            0.0           0.0                   0.0   \n",
       "3     2020-01-04            0.0           0.0                   0.0   \n",
       "4     2020-01-05            0.0           0.0                   0.0   \n",
       "...          ...            ...           ...                   ...   \n",
       "62595 2020-11-04           65.0           0.0               14833.0   \n",
       "62596 2020-11-05           90.0           0.0               14923.0   \n",
       "62597 2020-11-06           90.0           1.0               15013.0   \n",
       "62598 2020-11-07            0.0           0.0                   0.0   \n",
       "62599 2020-11-08            0.0           0.0                   0.0   \n",
       "\n",
       "       cumulative_deceased  mobility_transit_stations  \\\n",
       "0                      0.0                   3.396226   \n",
       "1                      0.0                   3.320755   \n",
       "2                      0.0                   3.245283   \n",
       "3                      0.0                   3.169811   \n",
       "4                      0.0                   3.094340   \n",
       "...                    ...                        ...   \n",
       "62595                223.0                 -24.947126   \n",
       "62596                223.0                 -24.929502   \n",
       "62597                224.0                 -24.911877   \n",
       "62598                  0.0                 -24.894253   \n",
       "62599                  0.0                 -24.876628   \n",
       "\n",
       "       mobility_retail_and_recreation  mobility_grocery_and_pharmacy  \\\n",
       "0                           -5.339623                       1.056604   \n",
       "1                           -5.132075                       1.188679   \n",
       "2                           -4.924528                       1.320755   \n",
       "3                           -4.716981                       1.452830   \n",
       "4                           -4.509434                       1.584906   \n",
       "...                               ...                            ...   \n",
       "62595                      -18.641509                     -12.641509   \n",
       "62596                      -18.188679                     -12.188679   \n",
       "62597                      -17.735849                     -11.735849   \n",
       "62598                      -17.283019                     -11.283019   \n",
       "62599                      -16.830189                     -10.830189   \n",
       "\n",
       "       mobility_parks  mobility_residential  mobility_workplaces  county_id  \\\n",
       "0            2.603774              2.396226            -9.339623      48029   \n",
       "1            2.679245              2.320755            -9.132075      48029   \n",
       "2            2.754717              2.245283            -8.924528      48029   \n",
       "3            2.830189              2.169811            -8.716981      48029   \n",
       "4            2.905660              2.094340            -8.509434      48029   \n",
       "...               ...                   ...                  ...        ...   \n",
       "62595       12.960452              5.890909           -13.433962      51153   \n",
       "62596       12.947269              5.854545           -13.245283      51153   \n",
       "62597       12.934087              5.818182           -13.056604      51153   \n",
       "62598       12.920904              5.781818           -12.867925      51153   \n",
       "62599       12.907721              5.745455           -12.679245      51153   \n",
       "\n",
       "       pop_density  \n",
       "0           1436.1  \n",
       "1           1436.1  \n",
       "2           1436.1  \n",
       "3           1436.1  \n",
       "4           1436.1  \n",
       "...            ...  \n",
       "62595       1235.1  \n",
       "62596       1235.1  \n",
       "62597       1235.1  \n",
       "62598       1235.1  \n",
       "62599       1235.1  \n",
       "\n",
       "[62600 rows x 13 columns]"
      ],
      "text/html": "<div>\n<style scoped>\n    .dataframe tbody tr th:only-of-type {\n        vertical-align: middle;\n    }\n\n    .dataframe tbody tr th {\n        vertical-align: top;\n    }\n\n    .dataframe thead th {\n        text-align: right;\n    }\n</style>\n<table border=\"1\" class=\"dataframe\">\n  <thead>\n    <tr style=\"text-align: right;\">\n      <th></th>\n      <th>date</th>\n      <th>new_confirmed</th>\n      <th>new_deceased</th>\n      <th>cumulative_confirmed</th>\n      <th>cumulative_deceased</th>\n      <th>mobility_transit_stations</th>\n      <th>mobility_retail_and_recreation</th>\n      <th>mobility_grocery_and_pharmacy</th>\n      <th>mobility_parks</th>\n      <th>mobility_residential</th>\n      <th>mobility_workplaces</th>\n      <th>county_id</th>\n      <th>pop_density</th>\n    </tr>\n  </thead>\n  <tbody>\n    <tr>\n      <th>0</th>\n      <td>2020-01-01</td>\n      <td>0.0</td>\n      <td>0.0</td>\n      <td>0.0</td>\n      <td>0.0</td>\n      <td>3.396226</td>\n      <td>-5.339623</td>\n      <td>1.056604</td>\n      <td>2.603774</td>\n      <td>2.396226</td>\n      <td>-9.339623</td>\n      <td>48029</td>\n      <td>1436.1</td>\n    </tr>\n    <tr>\n      <th>1</th>\n      <td>2020-01-02</td>\n      <td>0.0</td>\n      <td>0.0</td>\n      <td>0.0</td>\n      <td>0.0</td>\n      <td>3.320755</td>\n      <td>-5.132075</td>\n      <td>1.188679</td>\n      <td>2.679245</td>\n      <td>2.320755</td>\n      <td>-9.132075</td>\n      <td>48029</td>\n      <td>1436.1</td>\n    </tr>\n    <tr>\n      <th>2</th>\n      <td>2020-01-03</td>\n      <td>0.0</td>\n      <td>0.0</td>\n      <td>0.0</td>\n      <td>0.0</td>\n      <td>3.245283</td>\n      <td>-4.924528</td>\n      <td>1.320755</td>\n      <td>2.754717</td>\n      <td>2.245283</td>\n      <td>-8.924528</td>\n      <td>48029</td>\n      <td>1436.1</td>\n    </tr>\n    <tr>\n      <th>3</th>\n      <td>2020-01-04</td>\n      <td>0.0</td>\n      <td>0.0</td>\n      <td>0.0</td>\n      <td>0.0</td>\n      <td>3.169811</td>\n      <td>-4.716981</td>\n      <td>1.452830</td>\n      <td>2.830189</td>\n      <td>2.169811</td>\n      <td>-8.716981</td>\n      <td>48029</td>\n      <td>1436.1</td>\n    </tr>\n    <tr>\n      <th>4</th>\n      <td>2020-01-05</td>\n      <td>0.0</td>\n      <td>0.0</td>\n      <td>0.0</td>\n      <td>0.0</td>\n      <td>3.094340</td>\n      <td>-4.509434</td>\n      <td>1.584906</td>\n      <td>2.905660</td>\n      <td>2.094340</td>\n      <td>-8.509434</td>\n      <td>48029</td>\n      <td>1436.1</td>\n    </tr>\n    <tr>\n      <th>...</th>\n      <td>...</td>\n      <td>...</td>\n      <td>...</td>\n      <td>...</td>\n      <td>...</td>\n      <td>...</td>\n      <td>...</td>\n      <td>...</td>\n      <td>...</td>\n      <td>...</td>\n      <td>...</td>\n      <td>...</td>\n      <td>...</td>\n    </tr>\n    <tr>\n      <th>62595</th>\n      <td>2020-11-04</td>\n      <td>65.0</td>\n      <td>0.0</td>\n      <td>14833.0</td>\n      <td>223.0</td>\n      <td>-24.947126</td>\n      <td>-18.641509</td>\n      <td>-12.641509</td>\n      <td>12.960452</td>\n      <td>5.890909</td>\n      <td>-13.433962</td>\n      <td>51153</td>\n      <td>1235.1</td>\n    </tr>\n    <tr>\n      <th>62596</th>\n      <td>2020-11-05</td>\n      <td>90.0</td>\n      <td>0.0</td>\n      <td>14923.0</td>\n      <td>223.0</td>\n      <td>-24.929502</td>\n      <td>-18.188679</td>\n      <td>-12.188679</td>\n      <td>12.947269</td>\n      <td>5.854545</td>\n      <td>-13.245283</td>\n      <td>51153</td>\n      <td>1235.1</td>\n    </tr>\n    <tr>\n      <th>62597</th>\n      <td>2020-11-06</td>\n      <td>90.0</td>\n      <td>1.0</td>\n      <td>15013.0</td>\n      <td>224.0</td>\n      <td>-24.911877</td>\n      <td>-17.735849</td>\n      <td>-11.735849</td>\n      <td>12.934087</td>\n      <td>5.818182</td>\n      <td>-13.056604</td>\n      <td>51153</td>\n      <td>1235.1</td>\n    </tr>\n    <tr>\n      <th>62598</th>\n      <td>2020-11-07</td>\n      <td>0.0</td>\n      <td>0.0</td>\n      <td>0.0</td>\n      <td>0.0</td>\n      <td>-24.894253</td>\n      <td>-17.283019</td>\n      <td>-11.283019</td>\n      <td>12.920904</td>\n      <td>5.781818</td>\n      <td>-12.867925</td>\n      <td>51153</td>\n      <td>1235.1</td>\n    </tr>\n    <tr>\n      <th>62599</th>\n      <td>2020-11-08</td>\n      <td>0.0</td>\n      <td>0.0</td>\n      <td>0.0</td>\n      <td>0.0</td>\n      <td>-24.876628</td>\n      <td>-16.830189</td>\n      <td>-10.830189</td>\n      <td>12.907721</td>\n      <td>5.745455</td>\n      <td>-12.679245</td>\n      <td>51153</td>\n      <td>1235.1</td>\n    </tr>\n  </tbody>\n</table>\n<p>62600 rows × 13 columns</p>\n</div>"
     },
     "metadata": {},
     "execution_count": 63
    }
   ],
   "source": [
    "res = pd.merge(df_filt,df,how='left',on='County_ID')\n",
    "res = res.drop(labels=[\"location_key\",\"State\",\"County\",\"Mesure\"],axis='columns')\n",
    "res = res.drop(labels=[\"rainfall_mm\",\"snowfall_mm\"], axis='columns')\n",
    "res = res.rename(columns={\"County_ID\" : \"county_id\", \"Pop_density\" : \"pop_density\"})\n",
    "res = res.drop([\"average_temperature_celsius\", \"minimum_temperature_celsius\", \"maximum_temperature_celsius\"], axis=1)\n",
    "res.to_csv(\"../../data_processed/usa_top30_with_density\")\n",
    "res"
   ]
  },
  {
   "cell_type": "code",
   "execution_count": 64,
   "metadata": {},
   "outputs": [
    {
     "output_type": "stream",
     "name": "stdout",
     "text": [
      "<class 'pandas.core.frame.DataFrame'>\nInt64Index: 62600 entries, 0 to 62599\nData columns (total 13 columns):\n #   Column                          Non-Null Count  Dtype         \n---  ------                          --------------  -----         \n 0   date                            62600 non-null  datetime64[ns]\n 1   new_confirmed                   62600 non-null  float64       \n 2   new_deceased                    62600 non-null  float64       \n 3   cumulative_confirmed            62600 non-null  float64       \n 4   cumulative_deceased             62600 non-null  float64       \n 5   mobility_transit_stations       62600 non-null  float64       \n 6   mobility_retail_and_recreation  62600 non-null  float64       \n 7   mobility_grocery_and_pharmacy   62600 non-null  float64       \n 8   mobility_parks                  62600 non-null  float64       \n 9   mobility_residential            62600 non-null  float64       \n 10  mobility_workplaces             62600 non-null  float64       \n 11  county_id                       62600 non-null  int64         \n 12  pop_density                     51645 non-null  float64       \ndtypes: datetime64[ns](1), float64(11), int64(1)\nmemory usage: 6.7 MB\n"
     ]
    }
   ],
   "source": [
    "res.info()"
   ]
  },
  {
   "cell_type": "code",
   "execution_count": 30,
   "metadata": {},
   "outputs": [],
   "source": []
  },
  {
   "cell_type": "code",
   "execution_count": null,
   "metadata": {},
   "outputs": [],
   "source": []
  }
 ]
}