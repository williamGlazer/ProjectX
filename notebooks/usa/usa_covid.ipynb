{
 "metadata": {
  "language_info": {
   "codemirror_mode": {
    "name": "ipython",
    "version": 3
   },
   "file_extension": ".py",
   "mimetype": "text/x-python",
   "name": "python",
   "nbconvert_exporter": "python",
   "pygments_lexer": "ipython3",
   "version": "3.8.6-final"
  },
  "orig_nbformat": 2,
  "kernelspec": {
   "name": "Python 3.8.6 64-bit ('projectx-udem-2XMjfT56-py3.8')",
   "display_name": "Python 3.8.6 64-bit ('projectx-udem-2XMjfT56-py3.8')",
   "metadata": {
    "interpreter": {
     "hash": "cfbb2f7f74465c954a821b49a587dee410bbe20aad66a3f1ea87c1c50bc5f1e3"
    }
   }
  }
 },
 "nbformat": 4,
 "nbformat_minor": 2,
 "cells": [
  {
   "cell_type": "code",
   "execution_count": 43,
   "metadata": {},
   "outputs": [],
   "source": [
    "import sklearn\n",
    "import pandas as pd \n",
    "import seaborn as sns\n",
    "import numpy as np \n",
    "import matplotlib.pyplot as plt\n",
    "from pandas_profiling import ProfileReport\n",
    "from functools import partial\n",
    "from pathlib import Path\n",
    "import os"
   ]
  },
  {
   "source": [
    "# Initial load and drop irrelevant files.\n",
    "\n",
    "Creates a function to go from location_key to the real county name"
   ],
   "cell_type": "markdown",
   "metadata": {}
  },
  {
   "cell_type": "code",
   "execution_count": 45,
   "metadata": {
    "tags": []
   },
   "outputs": [],
   "source": [
    "df = pd.read_csv(\"../../data/usa_covid_all.csv\")\n",
    "# df = pd.read_csv(\"../../data/usa_covid_gt20.csv\")\n",
    "#date\n",
    "df['date'] = pd.to_datetime(df['date'])\n",
    "\n",
    "#remove unrelated features\n",
    "df = df.drop(columns=['aggregation_level','latitude','longitude','openstreetmap_id','location_geometry','datacommons_id','wikidata_id','iso_3166_1_alpha_2','iso_3166_1_alpha_3'])\n",
    "\n",
    "#drop country and per state rows\n",
    "df = df.dropna(axis='index', subset=['subregion2_code'])\n",
    "\n",
    "#remove location names and make map\n",
    "df = df.astype({'subregion2_code':int})\n",
    "names = df[['subregion1_name','subregion2_name','subregion2_code']].drop_duplicates(subset=['subregion2_code'])\n",
    "def codeNameConverter(code, names):\n",
    "    if isinstance(code, str):\n",
    "        code = int(code.split(\"_\")[2])\n",
    "    res = names[names['subregion2_code'] == code]\n",
    "    return f\"{res.iloc[0]['subregion2_name']}, {res.iloc[0]['subregion1_name']}\"\n",
    "codeToName = partial(codeNameConverter, names=names)\n",
    "df = df.drop(columns=['country_code', 'country_name','subregion1_code','subregion1_name','subregion2_code','subregion2_name'])\n",
    "\n"
   ]
  },
  {
   "source": [
    "# Clean data and interpolate columns where required\n",
    "\n",
    "Make sure no values are missing"
   ],
   "cell_type": "markdown",
   "metadata": {}
  },
  {
   "cell_type": "code",
   "execution_count": null,
   "metadata": {},
   "outputs": [],
   "source": [
    "#imputations!\n",
    "#assume nan for rain and snow means 0\n",
    "df['rainfall_mm'].fillna(0,inplace=True)\n",
    "df['snowfall_mm'].fillna(0,inplace=True)\n",
    "\n",
    "#interpolate missing temperatures, can't remove as there are some days with covid cases\n",
    "df['average_temperature_celsius'] = df['average_temperature_celsius'].interpolate()\n",
    "df['minimum_temperature_celsius'] = df['minimum_temperature_celsius'].interpolate()\n",
    "df['maximum_temperature_celsius'] = df['maximum_temperature_celsius'].interpolate()\n",
    "\n",
    "#fill mobility reports with 0 for na since its a relative % to baseline\n",
    "df['mobility_transit_stations'] = df['mobility_transit_stations'].interpolate()\n",
    "df['mobility_retail_and_recreation'] = df['mobility_retail_and_recreation'].interpolate()\n",
    "df['mobility_grocery_and_pharmacy'] = df['mobility_grocery_and_pharmacy'].interpolate()\n",
    "df['mobility_residential'] = df['mobility_residential'].interpolate()\n",
    "df['mobility_parks'] = df['mobility_parks'].interpolate()\n",
    "df['mobility_workplaces'] = df['mobility_workplaces'].interpolate()\n",
    "\n",
    "#drop columns with too many nan (that we couldnt impute)\n",
    "df = df.dropna(thresh=len(df)*.3,axis=1)\n",
    "\n",
    "df = df.fillna(0)"
   ]
  },
  {
   "cell_type": "code",
   "execution_count": 35,
   "metadata": {},
   "outputs": [
    {
     "output_type": "execute_result",
     "data": {
      "text/plain": [
       "       new_confirmed  new_deceased  cumulative_confirmed  cumulative_deceased  \\\n",
       "count   1.009425e+06  1.009425e+06          1.009425e+06         1.009425e+06   \n",
       "mean    9.678879e+00  2.280278e-01          9.056195e+02         2.953121e+01   \n",
       "std     6.031254e+01  2.379450e+00          5.445071e+03         2.071297e+02   \n",
       "min    -2.321000e+03 -5.120000e+02          0.000000e+00         0.000000e+00   \n",
       "25%     0.000000e+00  0.000000e+00          0.000000e+00         0.000000e+00   \n",
       "50%     0.000000e+00  0.000000e+00          2.900000e+01         0.000000e+00   \n",
       "75%     4.000000e+00  0.000000e+00          2.970000e+02         6.000000e+00   \n",
       "max     1.412900e+04  4.550000e+02          3.177270e+05         7.157000e+03   \n",
       "\n",
       "       mobility_transit_stations  mobility_retail_and_recreation  \\\n",
       "count               1.009425e+06                    1.009425e+06   \n",
       "mean               -7.516504e+00                   -9.840237e+00   \n",
       "std                 2.059708e+01                    1.933123e+01   \n",
       "min                -9.200000e+01                   -1.000000e+02   \n",
       "25%                -1.870225e+01                   -2.085505e+01   \n",
       "50%                -4.389140e+00                   -7.000000e+00   \n",
       "75%                 4.580645e+00                    2.000000e+00   \n",
       "max                 2.520000e+02                    2.610000e+02   \n",
       "\n",
       "       mobility_grocery_and_pharmacy  mobility_parks  mobility_residential  \\\n",
       "count                   1.009425e+06    1.009425e+06          1.009425e+06   \n",
       "mean                    2.186294e-01    8.579616e+00          4.270807e+00   \n",
       "std                     1.347023e+01    4.214528e+01          4.814086e+00   \n",
       "min                    -9.600000e+01   -9.100000e+01         -4.600000e+01   \n",
       "25%                    -7.000000e+00   -1.716157e+01          1.106557e+00   \n",
       "50%                    -3.971587e-01    4.882275e+00          3.000000e+00   \n",
       "75%                     6.267361e+00    2.303678e+01          6.000000e+00   \n",
       "max                     2.250000e+02    7.090000e+02          3.800000e+01   \n",
       "\n",
       "       mobility_workplaces  average_temperature_celsius  \\\n",
       "count         1.009425e+06                 1.009425e+06   \n",
       "mean         -1.908773e+01                 1.506153e+01   \n",
       "std           1.463853e+01                 9.906670e+00   \n",
       "min          -9.200000e+01                -4.156944e+01   \n",
       "25%          -2.876923e+01                 7.722222e+00   \n",
       "50%          -1.866667e+01                 1.672778e+01   \n",
       "75%          -7.393443e+00                 2.340741e+01   \n",
       "max           6.600000e+01                 3.983333e+01   \n",
       "\n",
       "       minimum_temperature_celsius  maximum_temperature_celsius   rainfall_mm  \\\n",
       "count                 1.009425e+06                 1.009425e+06  1.009425e+06   \n",
       "mean                  9.522498e+00                 2.158387e+01  2.209783e+00   \n",
       "std                   9.943172e+00                 1.026850e+01  5.635624e+00   \n",
       "min                  -4.492778e+01                -3.802778e+01  0.000000e+00   \n",
       "25%                   2.033333e+00                 1.444444e+01  0.000000e+00   \n",
       "50%                   1.039444e+01                 2.387778e+01  8.466700e-02   \n",
       "75%                   1.777222e+01                 2.993333e+01  1.721556e+00   \n",
       "max                   3.255000e+01                 4.773611e+01  1.963420e+02   \n",
       "\n",
       "        snowfall_mm  \n",
       "count  1.009425e+06  \n",
       "mean   7.357387e+00  \n",
       "std    4.317185e+01  \n",
       "min    0.000000e+00  \n",
       "25%    0.000000e+00  \n",
       "50%    0.000000e+00  \n",
       "75%    0.000000e+00  \n",
       "max    1.750060e+03  "
      ],
      "text/html": "<div>\n<style scoped>\n    .dataframe tbody tr th:only-of-type {\n        vertical-align: middle;\n    }\n\n    .dataframe tbody tr th {\n        vertical-align: top;\n    }\n\n    .dataframe thead th {\n        text-align: right;\n    }\n</style>\n<table border=\"1\" class=\"dataframe\">\n  <thead>\n    <tr style=\"text-align: right;\">\n      <th></th>\n      <th>new_confirmed</th>\n      <th>new_deceased</th>\n      <th>cumulative_confirmed</th>\n      <th>cumulative_deceased</th>\n      <th>mobility_transit_stations</th>\n      <th>mobility_retail_and_recreation</th>\n      <th>mobility_grocery_and_pharmacy</th>\n      <th>mobility_parks</th>\n      <th>mobility_residential</th>\n      <th>mobility_workplaces</th>\n      <th>average_temperature_celsius</th>\n      <th>minimum_temperature_celsius</th>\n      <th>maximum_temperature_celsius</th>\n      <th>rainfall_mm</th>\n      <th>snowfall_mm</th>\n    </tr>\n  </thead>\n  <tbody>\n    <tr>\n      <th>count</th>\n      <td>1.009425e+06</td>\n      <td>1.009425e+06</td>\n      <td>1.009425e+06</td>\n      <td>1.009425e+06</td>\n      <td>1.009425e+06</td>\n      <td>1.009425e+06</td>\n      <td>1.009425e+06</td>\n      <td>1.009425e+06</td>\n      <td>1.009425e+06</td>\n      <td>1.009425e+06</td>\n      <td>1.009425e+06</td>\n      <td>1.009425e+06</td>\n      <td>1.009425e+06</td>\n      <td>1.009425e+06</td>\n      <td>1.009425e+06</td>\n    </tr>\n    <tr>\n      <th>mean</th>\n      <td>9.678879e+00</td>\n      <td>2.280278e-01</td>\n      <td>9.056195e+02</td>\n      <td>2.953121e+01</td>\n      <td>-7.516504e+00</td>\n      <td>-9.840237e+00</td>\n      <td>2.186294e-01</td>\n      <td>8.579616e+00</td>\n      <td>4.270807e+00</td>\n      <td>-1.908773e+01</td>\n      <td>1.506153e+01</td>\n      <td>9.522498e+00</td>\n      <td>2.158387e+01</td>\n      <td>2.209783e+00</td>\n      <td>7.357387e+00</td>\n    </tr>\n    <tr>\n      <th>std</th>\n      <td>6.031254e+01</td>\n      <td>2.379450e+00</td>\n      <td>5.445071e+03</td>\n      <td>2.071297e+02</td>\n      <td>2.059708e+01</td>\n      <td>1.933123e+01</td>\n      <td>1.347023e+01</td>\n      <td>4.214528e+01</td>\n      <td>4.814086e+00</td>\n      <td>1.463853e+01</td>\n      <td>9.906670e+00</td>\n      <td>9.943172e+00</td>\n      <td>1.026850e+01</td>\n      <td>5.635624e+00</td>\n      <td>4.317185e+01</td>\n    </tr>\n    <tr>\n      <th>min</th>\n      <td>-2.321000e+03</td>\n      <td>-5.120000e+02</td>\n      <td>0.000000e+00</td>\n      <td>0.000000e+00</td>\n      <td>-9.200000e+01</td>\n      <td>-1.000000e+02</td>\n      <td>-9.600000e+01</td>\n      <td>-9.100000e+01</td>\n      <td>-4.600000e+01</td>\n      <td>-9.200000e+01</td>\n      <td>-4.156944e+01</td>\n      <td>-4.492778e+01</td>\n      <td>-3.802778e+01</td>\n      <td>0.000000e+00</td>\n      <td>0.000000e+00</td>\n    </tr>\n    <tr>\n      <th>25%</th>\n      <td>0.000000e+00</td>\n      <td>0.000000e+00</td>\n      <td>0.000000e+00</td>\n      <td>0.000000e+00</td>\n      <td>-1.870225e+01</td>\n      <td>-2.085505e+01</td>\n      <td>-7.000000e+00</td>\n      <td>-1.716157e+01</td>\n      <td>1.106557e+00</td>\n      <td>-2.876923e+01</td>\n      <td>7.722222e+00</td>\n      <td>2.033333e+00</td>\n      <td>1.444444e+01</td>\n      <td>0.000000e+00</td>\n      <td>0.000000e+00</td>\n    </tr>\n    <tr>\n      <th>50%</th>\n      <td>0.000000e+00</td>\n      <td>0.000000e+00</td>\n      <td>2.900000e+01</td>\n      <td>0.000000e+00</td>\n      <td>-4.389140e+00</td>\n      <td>-7.000000e+00</td>\n      <td>-3.971587e-01</td>\n      <td>4.882275e+00</td>\n      <td>3.000000e+00</td>\n      <td>-1.866667e+01</td>\n      <td>1.672778e+01</td>\n      <td>1.039444e+01</td>\n      <td>2.387778e+01</td>\n      <td>8.466700e-02</td>\n      <td>0.000000e+00</td>\n    </tr>\n    <tr>\n      <th>75%</th>\n      <td>4.000000e+00</td>\n      <td>0.000000e+00</td>\n      <td>2.970000e+02</td>\n      <td>6.000000e+00</td>\n      <td>4.580645e+00</td>\n      <td>2.000000e+00</td>\n      <td>6.267361e+00</td>\n      <td>2.303678e+01</td>\n      <td>6.000000e+00</td>\n      <td>-7.393443e+00</td>\n      <td>2.340741e+01</td>\n      <td>1.777222e+01</td>\n      <td>2.993333e+01</td>\n      <td>1.721556e+00</td>\n      <td>0.000000e+00</td>\n    </tr>\n    <tr>\n      <th>max</th>\n      <td>1.412900e+04</td>\n      <td>4.550000e+02</td>\n      <td>3.177270e+05</td>\n      <td>7.157000e+03</td>\n      <td>2.520000e+02</td>\n      <td>2.610000e+02</td>\n      <td>2.250000e+02</td>\n      <td>7.090000e+02</td>\n      <td>3.800000e+01</td>\n      <td>6.600000e+01</td>\n      <td>3.983333e+01</td>\n      <td>3.255000e+01</td>\n      <td>4.773611e+01</td>\n      <td>1.963420e+02</td>\n      <td>1.750060e+03</td>\n    </tr>\n  </tbody>\n</table>\n</div>"
     },
     "metadata": {},
     "execution_count": 35
    }
   ],
   "source": [
    "df.describe()"
   ]
  },
  {
   "cell_type": "code",
   "execution_count": 36,
   "metadata": {},
   "outputs": [
    {
     "output_type": "execute_result",
     "data": {
      "text/plain": [
       "date                              1009425\n",
       "location_key                      1009425\n",
       "new_confirmed                     1009425\n",
       "new_deceased                      1009425\n",
       "cumulative_confirmed              1009425\n",
       "cumulative_deceased               1009425\n",
       "mobility_transit_stations         1009425\n",
       "mobility_retail_and_recreation    1009425\n",
       "mobility_grocery_and_pharmacy     1009425\n",
       "mobility_parks                    1009425\n",
       "mobility_residential              1009425\n",
       "mobility_workplaces               1009425\n",
       "average_temperature_celsius       1009425\n",
       "minimum_temperature_celsius       1009425\n",
       "maximum_temperature_celsius       1009425\n",
       "rainfall_mm                       1009425\n",
       "snowfall_mm                       1009425\n",
       "dtype: int64"
      ]
     },
     "metadata": {},
     "execution_count": 36
    }
   ],
   "source": [
    "df.count()"
   ]
  },
  {
   "cell_type": "code",
   "execution_count": 37,
   "metadata": {},
   "outputs": [
    {
     "output_type": "stream",
     "name": "stdout",
     "text": [
      "<class 'pandas.core.frame.DataFrame'>\nInt64Index: 1009425 entries, 0 to 1028204\nData columns (total 17 columns):\n #   Column                          Non-Null Count    Dtype         \n---  ------                          --------------    -----         \n 0   date                            1009425 non-null  datetime64[ns]\n 1   location_key                    1009425 non-null  object        \n 2   new_confirmed                   1009425 non-null  float64       \n 3   new_deceased                    1009425 non-null  float64       \n 4   cumulative_confirmed            1009425 non-null  float64       \n 5   cumulative_deceased             1009425 non-null  float64       \n 6   mobility_transit_stations       1009425 non-null  float64       \n 7   mobility_retail_and_recreation  1009425 non-null  float64       \n 8   mobility_grocery_and_pharmacy   1009425 non-null  float64       \n 9   mobility_parks                  1009425 non-null  float64       \n 10  mobility_residential            1009425 non-null  float64       \n 11  mobility_workplaces             1009425 non-null  float64       \n 12  average_temperature_celsius     1009425 non-null  float64       \n 13  minimum_temperature_celsius     1009425 non-null  float64       \n 14  maximum_temperature_celsius     1009425 non-null  float64       \n 15  rainfall_mm                     1009425 non-null  float64       \n 16  snowfall_mm                     1009425 non-null  float64       \ndtypes: datetime64[ns](1), float64(15), object(1)\nmemory usage: 138.6+ MB\n"
     ]
    }
   ],
   "source": [
    "df.info()"
   ]
  },
  {
   "cell_type": "code",
   "execution_count": 38,
   "metadata": {
    "tags": []
   },
   "outputs": [],
   "source": [
    "# grouped = df_filt.groupby(['location_key']).filter(lambda x : x['new_confirmed'].count() > 200)\n",
    "num=200\n",
    "top=df[df['new_confirmed']>25].groupby('location_key').agg({'date' : np.size}).sort_values('date',ascending=False)[0:num]\n",
    "df_filt = df[df['location_key'].isin(top.index)].fillna(0)\n",
    "\n",
    "# majorcounties = df_filt.pivot(index=\"date\",columns=\"location_key\", values=\"cumulative_confirmed\")\n",
    "# majorcounties = majorcounties.drop(majorcounties.tail(2).index)\n",
    "\n",
    "# majorcounties.plot(subplots=True,layout=(num//2,2),figsize=(10,num))"
   ]
  },
  {
   "cell_type": "code",
   "execution_count": 39,
   "metadata": {},
   "outputs": [],
   "source": [
    "# majorcounties_smth = majorcounties.rolling(5).mean()\n",
    "# majorcounties_smth.plot(subplots=True,layout=(num//2,2),figsize=(10,num))"
   ]
  },
  {
   "cell_type": "code",
   "execution_count": 40,
   "metadata": {
    "tags": []
   },
   "outputs": [
    {
     "output_type": "stream",
     "name": "stdout",
     "text": [
      "Bexar County, Texas\n",
      "Brazoria County, Texas\n",
      "Collin County, Texas\n",
      "Dallas County, Texas\n",
      "Denton County, Texas\n",
      "El Paso County, Texas\n",
      "Fort Bend County, Texas\n",
      "Harris County, Texas\n",
      "Hidalgo County, Texas\n",
      "Charleston County, South Carolina\n",
      "Greenville County, South Carolina\n",
      "Horry County, South Carolina\n",
      "Lexington County, South Carolina\n",
      "Richland County, South Carolina\n",
      "Spartanburg County, South Carolina\n",
      "York County, South Carolina\n",
      "Davidson County, Tennessee\n",
      "Hamilton County, Tennessee\n",
      "Knox County, Tennessee\n",
      "Rutherford County, Tennessee\n",
      "Shelby County, Tennessee\n",
      "King County, Washington\n",
      "Pierce County, Washington\n",
      "Snohomish County, Washington\n",
      "Yakima County, Washington\n",
      "Brown County, Wisconsin\n",
      "Dane County, Wisconsin\n",
      "Milwaukee County, Wisconsin\n",
      "Lubbock County, Texas\n",
      "McLennan County, Texas\n",
      "Tarrant County, Texas\n",
      "Travis County, Texas\n",
      "Salt Lake County, Utah\n",
      "Utah County, Utah\n",
      "Oklahoma County, Oklahoma\n",
      "Tulsa County, Oklahoma\n",
      "Multnomah County, Oregon\n",
      "Allegheny County, Pennsylvania\n",
      "Berks County, Pennsylvania\n",
      "Bucks County, Pennsylvania\n",
      "Chester County, Pennsylvania\n",
      "Delaware County, Pennsylvania\n",
      "Lancaster County, Pennsylvania\n",
      "Montgomery County, Pennsylvania\n",
      "Philadelphia County, Pennsylvania\n",
      "Bergen County, New Jersey\n",
      "Burlington County, New Jersey\n",
      "Camden County, New Jersey\n",
      "Essex County, New Jersey\n",
      "Hudson County, New Jersey\n",
      "Middlesex County, New Jersey\n",
      "Monmouth County, New Jersey\n",
      "Ocean County, New Jersey\n",
      "Passaic County, New Jersey\n",
      "Union County, New Jersey\n",
      "Bernalillo County, New Mexico\n",
      "Clark County, Nevada\n",
      "Washoe County, Nevada\n",
      "Bronx County, New York\n",
      "Erie County, New York\n",
      "Kings County, New York\n",
      "Fayette County, Kentucky\n",
      "Jefferson County, Kentucky\n",
      "Caddo Parish, Louisiana\n",
      "East Baton Rouge Parish, Louisiana\n",
      "Durham County, North Carolina\n",
      "Forsyth County, North Carolina\n",
      "Gaston County, North Carolina\n",
      "Guilford County, North Carolina\n",
      "Mecklenburg County, North Carolina\n",
      "Clayton County, Georgia\n",
      "Cobb County, Georgia\n",
      "DeKalb County, Georgia\n",
      "Fulton County, Georgia\n",
      "Gwinnett County, Georgia\n",
      "Hall County, Georgia\n",
      "Wake County, North Carolina\n",
      "Douglas County, Nebraska\n",
      "Lancaster County, Nebraska\n",
      "Monroe County, New York\n",
      "Nassau County, New York\n",
      "New York County, New York\n",
      "Queens County, New York\n",
      "Richmond County, New York\n",
      "Rockland County, New York\n",
      "Suffolk County, New York\n",
      "Westchester County, New York\n",
      "Butler County, Ohio\n",
      "Cuyahoga County, Ohio\n",
      "Franklin County, Ohio\n",
      "Hamilton County, Ohio\n",
      "Lucas County, Ohio\n",
      "Montgomery County, Ohio\n",
      "Summit County, Ohio\n",
      "Pulaski County, Arkansas\n",
      "Washington County, Arkansas\n",
      "Maricopa County, Arizona\n",
      "Pima County, Arizona\n",
      "Pinal County, Arizona\n",
      "Alameda County, California\n",
      "Contra Costa County, California\n",
      "Fresno County, California\n",
      "Imperial County, California\n",
      "Kern County, California\n",
      "Los Angeles County, California\n",
      "Monterey County, California\n",
      "Orange County, California\n",
      "Riverside County, California\n",
      "Sacramento County, California\n",
      "San Bernardino County, California\n",
      "San Diego County, California\n",
      "San Francisco County, California\n",
      "San Joaquin County, California\n",
      "San Mateo County, California\n",
      "Santa Clara County, California\n",
      "Stanislaus County, California\n",
      "Tulare County, California\n",
      "Ventura County, California\n",
      "Adams County, Colorado\n",
      "Arapahoe County, Colorado\n",
      "Cook County, Illinois\n",
      "DuPage County, Illinois\n",
      "Kane County, Illinois\n",
      "Lake County, Illinois\n",
      "St. Clair County, Illinois\n",
      "Will County, Illinois\n",
      "Winnebago County, Illinois\n",
      "Allen County, Indiana\n",
      "Elkhart County, Indiana\n",
      "Lake County, Indiana\n",
      "Marion County, Indiana\n",
      "St. Joseph County, Indiana\n",
      "St. Charles County, Missouri\n",
      "St. Louis County, Missouri\n",
      "St. Louis, Missouri\n",
      "Macomb County, Michigan\n",
      "Oakland County, Michigan\n",
      "Wayne County, Michigan\n",
      "Anoka County, Minnesota\n",
      "Dakota County, Minnesota\n",
      "Hennepin County, Minnesota\n",
      "Ramsey County, Minnesota\n",
      "Denver County, Colorado\n",
      "El Paso County, Colorado\n",
      "Jefferson County, Colorado\n",
      "Fairfield County, Connecticut\n",
      "Hartford County, Connecticut\n",
      "New Haven County, Connecticut\n",
      "District of Columbia, District of Columbia\n",
      "New Castle County, Delaware\n",
      "Alachua County, Florida\n",
      "Brevard County, Florida\n",
      "Broward County, Florida\n",
      "Collier County, Florida\n",
      "Duval County, Florida\n",
      "Hillsborough County, Florida\n",
      "Lake County, Florida\n",
      "Lee County, Florida\n",
      "Leon County, Florida\n",
      "Manatee County, Florida\n",
      "Miami-Dade County, Florida\n",
      "Orange County, Florida\n",
      "Osceola County, Florida\n",
      "Palm Beach County, Florida\n",
      "Pasco County, Florida\n",
      "Pinellas County, Florida\n",
      "Polk County, Florida\n",
      "St. Lucie County, Florida\n",
      "Sarasota County, Florida\n",
      "Seminole County, Florida\n",
      "Volusia County, Florida\n",
      "Polk County, Iowa\n",
      "Ada County, Idaho\n",
      "Jefferson County, Alabama\n",
      "Madison County, Alabama\n",
      "Mobile County, Alabama\n",
      "Montgomery County, Alabama\n",
      "Tuscaloosa County, Alabama\n",
      "Benton County, Arkansas\n",
      "Jefferson Parish, Louisiana\n",
      "Orleans Parish, Louisiana\n",
      "Bristol County, Massachusetts\n",
      "Essex County, Massachusetts\n",
      "Hampden County, Massachusetts\n",
      "Middlesex County, Massachusetts\n",
      "Norfolk County, Massachusetts\n",
      "Plymouth County, Massachusetts\n",
      "Suffolk County, Massachusetts\n",
      "Worcester County, Massachusetts\n",
      "Anne Arundel County, Maryland\n",
      "Baltimore County, Maryland\n",
      "Montgomery County, Maryland\n",
      "Prince George's County, Maryland\n",
      "Baltimore, Maryland\n",
      "Kent County, Michigan\n",
      "Chesterfield County, Virginia\n",
      "Fairfax County, Virginia\n",
      "Henrico County, Virginia\n",
      "Loudoun County, Virginia\n",
      "Prince William County, Virginia\n"
     ]
    }
   ],
   "source": [
    "for x in df_filt[\"location_key\"].unique():\n",
    "    print(codeToName(x))"
   ]
  },
  {
   "cell_type": "code",
   "execution_count": 41,
   "metadata": {},
   "outputs": [
    {
     "output_type": "stream",
     "name": "stdout",
     "text": [
      "<class 'pandas.core.frame.DataFrame'>\nInt64Index: 62600 entries, 18159 to 1000861\nData columns (total 17 columns):\n #   Column                          Non-Null Count  Dtype         \n---  ------                          --------------  -----         \n 0   date                            62600 non-null  datetime64[ns]\n 1   location_key                    62600 non-null  object        \n 2   new_confirmed                   62600 non-null  float64       \n 3   new_deceased                    62600 non-null  float64       \n 4   cumulative_confirmed            62600 non-null  float64       \n 5   cumulative_deceased             62600 non-null  float64       \n 6   mobility_transit_stations       62600 non-null  float64       \n 7   mobility_retail_and_recreation  62600 non-null  float64       \n 8   mobility_grocery_and_pharmacy   62600 non-null  float64       \n 9   mobility_parks                  62600 non-null  float64       \n 10  mobility_residential            62600 non-null  float64       \n 11  mobility_workplaces             62600 non-null  float64       \n 12  average_temperature_celsius     62600 non-null  float64       \n 13  minimum_temperature_celsius     62600 non-null  float64       \n 14  maximum_temperature_celsius     62600 non-null  float64       \n 15  rainfall_mm                     62600 non-null  float64       \n 16  snowfall_mm                     62600 non-null  float64       \ndtypes: datetime64[ns](1), float64(15), object(1)\nmemory usage: 8.6+ MB\n"
     ]
    }
   ],
   "source": [
    "df_filt.info()"
   ]
  },
  {
   "source": [
    "Append population density to filtered covid data and save"
   ],
   "cell_type": "markdown",
   "metadata": {}
  },
  {
   "cell_type": "code",
   "execution_count": 42,
   "metadata": {},
   "outputs": [],
   "source": [
    "df_filt['County_ID'] = df_filt['location_key'].apply(lambda x : x.split(\"_\")[2])\n",
    "df_filt['County_ID'] = pd.to_numeric(df_filt['County_ID'])\n",
    "\n",
    "path = Path(\"../../data/popdens\")\n",
    "df = pd.read_csv(path / \"0_50_n.csv\")\n",
    "df = df[0:0]\n",
    "for x in path.iterdir():\n",
    "    df=pd.concat([df,pd.read_csv(x)],ignore_index=True)\n",
    "df['County_ID'] = pd.to_numeric(df['County_ID'])"
   ]
  },
  {
   "cell_type": "code",
   "execution_count": 44,
   "metadata": {},
   "outputs": [],
   "source": [
    "# temp = pd.read_csv(\"../../data/cams_data.csv\")\n",
    "# temp.info()"
   ]
  },
  {
   "cell_type": "code",
   "execution_count": 50,
   "metadata": {},
   "outputs": [
    {
     "output_type": "error",
     "ename": "KeyError",
     "evalue": "'County_ID'",
     "traceback": [
      "\u001b[0;31m---------------------------------------------------------------------------\u001b[0m",
      "\u001b[0;31mKeyError\u001b[0m                                  Traceback (most recent call last)",
      "\u001b[0;32m<ipython-input-50-d8e733248de7>\u001b[0m in \u001b[0;36m<module>\u001b[0;34m\u001b[0m\n\u001b[0;32m----> 1\u001b[0;31m \u001b[0mres\u001b[0m \u001b[0;34m=\u001b[0m \u001b[0mpd\u001b[0m\u001b[0;34m.\u001b[0m\u001b[0mmerge\u001b[0m\u001b[0;34m(\u001b[0m\u001b[0mdf_filt\u001b[0m\u001b[0;34m,\u001b[0m\u001b[0mdf\u001b[0m\u001b[0;34m,\u001b[0m\u001b[0mhow\u001b[0m\u001b[0;34m=\u001b[0m\u001b[0;34m'left'\u001b[0m\u001b[0;34m,\u001b[0m\u001b[0mon\u001b[0m\u001b[0;34m=\u001b[0m\u001b[0;34m'County_ID'\u001b[0m\u001b[0;34m)\u001b[0m\u001b[0;34m\u001b[0m\u001b[0;34m\u001b[0m\u001b[0m\n\u001b[0m\u001b[1;32m      2\u001b[0m \u001b[0mres\u001b[0m \u001b[0;34m=\u001b[0m \u001b[0mres\u001b[0m\u001b[0;34m.\u001b[0m\u001b[0mdrop\u001b[0m\u001b[0;34m(\u001b[0m\u001b[0mlabels\u001b[0m\u001b[0;34m=\u001b[0m\u001b[0;34m[\u001b[0m\u001b[0;34m\"location_key\"\u001b[0m\u001b[0;34m,\u001b[0m\u001b[0;34m\"State\"\u001b[0m\u001b[0;34m,\u001b[0m\u001b[0;34m\"County\"\u001b[0m\u001b[0;34m,\u001b[0m\u001b[0;34m\"Mesure\"\u001b[0m\u001b[0;34m]\u001b[0m\u001b[0;34m,\u001b[0m\u001b[0maxis\u001b[0m\u001b[0;34m=\u001b[0m\u001b[0;34m'columns'\u001b[0m\u001b[0;34m)\u001b[0m\u001b[0;34m\u001b[0m\u001b[0;34m\u001b[0m\u001b[0m\n\u001b[1;32m      3\u001b[0m \u001b[0mres\u001b[0m \u001b[0;34m=\u001b[0m \u001b[0mres\u001b[0m\u001b[0;34m.\u001b[0m\u001b[0mdrop\u001b[0m\u001b[0;34m(\u001b[0m\u001b[0mlabels\u001b[0m\u001b[0;34m=\u001b[0m\u001b[0;34m[\u001b[0m\u001b[0;34m\"rainfall_mm\"\u001b[0m\u001b[0;34m,\u001b[0m\u001b[0;34m\"snowfall_mm\"\u001b[0m\u001b[0;34m]\u001b[0m\u001b[0;34m,\u001b[0m \u001b[0maxis\u001b[0m\u001b[0;34m=\u001b[0m\u001b[0;34m'columns'\u001b[0m\u001b[0;34m)\u001b[0m\u001b[0;34m\u001b[0m\u001b[0;34m\u001b[0m\u001b[0m\n\u001b[1;32m      4\u001b[0m \u001b[0;31m# res = res.rename(columns={\"County_ID\" : \"county_id\", \"Pop_density\" : \"pop_density\"})\u001b[0m\u001b[0;34m\u001b[0m\u001b[0;34m\u001b[0m\u001b[0;34m\u001b[0m\u001b[0m\n\u001b[1;32m      5\u001b[0m \u001b[0mres\u001b[0m \u001b[0;34m=\u001b[0m \u001b[0mres\u001b[0m\u001b[0;34m.\u001b[0m\u001b[0mdrop\u001b[0m\u001b[0;34m(\u001b[0m\u001b[0;34m[\u001b[0m\u001b[0;34m\"average_temperature_celsius\"\u001b[0m\u001b[0;34m,\u001b[0m \u001b[0;34m\"minimum_temperature_celsius\"\u001b[0m\u001b[0;34m,\u001b[0m \u001b[0;34m\"maximum_temperature_celsius\"\u001b[0m\u001b[0;34m]\u001b[0m\u001b[0;34m,\u001b[0m \u001b[0maxis\u001b[0m\u001b[0;34m=\u001b[0m\u001b[0;36m1\u001b[0m\u001b[0;34m)\u001b[0m\u001b[0;34m\u001b[0m\u001b[0;34m\u001b[0m\u001b[0m\n",
      "\u001b[0;32m~/Library/Caches/pypoetry/virtualenvs/projectx-udem-2XMjfT56-py3.8/lib/python3.8/site-packages/pandas/core/reshape/merge.py\u001b[0m in \u001b[0;36mmerge\u001b[0;34m(left, right, how, on, left_on, right_on, left_index, right_index, sort, suffixes, copy, indicator, validate)\u001b[0m\n\u001b[1;32m     72\u001b[0m     \u001b[0mvalidate\u001b[0m\u001b[0;34m=\u001b[0m\u001b[0;32mNone\u001b[0m\u001b[0;34m,\u001b[0m\u001b[0;34m\u001b[0m\u001b[0;34m\u001b[0m\u001b[0m\n\u001b[1;32m     73\u001b[0m ) -> \"DataFrame\":\n\u001b[0;32m---> 74\u001b[0;31m     op = _MergeOperation(\n\u001b[0m\u001b[1;32m     75\u001b[0m         \u001b[0mleft\u001b[0m\u001b[0;34m,\u001b[0m\u001b[0;34m\u001b[0m\u001b[0;34m\u001b[0m\u001b[0m\n\u001b[1;32m     76\u001b[0m         \u001b[0mright\u001b[0m\u001b[0;34m,\u001b[0m\u001b[0;34m\u001b[0m\u001b[0;34m\u001b[0m\u001b[0m\n",
      "\u001b[0;32m~/Library/Caches/pypoetry/virtualenvs/projectx-udem-2XMjfT56-py3.8/lib/python3.8/site-packages/pandas/core/reshape/merge.py\u001b[0m in \u001b[0;36m__init__\u001b[0;34m(self, left, right, how, on, left_on, right_on, axis, left_index, right_index, sort, suffixes, copy, indicator, validate)\u001b[0m\n\u001b[1;32m    650\u001b[0m             \u001b[0mself\u001b[0m\u001b[0;34m.\u001b[0m\u001b[0mright_join_keys\u001b[0m\u001b[0;34m,\u001b[0m\u001b[0;34m\u001b[0m\u001b[0;34m\u001b[0m\u001b[0m\n\u001b[1;32m    651\u001b[0m             \u001b[0mself\u001b[0m\u001b[0;34m.\u001b[0m\u001b[0mjoin_names\u001b[0m\u001b[0;34m,\u001b[0m\u001b[0;34m\u001b[0m\u001b[0;34m\u001b[0m\u001b[0m\n\u001b[0;32m--> 652\u001b[0;31m         ) = self._get_merge_keys()\n\u001b[0m\u001b[1;32m    653\u001b[0m \u001b[0;34m\u001b[0m\u001b[0m\n\u001b[1;32m    654\u001b[0m         \u001b[0;31m# validate the merge keys dtypes. We may need to coerce\u001b[0m\u001b[0;34m\u001b[0m\u001b[0;34m\u001b[0m\u001b[0;34m\u001b[0m\u001b[0m\n",
      "\u001b[0;32m~/Library/Caches/pypoetry/virtualenvs/projectx-udem-2XMjfT56-py3.8/lib/python3.8/site-packages/pandas/core/reshape/merge.py\u001b[0m in \u001b[0;36m_get_merge_keys\u001b[0;34m(self)\u001b[0m\n\u001b[1;32m   1003\u001b[0m                     \u001b[0;32mif\u001b[0m \u001b[0;32mnot\u001b[0m \u001b[0mis_rkey\u001b[0m\u001b[0;34m(\u001b[0m\u001b[0mrk\u001b[0m\u001b[0;34m)\u001b[0m\u001b[0;34m:\u001b[0m\u001b[0;34m\u001b[0m\u001b[0;34m\u001b[0m\u001b[0m\n\u001b[1;32m   1004\u001b[0m                         \u001b[0;32mif\u001b[0m \u001b[0mrk\u001b[0m \u001b[0;32mis\u001b[0m \u001b[0;32mnot\u001b[0m \u001b[0;32mNone\u001b[0m\u001b[0;34m:\u001b[0m\u001b[0;34m\u001b[0m\u001b[0;34m\u001b[0m\u001b[0m\n\u001b[0;32m-> 1005\u001b[0;31m                             \u001b[0mright_keys\u001b[0m\u001b[0;34m.\u001b[0m\u001b[0mappend\u001b[0m\u001b[0;34m(\u001b[0m\u001b[0mright\u001b[0m\u001b[0;34m.\u001b[0m\u001b[0m_get_label_or_level_values\u001b[0m\u001b[0;34m(\u001b[0m\u001b[0mrk\u001b[0m\u001b[0;34m)\u001b[0m\u001b[0;34m)\u001b[0m\u001b[0;34m\u001b[0m\u001b[0;34m\u001b[0m\u001b[0m\n\u001b[0m\u001b[1;32m   1006\u001b[0m                         \u001b[0;32melse\u001b[0m\u001b[0;34m:\u001b[0m\u001b[0;34m\u001b[0m\u001b[0;34m\u001b[0m\u001b[0m\n\u001b[1;32m   1007\u001b[0m                             \u001b[0;31m# work-around for merge_asof(right_index=True)\u001b[0m\u001b[0;34m\u001b[0m\u001b[0;34m\u001b[0m\u001b[0;34m\u001b[0m\u001b[0m\n",
      "\u001b[0;32m~/Library/Caches/pypoetry/virtualenvs/projectx-udem-2XMjfT56-py3.8/lib/python3.8/site-packages/pandas/core/generic.py\u001b[0m in \u001b[0;36m_get_label_or_level_values\u001b[0;34m(self, key, axis)\u001b[0m\n\u001b[1;32m   1561\u001b[0m             \u001b[0mvalues\u001b[0m \u001b[0;34m=\u001b[0m \u001b[0mself\u001b[0m\u001b[0;34m.\u001b[0m\u001b[0maxes\u001b[0m\u001b[0;34m[\u001b[0m\u001b[0maxis\u001b[0m\u001b[0;34m]\u001b[0m\u001b[0;34m.\u001b[0m\u001b[0mget_level_values\u001b[0m\u001b[0;34m(\u001b[0m\u001b[0mkey\u001b[0m\u001b[0;34m)\u001b[0m\u001b[0;34m.\u001b[0m\u001b[0m_values\u001b[0m\u001b[0;34m\u001b[0m\u001b[0;34m\u001b[0m\u001b[0m\n\u001b[1;32m   1562\u001b[0m         \u001b[0;32melse\u001b[0m\u001b[0;34m:\u001b[0m\u001b[0;34m\u001b[0m\u001b[0;34m\u001b[0m\u001b[0m\n\u001b[0;32m-> 1563\u001b[0;31m             \u001b[0;32mraise\u001b[0m \u001b[0mKeyError\u001b[0m\u001b[0;34m(\u001b[0m\u001b[0mkey\u001b[0m\u001b[0;34m)\u001b[0m\u001b[0;34m\u001b[0m\u001b[0;34m\u001b[0m\u001b[0m\n\u001b[0m\u001b[1;32m   1564\u001b[0m \u001b[0;34m\u001b[0m\u001b[0m\n\u001b[1;32m   1565\u001b[0m         \u001b[0;31m# Check for duplicates\u001b[0m\u001b[0;34m\u001b[0m\u001b[0;34m\u001b[0m\u001b[0;34m\u001b[0m\u001b[0m\n",
      "\u001b[0;31mKeyError\u001b[0m: 'County_ID'"
     ]
    }
   ],
   "source": [
    "res = pd.merge(df_filt,df,how='left',on='County_ID')\n",
    "res = res.drop(labels=[\"location_key\",\"State\",\"County\",\"Mesure\"],axis='columns')\n",
    "res = res.drop(labels=[\"rainfall_mm\",\"snowfall_mm\"], axis='columns')\n",
    "res = res.rename(columns={\"County_ID\" : \"county_id\", \"Pop_density\" : \"pop_density\"})\n",
    "res = res.drop([\"average_temperature_celsius\", \"minimum_temperature_celsius\", \"maximum_temperature_celsius\"], axis=1)\n",
    "res.to_csv(\"../../data_processed/usa_top30_with_density\")\n",
    "res"
   ]
  },
  {
   "cell_type": "code",
   "execution_count": 48,
   "metadata": {},
   "outputs": [
    {
     "output_type": "stream",
     "name": "stdout",
     "text": [
      "<class 'pandas.core.frame.DataFrame'>\nInt64Index: 62600 entries, 0 to 62599\nData columns (total 22 columns):\n #   Column                          Non-Null Count  Dtype         \n---  ------                          --------------  -----         \n 0   date                            62600 non-null  datetime64[ns]\n 1   location_key                    62600 non-null  object        \n 2   new_confirmed                   62600 non-null  float64       \n 3   new_deceased                    62600 non-null  float64       \n 4   cumulative_confirmed            62600 non-null  float64       \n 5   cumulative_deceased             62600 non-null  float64       \n 6   mobility_transit_stations       62600 non-null  float64       \n 7   mobility_retail_and_recreation  62600 non-null  float64       \n 8   mobility_grocery_and_pharmacy   62600 non-null  float64       \n 9   mobility_parks                  62600 non-null  float64       \n 10  mobility_residential            62600 non-null  float64       \n 11  mobility_workplaces             62600 non-null  float64       \n 12  average_temperature_celsius     62600 non-null  float64       \n 13  minimum_temperature_celsius     62600 non-null  float64       \n 14  maximum_temperature_celsius     62600 non-null  float64       \n 15  rainfall_mm                     62600 non-null  float64       \n 16  snowfall_mm                     62600 non-null  float64       \n 17  County_ID                       62600 non-null  int64         \n 18  State                           51645 non-null  object        \n 19  County                          51645 non-null  object        \n 20  Pop_density                     51645 non-null  float64       \n 21  Mesure                          51645 non-null  object        \ndtypes: datetime64[ns](1), float64(16), int64(1), object(4)\nmemory usage: 11.0+ MB\n"
     ]
    }
   ],
   "source": [
    "res.info()"
   ]
  },
  {
   "cell_type": "code",
   "execution_count": 30,
   "metadata": {},
   "outputs": [],
   "source": []
  },
  {
   "cell_type": "code",
   "execution_count": null,
   "metadata": {},
   "outputs": [],
   "source": []
  }
 ]
}